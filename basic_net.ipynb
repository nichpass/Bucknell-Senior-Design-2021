{
 "cells": [
  {
   "cell_type": "code",
   "execution_count": 1,
   "metadata": {},
   "outputs": [],
   "source": [
    "import torch\n",
    "import torchvision"
   ]
  },
  {
   "cell_type": "code",
   "execution_count": 2,
   "metadata": {},
   "outputs": [
    {
     "data": {
      "text/plain": [
       "<torch._C.Generator at 0x7fe2a70fdb70>"
      ]
     },
     "execution_count": 2,
     "metadata": {},
     "output_type": "execute_result"
    }
   ],
   "source": [
    "n_epochs = 3\n",
    "batch_size_train = 64\n",
    "batch_size_test = 1000\n",
    "learning_rate = 0.01\n",
    "momentum = 0.5\n",
    "log_interval = 10\n",
    "\n",
    "random_seed = 1\n",
    "torch.backends.cudnn.enabled = False\n",
    "torch.manual_seed(random_seed)"
   ]
  },
  {
   "cell_type": "code",
   "execution_count": 4,
   "metadata": {},
   "outputs": [
    {
     "name": "stdout",
     "output_type": "stream",
     "text": [
      "Downloading http://yann.lecun.com/exdb/mnist/train-images-idx3-ubyte.gz to ./mnist/MNIST/raw/train-images-idx3-ubyte.gz\n"
     ]
    },
    {
     "data": {
      "application/vnd.jupyter.widget-view+json": {
       "model_id": "5931f82568134fab87636bf39330a2c2",
       "version_major": 2,
       "version_minor": 0
      },
      "text/plain": [
       "HBox(children=(FloatProgress(value=1.0, bar_style='info', layout=Layout(width='20px'), max=1.0), HTML(value=''…"
      ]
     },
     "metadata": {},
     "output_type": "display_data"
    },
    {
     "name": "stdout",
     "output_type": "stream",
     "text": [
      "Extracting ./mnist/MNIST/raw/train-images-idx3-ubyte.gz to ./mnist/MNIST/raw\n",
      "Downloading http://yann.lecun.com/exdb/mnist/train-labels-idx1-ubyte.gz to ./mnist/MNIST/raw/train-labels-idx1-ubyte.gz\n"
     ]
    },
    {
     "data": {
      "application/vnd.jupyter.widget-view+json": {
       "model_id": "f13c2ce799de4cc8a591e4c2e1d362a9",
       "version_major": 2,
       "version_minor": 0
      },
      "text/plain": [
       "HBox(children=(FloatProgress(value=1.0, bar_style='info', layout=Layout(width='20px'), max=1.0), HTML(value=''…"
      ]
     },
     "metadata": {},
     "output_type": "display_data"
    },
    {
     "name": "stdout",
     "output_type": "stream",
     "text": [
      "Extracting ./mnist/MNIST/raw/train-labels-idx1-ubyte.gz to ./mnist/MNIST/raw\n",
      "Downloading http://yann.lecun.com/exdb/mnist/t10k-images-idx3-ubyte.gz to ./mnist/MNIST/raw/t10k-images-idx3-ubyte.gz\n"
     ]
    },
    {
     "data": {
      "application/vnd.jupyter.widget-view+json": {
       "model_id": "0bdd670cf8ab45ec9d58b84c3a1be2ab",
       "version_major": 2,
       "version_minor": 0
      },
      "text/plain": [
       "HBox(children=(FloatProgress(value=1.0, bar_style='info', layout=Layout(width='20px'), max=1.0), HTML(value=''…"
      ]
     },
     "metadata": {},
     "output_type": "display_data"
    },
    {
     "name": "stdout",
     "output_type": "stream",
     "text": [
      "Extracting ./mnist/MNIST/raw/t10k-images-idx3-ubyte.gz to ./mnist/MNIST/raw\n",
      "Downloading http://yann.lecun.com/exdb/mnist/t10k-labels-idx1-ubyte.gz to ./mnist/MNIST/raw/t10k-labels-idx1-ubyte.gz\n"
     ]
    },
    {
     "data": {
      "application/vnd.jupyter.widget-view+json": {
       "model_id": "618e653864ce4363ac05c98f1d2ac738",
       "version_major": 2,
       "version_minor": 0
      },
      "text/plain": [
       "HBox(children=(FloatProgress(value=1.0, bar_style='info', layout=Layout(width='20px'), max=1.0), HTML(value=''…"
      ]
     },
     "metadata": {},
     "output_type": "display_data"
    },
    {
     "name": "stdout",
     "output_type": "stream",
     "text": [
      "Extracting ./mnist/MNIST/raw/t10k-labels-idx1-ubyte.gz to ./mnist/MNIST/raw\n",
      "Processing...\n"
     ]
    },
    {
     "name": "stderr",
     "output_type": "stream",
     "text": [
      "/tmp/pip-req-build-w9kte7xz/torch/csrc/utils/tensor_numpy.cpp:141: UserWarning: The given NumPy array is not writeable, and PyTorch does not support non-writeable tensors. This means you can write to the underlying (supposedly non-writeable) NumPy array using the tensor. You may want to copy the array to protect its data or make it writeable before converting it to a tensor. This type of warning will be suppressed for the rest of this program.\n"
     ]
    },
    {
     "name": "stdout",
     "output_type": "stream",
     "text": [
      "Done!\n",
      "\n",
      "\n",
      "\n"
     ]
    }
   ],
   "source": [
    "train_loader = torch.utils.data.DataLoader(\n",
    "  torchvision.datasets.MNIST('./mnist/', train=True, download=True,\n",
    "                             transform=torchvision.transforms.Compose([\n",
    "                               torchvision.transforms.ToTensor(),\n",
    "                               torchvision.transforms.Normalize(\n",
    "                                 (0.1307,), (0.3081,))\n",
    "                             ])),\n",
    "  batch_size=batch_size_train, shuffle=True)\n",
    "\n",
    "test_loader = torch.utils.data.DataLoader(\n",
    "  torchvision.datasets.MNIST('./mnist/', train=False, download=True,\n",
    "                             transform=torchvision.transforms.Compose([\n",
    "                               torchvision.transforms.ToTensor(),\n",
    "                               torchvision.transforms.Normalize(\n",
    "                                 (0.1307,), (0.3081,))\n",
    "                             ])),\n",
    "  batch_size=batch_size_test, shuffle=True)"
   ]
  },
  {
   "cell_type": "code",
   "execution_count": 5,
   "metadata": {},
   "outputs": [],
   "source": [
    "examples = enumerate(test_loader)\n",
    "batch_idx, (example_data, example_targets) = next(examples)"
   ]
  },
  {
   "cell_type": "code",
   "execution_count": 6,
   "metadata": {},
   "outputs": [
    {
     "data": {
      "text/plain": [
       "torch.Size([1000, 1, 28, 28])"
      ]
     },
     "execution_count": 6,
     "metadata": {},
     "output_type": "execute_result"
    }
   ],
   "source": [
    "example_data.shape"
   ]
  },
  {
   "cell_type": "code",
   "execution_count": 7,
   "metadata": {},
   "outputs": [
    {
     "name": "stdout",
     "output_type": "stream",
     "text": [
      "\n"
     ]
    },
    {
     "data": {
      "image/png": "[encoded data removed]",
      "text/plain": [
       "<Figure size 432x288 with 6 Axes>"
      ]
     },
     "execution_count": 7,
     "metadata": {},
     "output_type": "execute_result"
    },
    {
     "data": {
      "image/png": "[encoded data removed]",
      "text/plain": [
       "<Figure size 432x288 with 6 Axes>"
      ]
     },
     "metadata": {},
     "output_type": "display_data"
    }
   ],
   "source": [
    "import matplotlib.pyplot as plt\n",
    "\n",
    "fig = plt.figure()\n",
    "for i in range(6):\n",
    "  plt.subplot(2,3,i+1)\n",
    "  plt.tight_layout()\n",
    "  plt.imshow(example_data[i][0], cmap='gray', interpolation='none')\n",
    "  plt.title(\"Ground Truth: {}\".format(example_targets[i]))\n",
    "  plt.xticks([])\n",
    "  plt.yticks([])\n",
    "fig"
   ]
  },
  {
   "cell_type": "code",
   "execution_count": 8,
   "metadata": {},
   "outputs": [],
   "source": [
    "import torch.nn as nn\n",
    "import torch.nn.functional as F\n",
    "import torch.optim as optim"
   ]
  },
  {
   "cell_type": "code",
   "execution_count": 9,
   "metadata": {},
   "outputs": [],
   "source": [
    "class Net(nn.Module):\n",
    "    def __init__(self):\n",
    "        super(Net, self).__init__()\n",
    "        self.conv1 = nn.Conv2d(1, 10, kernel_size=5)\n",
    "        self.conv2 = nn.Conv2d(10, 20, kernel_size=5)\n",
    "        self.conv2_drop = nn.Dropout2d()\n",
    "        self.fc1 = nn.Linear(320, 50)\n",
    "        self.fc2 = nn.Linear(50, 10)\n",
    "\n",
    "    def forward(self, x):\n",
    "        x = F.relu(F.max_pool2d(self.conv1(x), 2))\n",
    "        x = F.relu(F.max_pool2d(self.conv2_drop(self.conv2(x)), 2))\n",
    "        x = x.view(-1, 320)\n",
    "        x = F.relu(self.fc1(x))\n",
    "        x = F.dropout(x, training=self.training)\n",
    "        x = self.fc2(x)\n",
    "        return F.log_softmax(x)"
   ]
  },
  {
   "cell_type": "code",
   "execution_count": 10,
   "metadata": {},
   "outputs": [],
   "source": [
    "network = Net()\n",
    "optimizer = optim.SGD(network.parameters(), lr=learning_rate,\n",
    "                      momentum=momentum)"
   ]
  },
  {
   "cell_type": "code",
   "execution_count": 11,
   "metadata": {},
   "outputs": [],
   "source": [
    "train_losses = []\n",
    "train_counter = []\n",
    "test_losses = []\n",
    "test_counter = [i*len(train_loader.dataset) for i in range(n_epochs + 1)]"
   ]
  },
  {
   "cell_type": "code",
   "execution_count": 16,
   "metadata": {},
   "outputs": [],
   "source": [
    "def train(epoch):\n",
    "  network.train()\n",
    "  for batch_idx, (data, target) in enumerate(train_loader):\n",
    "    optimizer.zero_grad()\n",
    "    output = network(data)\n",
    "    loss = F.nll_loss(output, target)\n",
    "    loss.backward()\n",
    "    optimizer.step()\n",
    "    if batch_idx % log_interval == 0:\n",
    "      print('Train Epoch: {} [{}/{} ({:.0f}%)]\\tLoss: {:.6f}'.format(\n",
    "        epoch, batch_idx * len(data), len(train_loader.dataset),\n",
    "        100. * batch_idx / len(train_loader), loss.item()))\n",
    "      train_losses.append(loss.item())\n",
    "      train_counter.append(\n",
    "        (batch_idx*64) + ((epoch-1)*len(train_loader.dataset)))\n",
    "      torch.save(network.state_dict(), './results/model.pth')\n",
    "      torch.save(optimizer.state_dict(), './results/optimizer.pth')"
   ]
  },
  {
   "cell_type": "code",
   "execution_count": 17,
   "metadata": {},
   "outputs": [],
   "source": [
    "def test():\n",
    "  network.eval()\n",
    "  test_loss = 0\n",
    "  correct = 0\n",
    "  with torch.no_grad():\n",
    "    for data, target in test_loader:\n",
    "      output = network(data)\n",
    "      test_loss += F.nll_loss(output, target, size_average=False).item()\n",
    "      pred = output.data.max(1, keepdim=True)[1]\n",
    "      correct += pred.eq(target.data.view_as(pred)).sum()\n",
    "  test_loss /= len(test_loader.dataset)\n",
    "  test_losses.append(test_loss)\n",
    "  print('\\nTest set: Avg. loss: {:.4f}, Accuracy: {}/{} ({:.0f}%)\\n'.format(\n",
    "    test_loss, correct, len(test_loader.dataset),\n",
    "    100. * correct / len(test_loader.dataset)))"
   ]
  },
  {
   "cell_type": "code",
   "execution_count": 18,
   "metadata": {},
   "outputs": [
    {
     "name": "stderr",
     "output_type": "stream",
     "text": [
      "/usr/remote/anaconda-3.7-2020-08-12/lib/python3.7/site-packages/ipykernel_launcher.py:17: UserWarning: Implicit dimension choice for log_softmax has been deprecated. Change the call to include dim=X as an argument.\n"
     ]
    },
    {
     "name": "stdout",
     "output_type": "stream",
     "text": [
      "\n",
      "Test set: Avg. loss: 2.2975, Accuracy: 844/10000 (8%)\n",
      "\n",
      "Train Epoch: 1 [0/60000 (0%)]\tLoss: 2.345037\n",
      "Train Epoch: 1 [640/60000 (1%)]\tLoss: 2.256796\n",
      "Train Epoch: 1 [1280/60000 (2%)]\tLoss: 2.295717\n",
      "Train Epoch: 1 [1920/60000 (3%)]\tLoss: 2.245368\n",
      "Train Epoch: 1 [2560/60000 (4%)]\tLoss: 2.247254\n",
      "Train Epoch: 1 [3200/60000 (5%)]\tLoss: 2.221046\n",
      "Train Epoch: 1 [3840/60000 (6%)]\tLoss: 2.112716\n",
      "Train Epoch: 1 [4480/60000 (7%)]\tLoss: 2.171122\n",
      "Train Epoch: 1 [5120/60000 (9%)]\tLoss: 2.103431\n",
      "Train Epoch: 1 [5760/60000 (10%)]\tLoss: 1.878545\n",
      "Train Epoch: 1 [6400/60000 (11%)]\tLoss: 1.902379\n",
      "Train Epoch: 1 [7040/60000 (12%)]\tLoss: 2.017446\n",
      "Train Epoch: 1 [7680/60000 (13%)]\tLoss: 1.694964\n",
      "Train Epoch: 1 [8320/60000 (14%)]\tLoss: 1.473172\n",
      "Train Epoch: 1 [8960/60000 (15%)]\tLoss: 1.730260\n",
      "Train Epoch: 1 [9600/60000 (16%)]\tLoss: 1.514003\n",
      "Train Epoch: 1 [10240/60000 (17%)]\tLoss: 1.279731\n",
      "Train Epoch: 1 [10880/60000 (18%)]\tLoss: 1.403081\n",
      "Train Epoch: 1 [11520/60000 (19%)]\tLoss: 1.202962\n",
      "Train Epoch: 1 [12160/60000 (20%)]\tLoss: 1.305213\n",
      "Train Epoch: 1 [12800/60000 (21%)]\tLoss: 1.190207\n",
      "Train Epoch: 1 [13440/60000 (22%)]\tLoss: 1.241206\n",
      "Train Epoch: 1 [14080/60000 (23%)]\tLoss: 0.981637\n",
      "Train Epoch: 1 [14720/60000 (25%)]\tLoss: 0.993431\n",
      "Train Epoch: 1 [15360/60000 (26%)]\tLoss: 0.957802\n",
      "Train Epoch: 1 [16000/60000 (27%)]\tLoss: 0.897704\n",
      "Train Epoch: 1 [16640/60000 (28%)]\tLoss: 0.918175\n",
      "Train Epoch: 1 [17280/60000 (29%)]\tLoss: 0.816712\n",
      "Train Epoch: 1 [17920/60000 (30%)]\tLoss: 0.929593\n",
      "Train Epoch: 1 [18560/60000 (31%)]\tLoss: 0.955960\n",
      "Train Epoch: 1 [19200/60000 (32%)]\tLoss: 0.927780\n",
      "Train Epoch: 1 [19840/60000 (33%)]\tLoss: 0.716235\n",
      "Train Epoch: 1 [20480/60000 (34%)]\tLoss: 0.698480\n",
      "Train Epoch: 1 [21120/60000 (35%)]\tLoss: 0.781748\n",
      "Train Epoch: 1 [21760/60000 (36%)]\tLoss: 0.997841\n",
      "Train Epoch: 1 [22400/60000 (37%)]\tLoss: 1.009118\n",
      "Train Epoch: 1 [23040/60000 (38%)]\tLoss: 0.703848\n",
      "Train Epoch: 1 [23680/60000 (39%)]\tLoss: 0.802985\n",
      "Train Epoch: 1 [24320/60000 (41%)]\tLoss: 0.583962\n",
      "Train Epoch: 1 [24960/60000 (42%)]\tLoss: 0.770674\n",
      "Train Epoch: 1 [25600/60000 (43%)]\tLoss: 0.623129\n",
      "Train Epoch: 1 [26240/60000 (44%)]\tLoss: 0.619315\n",
      "Train Epoch: 1 [26880/60000 (45%)]\tLoss: 0.658486\n",
      "Train Epoch: 1 [27520/60000 (46%)]\tLoss: 0.824989\n",
      "Train Epoch: 1 [28160/60000 (47%)]\tLoss: 0.615053\n",
      "Train Epoch: 1 [28800/60000 (48%)]\tLoss: 0.926679\n",
      "Train Epoch: 1 [29440/60000 (49%)]\tLoss: 0.741050\n",
      "Train Epoch: 1 [30080/60000 (50%)]\tLoss: 0.625903\n",
      "Train Epoch: 1 [30720/60000 (51%)]\tLoss: 0.699968\n",
      "Train Epoch: 1 [31360/60000 (52%)]\tLoss: 0.568347\n",
      "Train Epoch: 1 [32000/60000 (53%)]\tLoss: 0.788213\n",
      "Train Epoch: 1 [32640/60000 (54%)]\tLoss: 0.804515\n",
      "Train Epoch: 1 [33280/60000 (55%)]\tLoss: 0.745919\n",
      "Train Epoch: 1 [33920/60000 (57%)]\tLoss: 0.400557\n",
      "Train Epoch: 1 [34560/60000 (58%)]\tLoss: 0.392963\n",
      "Train Epoch: 1 [35200/60000 (59%)]\tLoss: 0.313596\n",
      "Train Epoch: 1 [35840/60000 (60%)]\tLoss: 0.550481\n",
      "Train Epoch: 1 [36480/60000 (61%)]\tLoss: 0.846008\n",
      "Train Epoch: 1 [37120/60000 (62%)]\tLoss: 0.668498\n",
      "Train Epoch: 1 [37760/60000 (63%)]\tLoss: 0.509664\n",
      "Train Epoch: 1 [38400/60000 (64%)]\tLoss: 0.518805\n",
      "Train Epoch: 1 [39040/60000 (65%)]\tLoss: 0.554672\n",
      "Train Epoch: 1 [39680/60000 (66%)]\tLoss: 0.401737\n",
      "Train Epoch: 1 [40320/60000 (67%)]\tLoss: 0.718229\n",
      "Train Epoch: 1 [40960/60000 (68%)]\tLoss: 0.458254\n",
      "Train Epoch: 1 [41600/60000 (69%)]\tLoss: 0.715251\n",
      "Train Epoch: 1 [42240/60000 (70%)]\tLoss: 0.494568\n",
      "Train Epoch: 1 [42880/60000 (71%)]\tLoss: 0.559668\n",
      "Train Epoch: 1 [43520/60000 (72%)]\tLoss: 0.770530\n",
      "Train Epoch: 1 [44160/60000 (74%)]\tLoss: 0.430910\n",
      "Train Epoch: 1 [44800/60000 (75%)]\tLoss: 0.321938\n",
      "Train Epoch: 1 [45440/60000 (76%)]\tLoss: 0.463156\n",
      "Train Epoch: 1 [46080/60000 (77%)]\tLoss: 0.656360\n",
      "Train Epoch: 1 [46720/60000 (78%)]\tLoss: 0.463383\n",
      "Train Epoch: 1 [47360/60000 (79%)]\tLoss: 0.413836\n",
      "Train Epoch: 1 [48000/60000 (80%)]\tLoss: 0.801296\n",
      "Train Epoch: 1 [48640/60000 (81%)]\tLoss: 0.594072\n",
      "Train Epoch: 1 [49280/60000 (82%)]\tLoss: 0.781716\n",
      "Train Epoch: 1 [49920/60000 (83%)]\tLoss: 0.577523\n",
      "Train Epoch: 1 [50560/60000 (84%)]\tLoss: 0.464157\n",
      "Train Epoch: 1 [51200/60000 (85%)]\tLoss: 0.626864\n",
      "Train Epoch: 1 [51840/60000 (86%)]\tLoss: 0.782052\n",
      "Train Epoch: 1 [52480/60000 (87%)]\tLoss: 0.420331\n",
      "Train Epoch: 1 [53120/60000 (88%)]\tLoss: 0.371728\n",
      "Train Epoch: 1 [53760/60000 (90%)]\tLoss: 0.456856\n",
      "Train Epoch: 1 [54400/60000 (91%)]\tLoss: 0.276744\n",
      "Train Epoch: 1 [55040/60000 (92%)]\tLoss: 0.491197\n",
      "Train Epoch: 1 [55680/60000 (93%)]\tLoss: 0.423254\n",
      "Train Epoch: 1 [56320/60000 (94%)]\tLoss: 0.676514\n",
      "Train Epoch: 1 [56960/60000 (95%)]\tLoss: 0.408132\n",
      "Train Epoch: 1 [57600/60000 (96%)]\tLoss: 0.479269\n",
      "Train Epoch: 1 [58240/60000 (97%)]\tLoss: 0.372720\n",
      "Train Epoch: 1 [58880/60000 (98%)]\tLoss: 0.368285\n",
      "Train Epoch: 1 [59520/60000 (99%)]\tLoss: 0.464901\n",
      "\n",
      "Test set: Avg. loss: 0.2014, Accuracy: 9391/10000 (94%)\n",
      "\n",
      "Train Epoch: 2 [0/60000 (0%)]\tLoss: 0.763276\n",
      "Train Epoch: 2 [640/60000 (1%)]\tLoss: 0.336071\n",
      "Train Epoch: 2 [1280/60000 (2%)]\tLoss: 0.353133\n",
      "Train Epoch: 2 [1920/60000 (3%)]\tLoss: 0.425126\n",
      "Train Epoch: 2 [2560/60000 (4%)]\tLoss: 0.412793\n",
      "Train Epoch: 2 [3200/60000 (5%)]\tLoss: 0.417092\n",
      "Train Epoch: 2 [3840/60000 (6%)]\tLoss: 0.295062\n",
      "Train Epoch: 2 [4480/60000 (7%)]\tLoss: 0.271730\n",
      "Train Epoch: 2 [5120/60000 (9%)]\tLoss: 0.347162\n",
      "Train Epoch: 2 [5760/60000 (10%)]\tLoss: 0.358571\n",
      "Train Epoch: 2 [6400/60000 (11%)]\tLoss: 0.323697\n",
      "Train Epoch: 2 [7040/60000 (12%)]\tLoss: 0.700704\n",
      "Train Epoch: 2 [7680/60000 (13%)]\tLoss: 0.465132\n",
      "Train Epoch: 2 [8320/60000 (14%)]\tLoss: 0.575571\n",
      "Train Epoch: 2 [8960/60000 (15%)]\tLoss: 0.284717\n",
      "Train Epoch: 2 [9600/60000 (16%)]\tLoss: 0.543708\n",
      "Train Epoch: 2 [10240/60000 (17%)]\tLoss: 0.638049\n",
      "Train Epoch: 2 [10880/60000 (18%)]\tLoss: 0.406912\n",
      "Train Epoch: 2 [11520/60000 (19%)]\tLoss: 0.349176\n",
      "Train Epoch: 2 [12160/60000 (20%)]\tLoss: 0.364255\n",
      "Train Epoch: 2 [12800/60000 (21%)]\tLoss: 0.269842\n",
      "Train Epoch: 2 [13440/60000 (22%)]\tLoss: 0.521339\n",
      "Train Epoch: 2 [14080/60000 (23%)]\tLoss: 0.284914\n",
      "Train Epoch: 2 [14720/60000 (25%)]\tLoss: 0.324692\n",
      "Train Epoch: 2 [15360/60000 (26%)]\tLoss: 0.388094\n",
      "Train Epoch: 2 [16000/60000 (27%)]\tLoss: 0.487164\n",
      "Train Epoch: 2 [16640/60000 (28%)]\tLoss: 0.651403\n",
      "Train Epoch: 2 [17280/60000 (29%)]\tLoss: 0.628772\n",
      "Train Epoch: 2 [17920/60000 (30%)]\tLoss: 0.359355\n",
      "Train Epoch: 2 [18560/60000 (31%)]\tLoss: 0.362745\n",
      "Train Epoch: 2 [19200/60000 (32%)]\tLoss: 0.258126\n",
      "Train Epoch: 2 [19840/60000 (33%)]\tLoss: 0.356424\n",
      "Train Epoch: 2 [20480/60000 (34%)]\tLoss: 0.386845\n",
      "Train Epoch: 2 [21120/60000 (35%)]\tLoss: 0.432119\n",
      "Train Epoch: 2 [21760/60000 (36%)]\tLoss: 0.281897\n",
      "Train Epoch: 2 [22400/60000 (37%)]\tLoss: 0.212755\n",
      "Train Epoch: 2 [23040/60000 (38%)]\tLoss: 0.295958\n",
      "Train Epoch: 2 [23680/60000 (39%)]\tLoss: 0.387543\n",
      "Train Epoch: 2 [24320/60000 (41%)]\tLoss: 0.555960\n",
      "Train Epoch: 2 [24960/60000 (42%)]\tLoss: 0.637898\n",
      "Train Epoch: 2 [25600/60000 (43%)]\tLoss: 0.522963\n",
      "Train Epoch: 2 [26240/60000 (44%)]\tLoss: 0.508885\n",
      "Train Epoch: 2 [26880/60000 (45%)]\tLoss: 0.431300\n",
      "Train Epoch: 2 [27520/60000 (46%)]\tLoss: 0.580564\n",
      "Train Epoch: 2 [28160/60000 (47%)]\tLoss: 0.371042\n",
      "Train Epoch: 2 [28800/60000 (48%)]\tLoss: 0.341471\n",
      "Train Epoch: 2 [29440/60000 (49%)]\tLoss: 0.297631\n",
      "Train Epoch: 2 [30080/60000 (50%)]\tLoss: 0.353544\n",
      "Train Epoch: 2 [30720/60000 (51%)]\tLoss: 0.283538\n",
      "Train Epoch: 2 [31360/60000 (52%)]\tLoss: 0.538404\n",
      "Train Epoch: 2 [32000/60000 (53%)]\tLoss: 0.347263\n",
      "Train Epoch: 2 [32640/60000 (54%)]\tLoss: 0.390044\n",
      "Train Epoch: 2 [33280/60000 (55%)]\tLoss: 0.393086\n",
      "Train Epoch: 2 [33920/60000 (57%)]\tLoss: 0.312863\n",
      "Train Epoch: 2 [34560/60000 (58%)]\tLoss: 0.561260\n",
      "Train Epoch: 2 [35200/60000 (59%)]\tLoss: 0.447592\n",
      "Train Epoch: 2 [35840/60000 (60%)]\tLoss: 0.209075\n",
      "Train Epoch: 2 [36480/60000 (61%)]\tLoss: 0.271557\n",
      "Train Epoch: 2 [37120/60000 (62%)]\tLoss: 0.636788\n",
      "Train Epoch: 2 [37760/60000 (63%)]\tLoss: 0.238592\n",
      "Train Epoch: 2 [38400/60000 (64%)]\tLoss: 0.470548\n",
      "Train Epoch: 2 [39040/60000 (65%)]\tLoss: 0.421522\n",
      "Train Epoch: 2 [39680/60000 (66%)]\tLoss: 0.845039\n",
      "Train Epoch: 2 [40320/60000 (67%)]\tLoss: 0.350969\n",
      "Train Epoch: 2 [40960/60000 (68%)]\tLoss: 0.198166\n",
      "Train Epoch: 2 [41600/60000 (69%)]\tLoss: 0.207578\n",
      "Train Epoch: 2 [42240/60000 (70%)]\tLoss: 0.251588\n",
      "Train Epoch: 2 [42880/60000 (71%)]\tLoss: 0.308686\n",
      "Train Epoch: 2 [43520/60000 (72%)]\tLoss: 0.438310\n",
      "Train Epoch: 2 [44160/60000 (74%)]\tLoss: 0.287650\n",
      "Train Epoch: 2 [44800/60000 (75%)]\tLoss: 0.441047\n",
      "Train Epoch: 2 [45440/60000 (76%)]\tLoss: 0.303421\n",
      "Train Epoch: 2 [46080/60000 (77%)]\tLoss: 0.384403\n",
      "Train Epoch: 2 [46720/60000 (78%)]\tLoss: 0.448076\n",
      "Train Epoch: 2 [47360/60000 (79%)]\tLoss: 0.267928\n",
      "Train Epoch: 2 [48000/60000 (80%)]\tLoss: 0.553901\n",
      "Train Epoch: 2 [48640/60000 (81%)]\tLoss: 0.611780\n",
      "Train Epoch: 2 [49280/60000 (82%)]\tLoss: 0.439367\n",
      "Train Epoch: 2 [49920/60000 (83%)]\tLoss: 0.491505\n",
      "Train Epoch: 2 [50560/60000 (84%)]\tLoss: 0.691839\n",
      "Train Epoch: 2 [51200/60000 (85%)]\tLoss: 0.394539\n",
      "Train Epoch: 2 [51840/60000 (86%)]\tLoss: 0.243051\n",
      "Train Epoch: 2 [52480/60000 (87%)]\tLoss: 0.245815\n",
      "Train Epoch: 2 [53120/60000 (88%)]\tLoss: 0.266039\n",
      "Train Epoch: 2 [53760/60000 (90%)]\tLoss: 0.243238\n",
      "Train Epoch: 2 [54400/60000 (91%)]\tLoss: 0.390098\n",
      "Train Epoch: 2 [55040/60000 (92%)]\tLoss: 0.442217\n",
      "Train Epoch: 2 [55680/60000 (93%)]\tLoss: 0.272127\n",
      "Train Epoch: 2 [56320/60000 (94%)]\tLoss: 0.427711\n",
      "Train Epoch: 2 [56960/60000 (95%)]\tLoss: 0.244141\n",
      "Train Epoch: 2 [57600/60000 (96%)]\tLoss: 0.596410\n",
      "Train Epoch: 2 [58240/60000 (97%)]\tLoss: 0.261755\n",
      "Train Epoch: 2 [58880/60000 (98%)]\tLoss: 0.197326\n",
      "Train Epoch: 2 [59520/60000 (99%)]\tLoss: 0.256869\n",
      "\n",
      "Test set: Avg. loss: 0.1303, Accuracy: 9617/10000 (96%)\n",
      "\n",
      "Train Epoch: 3 [0/60000 (0%)]\tLoss: 0.199811\n",
      "Train Epoch: 3 [640/60000 (1%)]\tLoss: 0.295730\n",
      "Train Epoch: 3 [1280/60000 (2%)]\tLoss: 0.154240\n",
      "Train Epoch: 3 [1920/60000 (3%)]\tLoss: 0.401265\n",
      "Train Epoch: 3 [2560/60000 (4%)]\tLoss: 0.361820\n",
      "Train Epoch: 3 [3200/60000 (5%)]\tLoss: 0.246889\n",
      "Train Epoch: 3 [3840/60000 (6%)]\tLoss: 0.301259\n",
      "Train Epoch: 3 [4480/60000 (7%)]\tLoss: 0.238269\n",
      "Train Epoch: 3 [5120/60000 (9%)]\tLoss: 0.277144\n",
      "Train Epoch: 3 [5760/60000 (10%)]\tLoss: 0.336164\n",
      "Train Epoch: 3 [6400/60000 (11%)]\tLoss: 0.324393\n",
      "Train Epoch: 3 [7040/60000 (12%)]\tLoss: 0.298977\n",
      "Train Epoch: 3 [7680/60000 (13%)]\tLoss: 0.171747\n",
      "Train Epoch: 3 [8320/60000 (14%)]\tLoss: 0.334709\n",
      "Train Epoch: 3 [8960/60000 (15%)]\tLoss: 0.304636\n",
      "Train Epoch: 3 [9600/60000 (16%)]\tLoss: 0.251545\n",
      "Train Epoch: 3 [10240/60000 (17%)]\tLoss: 0.265446\n",
      "Train Epoch: 3 [10880/60000 (18%)]\tLoss: 0.317200\n",
      "Train Epoch: 3 [11520/60000 (19%)]\tLoss: 0.209273\n",
      "Train Epoch: 3 [12160/60000 (20%)]\tLoss: 0.186003\n",
      "Train Epoch: 3 [12800/60000 (21%)]\tLoss: 0.277200\n",
      "Train Epoch: 3 [13440/60000 (22%)]\tLoss: 0.258038\n",
      "Train Epoch: 3 [14080/60000 (23%)]\tLoss: 0.252269\n",
      "Train Epoch: 3 [14720/60000 (25%)]\tLoss: 0.184917\n",
      "Train Epoch: 3 [15360/60000 (26%)]\tLoss: 0.378722\n",
      "Train Epoch: 3 [16000/60000 (27%)]\tLoss: 0.305317\n",
      "Train Epoch: 3 [16640/60000 (28%)]\tLoss: 0.248216\n",
      "Train Epoch: 3 [17280/60000 (29%)]\tLoss: 0.303418\n",
      "Train Epoch: 3 [17920/60000 (30%)]\tLoss: 0.367701\n",
      "Train Epoch: 3 [18560/60000 (31%)]\tLoss: 0.234744\n",
      "Train Epoch: 3 [19200/60000 (32%)]\tLoss: 0.225848\n",
      "Train Epoch: 3 [19840/60000 (33%)]\tLoss: 0.723421\n",
      "Train Epoch: 3 [20480/60000 (34%)]\tLoss: 0.443672\n",
      "Train Epoch: 3 [21120/60000 (35%)]\tLoss: 0.417788\n",
      "Train Epoch: 3 [21760/60000 (36%)]\tLoss: 0.409785\n",
      "Train Epoch: 3 [22400/60000 (37%)]\tLoss: 0.355784\n",
      "Train Epoch: 3 [23040/60000 (38%)]\tLoss: 0.303084\n",
      "Train Epoch: 3 [23680/60000 (39%)]\tLoss: 0.344287\n",
      "Train Epoch: 3 [24320/60000 (41%)]\tLoss: 0.290094\n",
      "Train Epoch: 3 [24960/60000 (42%)]\tLoss: 0.146326\n",
      "Train Epoch: 3 [25600/60000 (43%)]\tLoss: 0.314831\n",
      "Train Epoch: 3 [26240/60000 (44%)]\tLoss: 0.230819\n",
      "Train Epoch: 3 [26880/60000 (45%)]\tLoss: 0.291611\n",
      "Train Epoch: 3 [27520/60000 (46%)]\tLoss: 0.252489\n",
      "Train Epoch: 3 [28160/60000 (47%)]\tLoss: 0.300934\n",
      "Train Epoch: 3 [28800/60000 (48%)]\tLoss: 0.514464\n",
      "Train Epoch: 3 [29440/60000 (49%)]\tLoss: 0.196680\n",
      "Train Epoch: 3 [30080/60000 (50%)]\tLoss: 0.318487\n",
      "Train Epoch: 3 [30720/60000 (51%)]\tLoss: 0.298606\n",
      "Train Epoch: 3 [31360/60000 (52%)]\tLoss: 0.330374\n",
      "Train Epoch: 3 [32000/60000 (53%)]\tLoss: 0.211813\n",
      "Train Epoch: 3 [32640/60000 (54%)]\tLoss: 0.235228\n",
      "Train Epoch: 3 [33280/60000 (55%)]\tLoss: 0.365579\n",
      "Train Epoch: 3 [33920/60000 (57%)]\tLoss: 0.353236\n",
      "Train Epoch: 3 [34560/60000 (58%)]\tLoss: 0.273205\n",
      "Train Epoch: 3 [35200/60000 (59%)]\tLoss: 0.384963\n",
      "Train Epoch: 3 [35840/60000 (60%)]\tLoss: 0.259412\n",
      "Train Epoch: 3 [36480/60000 (61%)]\tLoss: 0.535783\n",
      "Train Epoch: 3 [37120/60000 (62%)]\tLoss: 0.257822\n",
      "Train Epoch: 3 [37760/60000 (63%)]\tLoss: 0.408047\n",
      "Train Epoch: 3 [38400/60000 (64%)]\tLoss: 0.471165\n",
      "Train Epoch: 3 [39040/60000 (65%)]\tLoss: 0.213571\n",
      "Train Epoch: 3 [39680/60000 (66%)]\tLoss: 0.239255\n",
      "Train Epoch: 3 [40320/60000 (67%)]\tLoss: 0.586140\n",
      "Train Epoch: 3 [40960/60000 (68%)]\tLoss: 0.248230\n",
      "Train Epoch: 3 [41600/60000 (69%)]\tLoss: 0.310543\n",
      "Train Epoch: 3 [42240/60000 (70%)]\tLoss: 0.116148\n",
      "Train Epoch: 3 [42880/60000 (71%)]\tLoss: 0.209063\n",
      "Train Epoch: 3 [43520/60000 (72%)]\tLoss: 0.376007\n",
      "Train Epoch: 3 [44160/60000 (74%)]\tLoss: 0.191314\n",
      "Train Epoch: 3 [44800/60000 (75%)]\tLoss: 0.470051\n",
      "Train Epoch: 3 [45440/60000 (76%)]\tLoss: 0.244045\n",
      "Train Epoch: 3 [46080/60000 (77%)]\tLoss: 0.354668\n",
      "Train Epoch: 3 [46720/60000 (78%)]\tLoss: 0.143569\n",
      "Train Epoch: 3 [47360/60000 (79%)]\tLoss: 0.142811\n",
      "Train Epoch: 3 [48000/60000 (80%)]\tLoss: 0.409616\n",
      "Train Epoch: 3 [48640/60000 (81%)]\tLoss: 0.315808\n",
      "Train Epoch: 3 [49280/60000 (82%)]\tLoss: 0.351012\n",
      "Train Epoch: 3 [49920/60000 (83%)]\tLoss: 0.247210\n",
      "Train Epoch: 3 [50560/60000 (84%)]\tLoss: 0.176191\n",
      "Train Epoch: 3 [51200/60000 (85%)]\tLoss: 0.398509\n",
      "Train Epoch: 3 [51840/60000 (86%)]\tLoss: 0.524354\n",
      "Train Epoch: 3 [52480/60000 (87%)]\tLoss: 0.197701\n",
      "Train Epoch: 3 [53120/60000 (88%)]\tLoss: 0.198914\n",
      "Train Epoch: 3 [53760/60000 (90%)]\tLoss: 0.571422\n",
      "Train Epoch: 3 [54400/60000 (91%)]\tLoss: 0.280470\n",
      "Train Epoch: 3 [55040/60000 (92%)]\tLoss: 0.311791\n",
      "Train Epoch: 3 [55680/60000 (93%)]\tLoss: 0.352164\n",
      "Train Epoch: 3 [56320/60000 (94%)]\tLoss: 0.244756\n",
      "Train Epoch: 3 [56960/60000 (95%)]\tLoss: 0.374368\n",
      "Train Epoch: 3 [57600/60000 (96%)]\tLoss: 0.462226\n",
      "Train Epoch: 3 [58240/60000 (97%)]\tLoss: 0.171021\n",
      "Train Epoch: 3 [58880/60000 (98%)]\tLoss: 0.616902\n",
      "Train Epoch: 3 [59520/60000 (99%)]\tLoss: 0.399843\n",
      "\n",
      "Test set: Avg. loss: 0.0934, Accuracy: 9717/10000 (97%)\n",
      "\n"
     ]
    }
   ],
   "source": [
    "test()\n",
    "for epoch in range(1, n_epochs + 1):\n",
    "  train(epoch)\n",
    "  test()"
   ]
  },
  {
   "cell_type": "code",
   "execution_count": null,
   "metadata": {},
   "outputs": [],
   "source": []
  }
 ],
 "metadata": {
  "kernelspec": {
   "display_name": "Python 3",
   "language": "python",
   "name": "python3"
  },
  "language_info": {
   "codemirror_mode": {
    "name": "ipython",
    "version": 3
   },
   "file_extension": ".py",
   "mimetype": "text/x-python",
   "name": "python",
   "nbconvert_exporter": "python",
   "pygments_lexer": "ipython3",
   "version": "3.7.8"
  }
 },
 "nbformat": 4,
 "nbformat_minor": 4
}
