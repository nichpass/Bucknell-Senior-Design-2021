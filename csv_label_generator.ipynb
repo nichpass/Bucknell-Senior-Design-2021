{
 "cells": [
  {
   "cell_type": "markdown",
   "metadata": {},
   "source": [
    "# Generate CSV file based on folder\n",
    "\n",
    "This file takes in a folder and uses all of the image filenames so that it can generate the necessary csv file used in the dataset object"
   ]
  },
  {
   "cell_type": "code",
   "execution_count": 67,
   "metadata": {},
   "outputs": [],
   "source": [
    "import os\n",
    "from random import shuffle"
   ]
  },
  {
   "cell_type": "code",
   "execution_count": 68,
   "metadata": {},
   "outputs": [
    {
     "name": "stdout",
     "output_type": "stream",
     "text": [
      "1\n",
      "starting\n",
      "file created: PT_AP_list.csv\n"
     ]
    }
   ],
   "source": [
    "# directory to scrape filenames from, ex: \"temp_data/images\"\n",
    "\n",
    "disease = \"PT\"\n",
    "DIR = \"data/sorted_images/\" + disease + \"/AP\"\n",
    "NEW_FILENAME = disease + \"_AP_list.csv\"\n",
    "#print(mypath)\n",
    "filenames = [f for f in os.listdir(DIR) if os.path.isfile(os.path.join(DIR, f))]\n",
    "# shuffle(filenames)\n",
    "print(len(filenames))\n",
    "\n",
    "csv_main = open(\"data/Data_Entry_2017.csv\", \"r\")\n",
    "main_lines = csv_main.readlines()\n",
    "csv_main.close()\n",
    "\n",
    "csv_new = open(\"data_subset/\" + NEW_FILENAME, 'w')\n",
    "\n",
    "count = 0\n",
    "print(\"starting\")\n",
    "for fn in filenames:\n",
    "    if count == 200:\n",
    "        break;\n",
    "    for line in main_lines:\n",
    "        line_arr = line.split(',')\n",
    "        if fn == line_arr[0]:\n",
    "            csv_new.write(line)\n",
    "            count += 1\n",
    "            break\n",
    "print(\"file created: \" + NEW_FILENAME)\n",
    "    "
   ]
  },
  {
   "cell_type": "code",
   "execution_count": 69,
   "metadata": {},
   "outputs": [
    {
     "name": "stdout",
     "output_type": "stream",
     "text": [
      "0\n"
     ]
    }
   ],
   "source": [
    "f = open(\"data_subset/\" + NEW_FILENAME, 'r')\n",
    "lines = f.readlines()\n",
    "f.close()\n",
    "print(len(lines))"
   ]
  },
  {
   "cell_type": "code",
   "execution_count": 70,
   "metadata": {},
   "outputs": [],
   "source": [
    "### combine CSV files\n",
    "f_ate = open(\"data_subset/Atelectasis_AP_list.csv\", 'r')\n",
    "l_ate = f_ate.readlines()\n",
    "f_ate.close()\n",
    "\n",
    "f_car = open(\"data_subset/Cardiomegaly_AP_list.csv\", 'r')\n",
    "l_car = f_car.readlines()\n",
    "f_car.close()\n",
    "\n",
    "f_con = open(\"data_subset/Consolidation_AP_list.csv\", 'r')\n",
    "l_con = f_con.readlines()\n",
    "f_con.close()\n",
    "\n",
    "f_ede = open(\"data_subset/Edema_AP_list.csv\", 'r')\n",
    "l_ede = f_ede.readlines()\n",
    "f_ede.close()\n",
    "\n",
    "f_eff = open(\"data_subset/Effusion_AP_list.csv\", 'r')\n",
    "l_eff = f_eff.readlines()\n",
    "f_eff.close()\n",
    "\n",
    "f_emp = open(\"data_subset/Emphysema_AP_list.csv\", 'r')\n",
    "l_emp = f_emp.readlines()\n",
    "f_emp.close()\n",
    "\n",
    "f_fib = open(\"data_subset/Fibrosis_AP_list.csv\", 'r')\n",
    "l_fib = f_fib.readlines()\n",
    "f_fib.close()\n",
    "\n",
    "f_her = open(\"data_subset/Hernia_AP_list.csv\", 'r')\n",
    "l_her = f_her.readlines()\n",
    "f_her.close()\n",
    "\n",
    "f_inf = open(\"data_subset/Infiltration_AP_list.csv\", 'r')\n",
    "l_inf = f_inf.readlines()\n",
    "f_inf.close()\n",
    "\n",
    "f_mas = open(\"data_subset/Mass_AP_list.csv\", 'r')\n",
    "l_mas = f_mas.readlines()\n",
    "f_mas.close()\n",
    "\n",
    "f_nof = open(\"data_subset/No_Finding_AP_list.csv\", 'r')\n",
    "l_nof = f_nof.readlines()\n",
    "f_nof.close()\n",
    "\n",
    "f_nod = open(\"data_subset/Nodule_AP_list.csv\", 'r')\n",
    "l_nod = f_nod.readlines()\n",
    "f_nod.close()\n",
    "\n",
    "f_ple = open(\"data_subset/Pleural_Thickening_AP_list.csv\", 'r')\n",
    "l_ple = f_ple.readlines()\n",
    "f_ple.close()\n",
    "\n",
    "f_pne = open(\"data_subset/Pneumonia_AP_list.csv\", 'r')\n",
    "l_pne = f_pne.readlines()\n",
    "f_pne.close()\n",
    "\n",
    "f_pnx = open(\"data_subset/Pneumothorax_AP_list.csv\", 'r')\n",
    "l_pnx = f_pnx.readlines()\n",
    "f_pnx.close()\n",
    "\n"
   ]
  },
  {
   "cell_type": "code",
   "execution_count": 71,
   "metadata": {},
   "outputs": [
    {
     "name": "stdout",
     "output_type": "stream",
     "text": [
      "2835\n"
     ]
    }
   ],
   "source": [
    "def add_line(new_csv, lines, i):\n",
    "    if i < len(lines):\n",
    "        new_csv.write(lines[i])\n",
    "\n",
    "new_csv = open(\"data_subset/all_subset_data.csv\", 'w')\n",
    "for i in range(200):\n",
    "    add_line(new_csv, l_ate, i)\n",
    "    add_line(new_csv, l_car, i)\n",
    "    add_line(new_csv, l_con, i)\n",
    "    add_line(new_csv, l_ede, i)\n",
    "    add_line(new_csv, l_eff, i)\n",
    "    add_line(new_csv, l_emp, i)\n",
    "    add_line(new_csv, l_fib, i)\n",
    "    add_line(new_csv, l_her, i)\n",
    "    add_line(new_csv, l_inf, i)\n",
    "    add_line(new_csv, l_mas, i)\n",
    "    add_line(new_csv, l_nof, i)\n",
    "    add_line(new_csv, l_nod, i)\n",
    "    add_line(new_csv, l_ple, i)\n",
    "    add_line(new_csv, l_pne, i)\n",
    "    add_line(new_csv, l_pnx, i)\n",
    "\n",
    "new_csv.close()\n",
    "new_csv = open(\"data_subset/all_subset_data.csv\", 'r')\n",
    "lines = new_csv.readlines()\n",
    "new_csv.close()\n",
    "print(len(lines))"
   ]
  },
  {
   "cell_type": "code",
   "execution_count": 72,
   "metadata": {},
   "outputs": [],
   "source": [
    "train_csv = open(\"data_subset/train_subset.csv\", 'w')\n",
    "test_csv = open(\"data_subset/test_subset.csv\", 'w')\n",
    "new_csv = open(\"data_subset/all_subset_data.csv\", 'r')\n",
    "lines = new_csv.readlines()\n",
    "new_csv.close()\n",
    "breakpoint = round(2835 * 0.8)\n",
    "for i in range(2835):\n",
    "    if i < breakpoint:\n",
    "        train_csv.write(lines[i])\n",
    "    else:\n",
    "        test_csv.write(lines[i])\n",
    "        \n",
    "train_csv.close()\n",
    "test_csv.close()"
   ]
  },
  {
   "cell_type": "code",
   "execution_count": 120,
   "metadata": {},
   "outputs": [
    {
     "name": "stdout",
     "output_type": "stream",
     "text": [
      "starting transfer\n",
      "complete\n",
      "2268\n",
      "2268\n"
     ]
    }
   ],
   "source": [
    "from pathlib import Path\n",
    "import shutil\n",
    "stuff = []\n",
    "train_dir = \"data_subset/train\"\n",
    "\n",
    "new_csv = open(\"data_subset/train_subset.csv\", 'r')\n",
    "lines = new_csv.readlines()\n",
    "print(\"starting transfer\")\n",
    "num_found = 0\n",
    "for line in lines:\n",
    "    folders = line.split(',')[1].split('|')\n",
    "    for folder in folders:\n",
    "        if folder == \"No Finding\":\n",
    "            folder = \"No_Finding\"\n",
    "        if folder == \"Pleural Thickening\":\n",
    "            folder = \"Pleural_Thickening\"\n",
    "        found = False\n",
    "        tofind = line.split(',')[0]\n",
    "        for path in Path('data/sorted_images/' + folder).rglob(tofind):\n",
    "            shutil.copy(path, train_dir)\n",
    "            found = True\n",
    "            num_found += 1\n",
    "            break;\n",
    "        if found: \n",
    "            break;\n",
    "\n",
    "print(\"complete\")\n",
    "print(len(lines))\n",
    "print(num_found)"
   ]
  },
  {
   "cell_type": "code",
   "execution_count": 121,
   "metadata": {},
   "outputs": [
    {
     "name": "stdout",
     "output_type": "stream",
     "text": [
      "starting transfer\n",
      "00027628_002.png is here\n",
      "00027628_002.png is found\n",
      "complete\n",
      "567\n",
      "567\n"
     ]
    }
   ],
   "source": [
    "\n",
    "test_dir = \"data_subset/test\"\n",
    "\n",
    "new_csv = open(\"data_subset/test_subset.csv\", 'r')\n",
    "lines = new_csv.readlines()\n",
    "num_found1 = 0\n",
    "print(\"starting transfer\")\n",
    "for line in lines:\n",
    "    folders = line.split(',')[1].split('|')\n",
    "    found = False\n",
    "    for folder in folders:\n",
    "        if folder == \"No Finding\":\n",
    "            folder = \"No_Finding\"\n",
    "        if folder == \"Pleural Thickening\":\n",
    "            folder = \"Pleural_Thickening\"\n",
    "        tofind = line.split(',')[0]\n",
    "        if tofind == \"00027628_002.png\":\n",
    "            print(\"00027628_002.png is here\")\n",
    "        for path in Path('data/sorted_images/' + folder).rglob(tofind):\n",
    "            shutil.copy(path, test_dir)\n",
    "            found = True\n",
    "            if tofind == \"00027628_002.png\":\n",
    "                print(\"00027628_002.png is found\")\n",
    "            stuff.append(path)\n",
    "            num_found1 += 1\n",
    "            break;\n",
    "        if found:\n",
    "            break;\n",
    "    \n",
    "print(\"complete\")\n",
    "print(len(lines))\n",
    "print(num_found1)"
   ]
  },
  {
   "cell_type": "code",
   "execution_count": 117,
   "metadata": {},
   "outputs": [
    {
     "data": {
      "text/plain": [
       "'data_subset/test/00027213_032.png'"
      ]
     },
     "execution_count": 117,
     "metadata": {},
     "output_type": "execute_result"
    }
   ],
   "source": [
    "shutil.copy('data/sorted_images/Infiltration/AP/00027213_032.png', test_dir)"
   ]
  },
  {
   "cell_type": "code",
   "execution_count": null,
   "metadata": {},
   "outputs": [],
   "source": []
  }
 ],
 "metadata": {
  "kernelspec": {
   "display_name": "Python 3",
   "language": "python",
   "name": "python3"
  },
  "language_info": {
   "codemirror_mode": {
    "name": "ipython",
    "version": 3
   },
   "file_extension": ".py",
   "mimetype": "text/x-python",
   "name": "python",
   "nbconvert_exporter": "python",
   "pygments_lexer": "ipython3",
   "version": "3.7.7"
  }
 },
 "nbformat": 4,
 "nbformat_minor": 4
}
