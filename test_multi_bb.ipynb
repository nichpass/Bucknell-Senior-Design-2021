{
 "cells": [
  {
   "cell_type": "code",
   "execution_count": 63,
   "metadata": {},
   "outputs": [],
   "source": [
    "import os\n",
    "import torch\n",
    "import torchvision\n",
    "\n",
    "import statistics\n",
    "import h5py\n",
    "import copy\n",
    "import cv2\n",
    "import deepdish as dd\n",
    "\n",
    "import torch.nn as nn\n",
    "import torch.nn.functional as F\n",
    "import torch.optim as optim\n",
    "\n",
    "import torchvision\n",
    "\n",
    "import matplotlib.pyplot as plt\n",
    "import matplotlib.patches as patches\n",
    "\n",
    "from PIL import Image\n",
    "from sklearn.metrics import roc_auc_score\n",
    "from skimage import measure\n",
    "\n",
    "import sklearn.metrics as metrics\n",
    "import numpy as np\n",
    "from sklearn.metrics import roc_curve, auc, jaccard_score\n",
    "from sklearn.model_selection import train_test_split\n",
    "from sklearn.preprocessing import label_binarize\n",
    "from sklearn.multiclass import OneVsRestClassifier\n",
    "from scipy import interp\n",
    "from sklearn.metrics import roc_auc_score\n",
    "\n",
    "\n",
    "import tempfile\n",
    "import time\n",
    "import pickle as pkl;\n",
    "\n",
    "import data.constants.constants as constants"
   ]
  },
  {
   "cell_type": "code",
   "execution_count": 8,
   "metadata": {},
   "outputs": [
    {
     "data": {
      "text/plain": [
       "<torch._C.Generator at 0x7fe3e45c6190>"
      ]
     },
     "execution_count": 8,
     "metadata": {},
     "output_type": "execute_result"
    }
   ],
   "source": [
    "n_epochs = 50\n",
    "patience_limit = 20\n",
    "patience = 0\n",
    "batch_size_train = 4# was 64\n",
    "batch_size_test = 4\n",
    "learning_rate = 0.001\n",
    "momentum = 0.1\n",
    "log_interval = 31\n",
    "tt_factor = 0.8\n",
    "orientation = 'AP'\n",
    "num_imgs = 5000\n",
    "\n",
    "model_path = './data/saved_models/' + 'all_diseases_all_imgs' + '.pth'\n",
    "\n",
    "random_seed = 1\n",
    "#torch.backends.cudnn.enabled = False\n",
    "torch.manual_seed(random_seed)"
   ]
  },
  {
   "cell_type": "code",
   "execution_count": 50,
   "metadata": {},
   "outputs": [],
   "source": [
    "dis_small_map = {'Cardiomegaly': 0, 'Effusion': 1, 'Mass': 2, 'Nodule': 3, 'Atelectasis': 4}"
   ]
  },
  {
   "cell_type": "code",
   "execution_count": 11,
   "metadata": {},
   "outputs": [
    {
     "name": "stdout",
     "output_type": "stream",
     "text": [
      "data loaded in successfully\n"
     ]
    }
   ],
   "source": [
    "pkl_load = open('dataset_bb.pickle', 'rb')\n",
    "data_bb = pkl.load(pkl_load)\n",
    "pkl_load.close()\n",
    "print(\"data loaded in successfully\")"
   ]
  },
  {
   "cell_type": "code",
   "execution_count": 13,
   "metadata": {},
   "outputs": [],
   "source": [
    "# transforms = [torchvision.transforms.ToTensor()] # no longer grayscale conversion\n",
    "# #0 = train, 1 = test\n",
    "# dataset_train = GetLoader_w_val(data_bb, orientation, list(['Cardiomegaly', 'Effusion', 'Mass', 'Nodule', 'Atelectasis', 'No Finding']),\n",
    "#                           num_imgs, tt_factor, 0, transforms)\n",
    "# dataset_valid = GetLoader_w_val(data_bb, orientation, list(['Cardiomegaly', 'Effusion', 'Mass', 'Nodule', 'Atelectasis', 'No Finding']),\n",
    "#                           num_imgs, tt_factor, 1, transforms)\n",
    "# dataset_test = GetLoader_w_val(data_bb, orientation, list(['Cardiomegaly', 'Effusion', 'Mass', 'Nodule', 'Atelectasis', 'No Finding']),\n",
    "#                           num_imgs, tt_factor, 2, transforms)\n",
    "# print(len(dataset_train))\n",
    "# print(len(dataset_valid))\n",
    "# print(len(dataset_test))"
   ]
  },
  {
   "cell_type": "code",
   "execution_count": 14,
   "metadata": {},
   "outputs": [],
   "source": [
    "# train_loader = torch.utils.data.DataLoader(dataset_train, batch_size=batch_size_train, shuffle=True, num_workers=1)\n",
    "# test_loader = torch.utils.data.DataLoader(dataset_test, batch_size=batch_size_train, shuffle=True, num_workers=1)\n",
    "# valid_loader = torch.utils.data.DataLoader(dataset_valid, batch_size=batch_size_train, shuffle=True, num_workers=1)\n",
    "# print(len(train_loader))\n",
    "# print(len(valid_loader))\n",
    "# print(len(test_loader))"
   ]
  },
  {
   "cell_type": "code",
   "execution_count": 15,
   "metadata": {},
   "outputs": [
    {
     "name": "stderr",
     "output_type": "stream",
     "text": [
      "Using cache found in /home/npp002/.cache/torch/hub/pytorch_vision_v0.6.0\n"
     ]
    }
   ],
   "source": [
    "model = torch.hub.load('pytorch/vision:v0.6.0', 'resnet18', pretrained=False)"
   ]
  },
  {
   "cell_type": "code",
   "execution_count": 16,
   "metadata": {},
   "outputs": [],
   "source": [
    "model.fc = nn.Sequential(*[\n",
    "    nn.Linear(in_features=512, out_features=6, bias=True),\n",
    "    nn.Sigmoid(),\n",
    "])\n",
    "model = torch.nn.DataParallel(model)"
   ]
  },
  {
   "cell_type": "code",
   "execution_count": 17,
   "metadata": {},
   "outputs": [
    {
     "data": {
      "text/plain": [
       "<All keys matched successfully>"
      ]
     },
     "execution_count": 17,
     "metadata": {},
     "output_type": "execute_result"
    }
   ],
   "source": [
    "model.load_state_dict(torch.load(model_path))"
   ]
  },
  {
   "cell_type": "code",
   "execution_count": 18,
   "metadata": {},
   "outputs": [
    {
     "name": "stdout",
     "output_type": "stream",
     "text": [
      "Trainable params: 11179590\n"
     ]
    }
   ],
   "source": [
    "network = model\n",
    "#network = torchvision.models.vgg11(pretrained=False)\n",
    "#network.fc = nn.Linear(512, 15)\n",
    "network.cuda()\n",
    "optimizer = optim.SGD(network.parameters(), lr=learning_rate,\n",
    "                      momentum=momentum)\n",
    "print('Trainable params: {}'.format(sum(p.numel() for p in network.parameters() if p.requires_grad)))"
   ]
  },
  {
   "cell_type": "code",
   "execution_count": 19,
   "metadata": {},
   "outputs": [],
   "source": [
    "class ResNet(nn.Module):\n",
    "    def __init__(self, model_file):\n",
    "        super(ResNet, self).__init__()\n",
    "        \n",
    "        self.model_file = model_file\n",
    "        \n",
    "        self.model = torch.hub.load('pytorch/vision:v0.6.0', 'resnet18', pretrained=False)\n",
    "        self.model.fc = nn.Sequential(*[\n",
    "            nn.Linear(in_features=512, out_features=6, bias=True),\n",
    "            nn.Sigmoid()\n",
    "        ])\n",
    "        \n",
    "        self.features_conv = nn.Sequential(*list(self.model.children())[:-2])\n",
    "        self.global_pool = nn.AdaptiveAvgPool2d(output_size=(1, 1))\n",
    "        self.classifier =  nn.Sequential(*list(self.model.children())[-2:][1:])\n",
    "        \n",
    "        self.gradients = None\n",
    "        \n",
    "    def load_weights(self):\n",
    "        self.model = torch.nn.DataParallel(self.model)\n",
    "        self.model.load_state_dict(torch.load(self.model_file))\n",
    "    \n",
    "    def activations_hook(self, grad):\n",
    "        self.gradients = grad\n",
    "        \n",
    "    def forward(self, x):\n",
    "        x = self.features_conv(x)\n",
    "\n",
    "        h = x.register_hook(self.activations_hook)\n",
    "\n",
    "        x = self.global_pool(x)\n",
    "        x = x.view(1, -1)    \n",
    "        x = self.classifier(x)\n",
    "        \n",
    "        return x\n",
    "    \n",
    "    def get_activations_gradient(self):\n",
    "        return self.gradients\n",
    "    \n",
    "    def get_activations(self, x):\n",
    "        return self.features_conv(x)"
   ]
  },
  {
   "cell_type": "code",
   "execution_count": 20,
   "metadata": {},
   "outputs": [
    {
     "name": "stderr",
     "output_type": "stream",
     "text": [
      "Using cache found in /home/npp002/.cache/torch/hub/pytorch_vision_v0.6.0\n"
     ]
    }
   ],
   "source": [
    "gmodel = ResNet(model_path)"
   ]
  },
  {
   "cell_type": "code",
   "execution_count": 21,
   "metadata": {},
   "outputs": [],
   "source": [
    "gmodel.load_weights()\n",
    "print('weights loaded successfully')"
   ]
  },
  {
   "cell_type": "code",
   "execution_count": 51,
   "metadata": {},
   "outputs": [],
   "source": [
    "def check_contains(b1, b2):\n",
    "    lx = b1['low_x'] <= b2['low_x']\n",
    "    ly = b1['low_y'] <= b2['low_y']\n",
    "    hx = b1['high_x'] >= b2['high_x']\n",
    "    hy = b1['high_y'] >= b2['high_y']\n",
    "    \n",
    "    return lx and ly and hx and hy\n"
   ]
  },
  {
   "cell_type": "code",
   "execution_count": 52,
   "metadata": {},
   "outputs": [],
   "source": [
    "def check_too_big(b):\n",
    "    w = b['high_x'] - b['low_x']\n",
    "    h = b['high_y'] - b['low_y']\n",
    "    \n",
    "    return w * h > 350000 # roughly if box is larger than 1/3 of the image then get rid of it"
   ]
  },
  {
   "cell_type": "code",
   "execution_count": 64,
   "metadata": {},
   "outputs": [],
   "source": [
    "def compute_dist(b, avg):\n",
    "    x = b['high_x'] - b['low_x']\n",
    "    y = b['high_y'] - b['low_y']\n",
    "    return abs(x * y - avg)"
   ]
  },
  {
   "cell_type": "code",
   "execution_count": 100,
   "metadata": {},
   "outputs": [],
   "source": [
    "def get_bboxes(label_map, disease):\n",
    "    uniques = np.unique(label_map)\n",
    "    boxes = {} # stored as x1, x2, y1, y2\n",
    "    \n",
    "    #explore_map = copy.deepcopy()\n",
    "    \n",
    "    for u in uniques:\n",
    "        low_x = 9999\n",
    "        low_y = 9999\n",
    "        high_x = -1\n",
    "        high_y = -1\n",
    "        \n",
    "        for r in range(len(label_map)):\n",
    "            for c in range(len(label_map[0])):\n",
    "                \n",
    "                cur = label_map[r][c]\n",
    "                \n",
    "                if cur == u:\n",
    "                    low_x = min(low_x, c)\n",
    "                    low_y = min(low_y, r)\n",
    "                    high_x = max(high_x, c)\n",
    "                    high_y = max(high_y, r)\n",
    "                    \n",
    "                    #explore_map = 1\n",
    "                    \n",
    "        boxes[u] = {'low_x' : low_x, 'low_y' : low_y,\n",
    "                        'high_x' : high_x, 'high_y' : high_y}\n",
    "     \n",
    "    # step 1: remove the boxes that are too big    \n",
    "    boxes_temp = copy.deepcopy(boxes)\n",
    "    for k, b in boxes.items():\n",
    "        if check_too_big(b):\n",
    "            boxes_temp.pop(k, None)\n",
    "            \n",
    "    boxes = boxes_temp\n",
    "    \n",
    "    # step 2: remove boxes that are contained in other boxes\n",
    "    boxes_temp = copy.deepcopy(boxes)\n",
    "\n",
    "    for k1, b1 in boxes.items():\n",
    "        for k2, b2 in boxes.items():\n",
    "            if k1 != k2 and check_contains(b1,b2):\n",
    "                boxes_temp.pop(k2, None)\n",
    "                    \n",
    "    boxes = boxes_temp\n",
    "    boxes_temp = {}\n",
    "    \n",
    "    # step 3: select the 3 boxes with the size closest to that of the average box size for this disease (based on training data)\n",
    "    avg_size = constants.BBOX_AVG_SIZE[disease]\n",
    "    \n",
    "    box_dist_from_avg = {}\n",
    "    best_boxes = {}\n",
    "    for k, b in boxes.items():\n",
    "        box_dist_from_avg[k] = compute_dist(b, avg_size)\n",
    "        \n",
    "    box_dist_from_avg = {k : v for k, v in sorted(box_dist_from_avg.items(), key=lambda x: x[1])}\n",
    "    \n",
    "    for i, k in enumerate(box_dist_from_avg.keys(), 1):\n",
    "        best_boxes[k] = boxes[k]\n",
    "        \n",
    "        if i == 3: # take only the best 3\n",
    "            break\n",
    "        \n",
    "    boxes = best_boxes\n",
    "    '''\n",
    "    I have a dict of the boxes\n",
    "    for each box, I can compute the size and dist from avg and associate it with box key (via function)\n",
    "    - then sort the boxes by size\n",
    "    - keep the top 3 best\n",
    "    '''\n",
    "    \n",
    "    #step 4: reset the keys on the boxes, for ex:  [5, 7, 11] --> [0, 1, 2]\n",
    "    idx = 0\n",
    "    for k in boxes.keys():\n",
    "        boxes_temp[idx] = boxes[k]\n",
    "        idx += 1\n",
    "        \n",
    "    boxes = boxes_temp\n",
    "        \n",
    "    #print('\\n boxes delivered: \\n', boxes)\n",
    "    return boxes"
   ]
  },
  {
   "cell_type": "code",
   "execution_count": 101,
   "metadata": {},
   "outputs": [],
   "source": [
    "def get_grad_map(data, model, disease):\n",
    "    img_path = './data/sorted_images/' + data['disease'] + '/' + data['view'] + '/' + data['img_name']\n",
    "\n",
    "    transform = torchvision.transforms.ToTensor()\n",
    "    img = Image.open(img_path).convert('RGB')\n",
    "    img = transform(img)\n",
    "    img.shape\n",
    "    img = img.unsqueeze(dim=0)\n",
    "    img = img.cuda();\n",
    "    \n",
    "    model.eval()\n",
    "\n",
    "    pred = model(img)\n",
    "    pred[0][dis_small_map[disease]].backward()\n",
    "    \n",
    "    gradients = model.get_activations_gradient()\n",
    "    pooled_gradients = torch.mean(gradients, dim=[0, 2, 3]) \n",
    "    activations = model.get_activations(img).detach() \n",
    "\n",
    "    for i in range(512):\n",
    "        activations[:, i, :, :] *= pooled_gradients[i]\n",
    "        \n",
    "    heatmap = torch.mean(activations, dim=1).squeeze()\n",
    "    heatmap = heatmap.cpu()\n",
    "    heatmap /= torch.max(heatmap)\n",
    "    #plt.matshow(heatmap)\n",
    "    \n",
    "    grad_activations = heatmap\n",
    "    \n",
    "    img = cv2.imread(img_path)\n",
    "    heatmap = cv2.resize(np.float32(heatmap), (img.shape[1], img.shape[0]))\n",
    "    heatmap = np.uint8(255 * heatmap)\n",
    "    \n",
    "    colormap = cv2.applyColorMap(heatmap, cv2.COLORMAP_JET)\n",
    "    superimposed_img = colormap * 0.4 + img\n",
    "    cv2.imwrite('./map.jpg', superimposed_img)\n",
    "    \n",
    "    blobs = heatmap > 160 #* heatmap.mean()\n",
    "        \n",
    "    all_labels = measure.label(blobs)\n",
    "    \n",
    "    return all_labels, blobs, grad_activations"
   ]
  },
  {
   "cell_type": "code",
   "execution_count": 102,
   "metadata": {},
   "outputs": [],
   "source": [
    "def calc_iobb(data, model, disease):\n",
    "    label_map, _, _ = get_grad_map(data, model, disease)\n",
    "    \n",
    "    boxes = get_bboxes(label_map, disease)\n",
    "    \n",
    "    \n",
    "    single_level = np.array(label_map >= 1, dtype='int')\n",
    "    # convert all labels on prediction to same value of '1' for present and '0' for not present\n",
    "    real_box = np.zeros((1024, 1024), dtype='int')\n",
    "    x = int(data['x'])\n",
    "    y = int(data['y'])\n",
    "    width = int(data['width'])\n",
    "    height = int(data['height'])\n",
    "    for xi in range(x, x + width):\n",
    "        for yi in range(y, y + height):\n",
    "            real_box[yi][xi] = 1\n",
    "\n",
    "    pred_boxes = np.zeros((1024, 1024), dtype='int')\n",
    "    for _, b in boxes.items():\n",
    "        for xi in range(b['low_x'], b['high_x']+1):\n",
    "            for yi in range(b['low_y'], b['high_y']+1):\n",
    "                pred_boxes[yi][xi] = 1\n",
    "                \n",
    "#     plt.figure()\n",
    "#     plt.imshow(real_box)\n",
    "#     plt.figure()\n",
    "#     plt.imshow(pred_boxes)\n",
    "    return jaccard_score(real_box.flatten(), pred_boxes.flatten())\n",
    "    "
   ]
  },
  {
   "cell_type": "code",
   "execution_count": 103,
   "metadata": {},
   "outputs": [],
   "source": [
    "def bbox_main(data, model, disease):\n",
    "        \n",
    "    all_labels, blobs, grad_activations = get_grad_map(data, model, disease)\n",
    "    \n",
    "    plt.figure()\n",
    "    plt.imshow(grad_activations)\n",
    "    plt.figure()\n",
    "    plt.imshow(all_labels)\n",
    "    \n",
    "    boxdict = get_bboxes(all_labels, disease)\n",
    "    \n",
    "    plt_image = cv2.imread('./map.jpg')\n",
    "    plt_image = cv2.cvtColor(plt_image, cv2.COLOR_BGR2RGB)\n",
    "    fig, ax = plt.subplots()\n",
    "    ax.imshow(plt_image)\n",
    "    \n",
    "    for i in range(len(boxdict)):\n",
    "        x = boxdict[i]['low_x']\n",
    "        y = boxdict[i]['low_y']\n",
    "        width = boxdict[i]['high_x'] - x\n",
    "        height = boxdict[i]['high_y'] - y\n",
    "        rect = patches.Rectangle((x, y), width, height, linewidth=1, edgecolor='r', facecolor='none' )\n",
    "        ax.add_patch(rect)\n",
    "    rect = patches.Rectangle((data['x'], data['y']), data['width'], data['height'], linewidth=2, edgecolor='blue', facecolor='none' )\n",
    "    ax.add_patch(rect)\n",
    "    \n",
    "    print('IoBB = ', calc_iobb(data, model, disease))"
   ]
  },
  {
   "cell_type": "code",
   "execution_count": 104,
   "metadata": {},
   "outputs": [
    {
     "name": "stdout",
     "output_type": "stream",
     "text": [
      "IoBB =  0.14692912830281865\n"
     ]
    },
    {
     "data": {
      "image/png": "[encoded data removed]",
      "text/plain": [
       "<Figure size 432x288 with 1 Axes>"
      ]
     },
     "metadata": {
      "needs_background": "light"
     },
     "output_type": "display_data"
    },
    {
     "data": {
      "image/png": "[encoded data removed]",
      "text/plain": [
       "<Figure size 432x288 with 1 Axes>"
      ]
     },
     "metadata": {
      "needs_background": "light"
     },
     "output_type": "display_data"
    },
    {
     "data": {
      "image/png": "[encoded data removed]",
      "text/plain": [
       "<Figure size 432x288 with 1 Axes>"
      ]
     },
     "metadata": {
      "needs_background": "light"
     },
     "output_type": "display_data"
    }
   ],
   "source": [
    "bbox_main(data_bb['AP']['Effusion'][11], gmodel, 'Effusion')"
   ]
  },
  {
   "cell_type": "code",
   "execution_count": 32,
   "metadata": {},
   "outputs": [
    {
     "name": "stdout",
     "output_type": "stream",
     "text": [
      "0\n",
      "1\n",
      "2\n",
      "3\n",
      "4\n",
      "5\n",
      "6\n",
      "7\n",
      "8\n",
      "9\n",
      "10\n",
      "11\n",
      "12\n"
     ]
    }
   ],
   "source": [
    "iobb_vals = []\n",
    "for i in range(14):\n",
    "    if i not in [13, 15]:\n",
    "        iobb_vals.append(calc_iobb(data_bb['AP']['Effusion'][i], gmodel, 'Effusion'))\n",
    "        print(i)"
   ]
  },
  {
   "cell_type": "code",
   "execution_count": 58,
   "metadata": {},
   "outputs": [],
   "source": [
    "''' compute average size of boxes for each class:'''\n",
    "def calc_area(d):\n",
    "    return d['width'] * d['height']\n",
    "\n",
    "avgs = copy.deepcopy(dis_small_map)\n",
    "count = 0\n",
    "for dis in dis_small_map.keys():\n",
    "    avgs[dis] = 0\n",
    "    for data_item in data_bb['AP'][dis]:\n",
    "        avgs[dis] += calc_area(data_item)  \n",
    "    avgs[dis] /= len(data_bb['AP'][dis])          "
   ]
  },
  {
   "cell_type": "code",
   "execution_count": 59,
   "metadata": {},
   "outputs": [
    {
     "data": {
      "text/plain": [
       "{'Cardiomegaly': 184334.51389042215,\n",
       " 'Effusion': 72002.74056476016,\n",
       " 'Mass': 44378.91808337311,\n",
       " 'Nodule': 5468.77115036753,\n",
       " 'Atelectasis': 33508.51688697086}"
      ]
     },
     "execution_count": 59,
     "metadata": {},
     "output_type": "execute_result"
    }
   ],
   "source": [
    "avgs"
   ]
  },
  {
   "cell_type": "code",
   "execution_count": 21,
   "metadata": {},
   "outputs": [
    {
     "name": "stdout",
     "output_type": "stream",
     "text": [
      "dataset for bounding box loaded in successfully\n"
     ]
    }
   ],
   "source": [
    "pkl_load = open('./dataset_bb.pickle', 'rb')\n",
    "data_bb = pkl.load(pkl_load)\n",
    "pkl_load.close()\n",
    "print(\"dataset for bounding box loaded in successfully\")"
   ]
  },
  {
   "cell_type": "code",
   "execution_count": 46,
   "metadata": {},
   "outputs": [],
   "source": [
    "bbox_results = {'AP' : {}, 'PA' : {}}\n",
    "\n",
    "bbox_results['AP'] =  {'Cardiomegaly': [], 'Effusion': [], 'Mass': [], 'Nodule': [], 'Atelectasis': []}\n",
    "bbox_results['PA'] =  {'Cardiomegaly': [], 'Effusion': [], 'Mass': [], 'Nodule': [], 'Atelectasis': []}"
   ]
  },
  {
   "cell_type": "code",
   "execution_count": 56,
   "metadata": {},
   "outputs": [
    {
     "name": "stdout",
     "output_type": "stream",
     "text": [
      "AP Cardiomegaly complete\n",
      "AP Effusion complete\n",
      "AP Mass complete\n",
      "AP Nodule complete\n",
      "AP Atelectasis complete\n",
      "PA Cardiomegaly complete\n",
      "PA Effusion complete\n",
      "PA Mass complete\n",
      "PA Nodule complete\n",
      "PA Atelectasis complete\n"
     ]
    }
   ],
   "source": [
    "for view in data_bb.keys():\n",
    "    for disease in bbox_results['AP'].keys():\n",
    "        for i in range(len(data_bb[view][disease])):\n",
    "            bbox_results[view][disease].append(compute_bbox_iou(data_bb[view][disease][i], gmodel, disease))\n",
    "        print(view, disease, 'complete')"
   ]
  },
  {
   "cell_type": "code",
   "execution_count": 48,
   "metadata": {},
   "outputs": [
    {
     "data": {
      "text/plain": [
       "dict_keys(['AP', 'PA'])"
      ]
     },
     "execution_count": 48,
     "metadata": {},
     "output_type": "execute_result"
    }
   ],
   "source": [
    "data_bb.keys()"
   ]
  },
  {
   "cell_type": "code",
   "execution_count": 57,
   "metadata": {},
   "outputs": [
    {
     "name": "stdout",
     "output_type": "stream",
     "text": [
      "AP Cardiomegaly 0.1487217804768757 0.14913752590260934\n",
      "\n",
      "AP Effusion 0.06917364005319358 0.05750243878191387\n",
      "\n",
      "AP Mass 0.0336113380663053 0.015747674109975206\n",
      "\n",
      "AP Nodule 0.00507850780219051 0.0043152350081037275\n",
      "\n",
      "AP Atelectasis 0.03163882096697622 0.01921908096527521\n",
      "\n",
      "PA Cardiomegaly 0.1487217804768757 0.14913752590260934\n",
      "\n",
      "PA Effusion 0.06917364005319358 0.05750243878191387\n",
      "\n",
      "PA Mass 0.0336113380663053 0.015747674109975206\n",
      "\n",
      "PA Nodule 0.00507850780219051 0.0043152350081037275\n",
      "\n",
      "PA Atelectasis 0.03163882096697622 0.01921908096527521\n",
      "\n"
     ]
    }
   ],
   "source": [
    "for view in bbox_results.keys():\n",
    "    for disease in bbox_results[view].keys():\n",
    "        if bbox_results[view][disease]:\n",
    "            mean = statistics.mean(bbox_results[view][disease])\n",
    "            bbox_results[view][disease].sort()\n",
    "            median = bbox_results[view][disease][len(bbox_results[view][disease]) // 2]\n",
    "        print(view, disease, mean, median)\n",
    "        print()"
   ]
  },
  {
   "cell_type": "code",
   "execution_count": null,
   "metadata": {},
   "outputs": [],
   "source": [
    "'''\n",
    "restructure:\n",
    "compute iobb and gen bbox could go in the same function together\n",
    "should all be 1 big thing\n",
    "\n",
    "main\n",
    "- generic stuff shared\n",
    "- print out iobb\n",
    "- display graph\n",
    "'''"
   ]
  }
 ],
 "metadata": {
  "kernelspec": {
   "display_name": "Python 3",
   "language": "python",
   "name": "python3"
  },
  "language_info": {
   "codemirror_mode": {
    "name": "ipython",
    "version": 3
   },
   "file_extension": ".py",
   "mimetype": "text/x-python",
   "name": "python",
   "nbconvert_exporter": "python",
   "pygments_lexer": "ipython3",
   "version": "3.7.7"
  }
 },
 "nbformat": 4,
 "nbformat_minor": 4
}
