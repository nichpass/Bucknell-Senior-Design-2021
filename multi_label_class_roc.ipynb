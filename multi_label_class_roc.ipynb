{
 "cells": [
  {
   "cell_type": "code",
   "execution_count": 1,
   "metadata": {},
   "outputs": [
    {
     "name": "stderr",
     "output_type": "stream",
     "text": [
      "In /usr/remote/anaconda-3.7-2020-05-28/lib/python3.7/site-packages/matplotlib/mpl-data/stylelib/_classic_test.mplstyle: \n",
      "The text.latex.preview rcparam was deprecated in Matplotlib 3.3 and will be removed two minor releases later.\n",
      "In /usr/remote/anaconda-3.7-2020-05-28/lib/python3.7/site-packages/matplotlib/mpl-data/stylelib/_classic_test.mplstyle: \n",
      "The mathtext.fallback_to_cm rcparam was deprecated in Matplotlib 3.3 and will be removed two minor releases later.\n",
      "In /usr/remote/anaconda-3.7-2020-05-28/lib/python3.7/site-packages/matplotlib/mpl-data/stylelib/_classic_test.mplstyle: Support for setting the 'mathtext.fallback_to_cm' rcParam is deprecated since 3.3 and will be removed two minor releases later; use 'mathtext.fallback : 'cm' instead.\n",
      "In /usr/remote/anaconda-3.7-2020-05-28/lib/python3.7/site-packages/matplotlib/mpl-data/stylelib/_classic_test.mplstyle: \n",
      "The validate_bool_maybe_none function was deprecated in Matplotlib 3.3 and will be removed two minor releases later.\n",
      "In /usr/remote/anaconda-3.7-2020-05-28/lib/python3.7/site-packages/matplotlib/mpl-data/stylelib/_classic_test.mplstyle: \n",
      "The savefig.jpeg_quality rcparam was deprecated in Matplotlib 3.3 and will be removed two minor releases later.\n",
      "In /usr/remote/anaconda-3.7-2020-05-28/lib/python3.7/site-packages/matplotlib/mpl-data/stylelib/_classic_test.mplstyle: \n",
      "The keymap.all_axes rcparam was deprecated in Matplotlib 3.3 and will be removed two minor releases later.\n",
      "In /usr/remote/anaconda-3.7-2020-05-28/lib/python3.7/site-packages/matplotlib/mpl-data/stylelib/_classic_test.mplstyle: \n",
      "The animation.avconv_path rcparam was deprecated in Matplotlib 3.3 and will be removed two minor releases later.\n",
      "In /usr/remote/anaconda-3.7-2020-05-28/lib/python3.7/site-packages/matplotlib/mpl-data/stylelib/_classic_test.mplstyle: \n",
      "The animation.avconv_args rcparam was deprecated in Matplotlib 3.3 and will be removed two minor releases later.\n"
     ]
    }
   ],
   "source": [
    "import os\n",
    "import torch\n",
    "import torchvision\n",
    "\n",
    "import statistics\n",
    "import h5py\n",
    "import copy\n",
    "import cv2\n",
    "import deepdish as dd\n",
    "\n",
    "import torch.nn as nn\n",
    "import torch.nn.functional as F\n",
    "import torch.optim as optim\n",
    "\n",
    "import torchvision\n",
    "\n",
    "import matplotlib.pyplot as plt\n",
    "import matplotlib.patches as patches\n",
    "\n",
    "from PIL import Image\n",
    "from sklearn.metrics import roc_auc_score\n",
    "from skimage import measure\n",
    "\n",
    "import sklearn.metrics as metrics\n",
    "import numpy as np\n",
    "from sklearn.metrics import roc_curve, auc, jaccard_score\n",
    "from sklearn.model_selection import train_test_split\n",
    "from sklearn.preprocessing import label_binarize\n",
    "from sklearn.multiclass import OneVsRestClassifier\n",
    "from scipy import interp\n",
    "from sklearn.metrics import roc_auc_score\n",
    "\n",
    "\n",
    "import tempfile\n",
    "import time\n",
    "import pickle as pkl;"
   ]
  },
  {
   "cell_type": "code",
   "execution_count": 2,
   "metadata": {},
   "outputs": [
    {
     "data": {
      "text/plain": [
       "<torch._C.Generator at 0x7f60291cd170>"
      ]
     },
     "execution_count": 2,
     "metadata": {},
     "output_type": "execute_result"
    }
   ],
   "source": [
    "n_epochs = 10\n",
    "patience_limit = 20\n",
    "patience = 0\n",
    "batch_size_train = 1 # use 1 to make valid easier\n",
    "batch_size_test = 1\n",
    "learning_rate = 0.0005\n",
    "momentum = 0.1\n",
    "log_interval = 31\n",
    "tt_factor = 0.8\n",
    "orientation = 'AP'\n",
    "num_imgs = 5000\n",
    "\n",
    "disease_to_train = 'all_diseases_all_imgs'\n",
    "model_path = './data/saved_models/' + disease_to_train + '.pth'\n",
    "\n",
    "random_seed = 1\n",
    "#torch.backends.cudnn.enabled = False\n",
    "torch.manual_seed(random_seed)"
   ]
  },
  {
   "cell_type": "code",
   "execution_count": 3,
   "metadata": {},
   "outputs": [],
   "source": [
    "''' \n",
    "    NOTES: \n",
    "    - it's \"No Finding\" not \"No findings\"\n",
    "    - it's \"Pleural_Thickening\" not \"Pleural_thickening\"\n",
    "    - it's not \"Nodule Mass\", but rather \"Nodule\" and \"Mass\" separately\n",
    "'''\n",
    "disease_map = {\"Atelectasis\" : 0, \"Consolidation\" : 1, \"Infiltration\" : 2, \"Pneumothorax\": 3, \"Edema\": 4,\n",
    "               \"Emphysema\": 5, \"Fibrosis\": 6, \"Effusion\" : 7, \"Pneumonia\" : 8, \"Pleural_Thickening\" : 9,\n",
    "               \"Cardiomegaly\" : 10, \"Nodule\" : 11, \"Mass\" : 12, \"Hernia\" : 13, \"No Finding\" : 14 }\n"
   ]
  },
  {
   "cell_type": "code",
   "execution_count": 4,
   "metadata": {},
   "outputs": [],
   "source": [
    "dis_small_map = {'Cardiomegaly': 0, 'Effusion': 1, 'Mass': 2, 'Nodule': 3, 'Atelectasis': 4, 'No Finding': 5}"
   ]
  },
  {
   "cell_type": "code",
   "execution_count": 5,
   "metadata": {},
   "outputs": [],
   "source": [
    "class GetLoader_w_val(torch.utils.data.Dataset):\n",
    "    '''\n",
    "        NOTE: I hardcoded this one a bit, basically splits validation set in half and gives it to test set\n",
    "    \n",
    "        Params: data - the data dictionary\n",
    "                view - the orientation you want to look at\n",
    "                diseases - the diseases you would like to look at\n",
    "                num_imgs - the number of images of each disease you would like\n",
    "                factor - the ratio of training and testing data\n",
    "                typ - 0 for training, 1 for testing\n",
    "    '''\n",
    "    def __init__(self, data, view, diseases, num_imgs, factor, typ, transforms=None):\n",
    "        \n",
    "        #private data\n",
    "        self.root = os.path.join('data/sorted_images',)\n",
    "        self.data = data # dict object\n",
    "        self.transforms = transforms\n",
    "        self.len_data = 0\n",
    "        datalist = []\n",
    "        \n",
    "        #Creating the datalist\n",
    "        for i in range(len(diseases)):                \n",
    "            \n",
    "            if len(data[view][diseases[i]]) <= num_imgs: #if the folder has less images than the desired number of images\n",
    "                if typ == 0:\n",
    "                    start = 0\n",
    "                    end = int(len(data[view][diseases[i]])*factor)\n",
    "                elif typ == 1:\n",
    "                    start = int(len(data[view][diseases[i]])*factor)\n",
    "                    end = int(len(data[view][diseases[i]])*factor + len(data[view][diseases[i]])*(1-factor) / 2)\n",
    "                else:\n",
    "                    start = int(len(data[view][diseases[i]])*factor + len(data[view][diseases[i]])*(1-factor) / 2)\n",
    "                    end = -1\n",
    "            else:\n",
    "                if typ == 0:\n",
    "                    start = 0\n",
    "                    end = int(num_imgs*factor)\n",
    "                elif typ == 1:\n",
    "                    start = int(num_imgs*factor)\n",
    "                    end = int(num_imgs*factor + num_imgs*(1-factor) / 2)\n",
    "                else:\n",
    "                    start = int(num_imgs*factor + num_imgs*(1-factor) / 2)\n",
    "                    end = num_imgs\n",
    "                    \n",
    "            #print('dis: ', diseases[i], ', type: ', typ, ', start: ', start, ', end:', end)\n",
    "            print('disease: ', diseases[i], 'num images used: ', min(len(data[view][diseases[i]]), num_imgs))\n",
    "            \n",
    "            #class_weights[disease_map[diseases[i]]] = num_imgs / min(len(data[view][diseases[i]]), num_imgs)\n",
    "            \n",
    "            datalist.append(self.data[view][diseases[i]][start:end])\n",
    "        \n",
    "        for item in datalist:\n",
    "            self.len_data += len(item)\n",
    "        \n",
    "        \n",
    "        self.img_paths = []\n",
    "        self.img_labels = []\n",
    "        \n",
    "        for dis in datalist:\n",
    "            for data in dis:\n",
    "                #creating the image path\n",
    "                data['img_path'] = os.path.join(self.root, data['classes'][0], view, data['img_name'])            \n",
    "                diseases_item = data['classes']\n",
    "\n",
    "                one_hot = np.zeros(6)\n",
    "                for d in diseases_item:\n",
    "                    if d in diseases:\n",
    "                        hot_index = dis_small_map[d]\n",
    "                        one_hot[hot_index] = 1\n",
    "\n",
    "                self.img_paths.append(data['img_path'])\n",
    "                self.img_labels.append(torch.Tensor(one_hot))\n",
    "\n",
    "\n",
    "    def __getitem__(self, item):\n",
    "        \n",
    "        img_path, img_label = self.img_paths[item], self.img_labels[item]\n",
    "  \n",
    "        # TODO: fix this hot fix -> recreate data object with underscore in name\n",
    "        img_path = img_path.replace('No Finding', 'No_Finding')\n",
    "        try:\n",
    "            img = Image.open(img_path).convert('RGB')\n",
    "        except:\n",
    "            img_path = img_path.replace('/AP/', '/PA/')\n",
    "            img = Image.open(img_path).convert('RGB')\n",
    "            \n",
    "        self.cur_img_path = img_path\n",
    "\n",
    "        if self.transforms is not None:\n",
    "            for t in self.transforms:\n",
    "                img = t(img)\n",
    "\n",
    "        return img, img_label\n",
    "    \n",
    "    def get_img_path(self):\n",
    "        return self.cur_img_path\n",
    "\n",
    "    def __len__(self):\n",
    "        return self.len_data"
   ]
  },
  {
   "cell_type": "code",
   "execution_count": 6,
   "metadata": {},
   "outputs": [
    {
     "name": "stdout",
     "output_type": "stream",
     "text": [
      "data loaded in successfully\n"
     ]
    }
   ],
   "source": [
    "pkl_load = open('dataset.pickle', 'rb')\n",
    "data = pkl.load(pkl_load)\n",
    "pkl_load.close()\n",
    "print(\"data loaded in successfully\")"
   ]
  },
  {
   "cell_type": "code",
   "execution_count": 7,
   "metadata": {},
   "outputs": [
    {
     "name": "stdout",
     "output_type": "stream",
     "text": [
      "disease:  Cardiomegaly num images used:  1213\n",
      "disease:  Effusion num images used:  5000\n",
      "disease:  Mass num images used:  2215\n",
      "disease:  Nodule num images used:  2154\n",
      "disease:  Atelectasis num images used:  5000\n",
      "disease:  No Finding num images used:  5000\n",
      "2057\n"
     ]
    }
   ],
   "source": [
    "transforms = [torchvision.transforms.ToTensor()] # no longer grayscale conversion\n",
    "#0 = train, 1 = test\n",
    "dataset_valid = GetLoader_w_val(data, orientation, list(['Cardiomegaly', 'Effusion', 'Mass', 'Nodule', 'Atelectasis', 'No Finding']),\n",
    "                          num_imgs, tt_factor, 1, transforms)\n",
    "\n",
    "print(len(dataset_valid))"
   ]
  },
  {
   "cell_type": "code",
   "execution_count": 8,
   "metadata": {},
   "outputs": [
    {
     "name": "stdout",
     "output_type": "stream",
     "text": [
      "2057\n"
     ]
    }
   ],
   "source": [
    "valid_loader = torch.utils.data.DataLoader(dataset_valid, batch_size=batch_size_train, shuffle=True, num_workers=1)\n",
    "print(len(valid_loader))"
   ]
  },
  {
   "cell_type": "code",
   "execution_count": 9,
   "metadata": {},
   "outputs": [
    {
     "name": "stderr",
     "output_type": "stream",
     "text": [
      "Using cache found in /home/npp002/.cache/torch/hub/pytorch_vision_v0.6.0\n"
     ]
    }
   ],
   "source": [
    "model = torch.hub.load('pytorch/vision:v0.6.0', 'resnet18', pretrained=True)"
   ]
  },
  {
   "cell_type": "code",
   "execution_count": 10,
   "metadata": {},
   "outputs": [],
   "source": [
    "model.fc = nn.Sequential(*[\n",
    "    nn.Linear(in_features=512, out_features=6, bias=True),\n",
    "    nn.Sigmoid()\n",
    "])\n",
    "\n",
    "model = torch.nn.DataParallel(model)\n",
    "model.cuda();"
   ]
  },
  {
   "cell_type": "code",
   "execution_count": 11,
   "metadata": {},
   "outputs": [],
   "source": [
    "path_multi = './data/saved_models/all_diseases_all_imgs.pth'"
   ]
  },
  {
   "cell_type": "code",
   "execution_count": 15,
   "metadata": {},
   "outputs": [],
   "source": [
    "from collections import OrderedDict\n",
    "state_dict = torch.load(path_multi)\n",
    "new_state_dict = OrderedDict()\n",
    "for k,v in state_dict.items():\n",
    "    new_state_dict[k[14:]] = state_dict[k]"
   ]
  },
  {
   "cell_type": "code",
   "execution_count": 16,
   "metadata": {},
   "outputs": [],
   "source": [
    "torch.save(new_state_dict, path_multi)"
   ]
  },
  {
   "cell_type": "code",
   "execution_count": 17,
   "metadata": {
    "scrolled": true
   },
   "outputs": [
    {
     "data": {
      "text/plain": [
       "<All keys matched successfully>"
      ]
     },
     "execution_count": 17,
     "metadata": {},
     "output_type": "execute_result"
    }
   ],
   "source": [
    "model.load_state_dict(torch.load(path_multi))"
   ]
  },
  {
   "cell_type": "code",
   "execution_count": 18,
   "metadata": {},
   "outputs": [
    {
     "name": "stdout",
     "output_type": "stream",
     "text": [
      "loaded all predictions with labels\n"
     ]
    }
   ],
   "source": [
    "preds = {}\n",
    "labels = {}\n",
    "\n",
    "for imgs, labs in valid_loader:\n",
    "    p = model(imgs)\n",
    "    p = p.detach().cpu().numpy().reshape(6,)\n",
    "    labs = labs.detach().cpu().numpy().reshape(6,)\n",
    "    \n",
    "    \n",
    "    for name, idx in dis_small_map.items():\n",
    "        preds[name] = np.append(preds.get(name, np.array([])), p[idx])\n",
    "        labels[name] = np.append(labels.get(name, np.array([])), labs[idx])\n",
    "\n",
    "print(\"loaded all predictions with labels\")"
   ]
  },
  {
   "cell_type": "code",
   "execution_count": 19,
   "metadata": {},
   "outputs": [],
   "source": [
    "# preds_all = np.array([])\n",
    "# labels_all = np.array([])\n",
    "\n",
    "# for imgs, labs in valid_loader:\n",
    "\n",
    "#     p = model(imgs)\n",
    "#     p = p.detach().cpu().numpy().reshape(6,)\n",
    "#     labs = labs.detach().cpu().numpy().reshape(6,)\n",
    "    \n",
    "#     preds_all = np.append(preds_all, p)\n",
    "#     labels_all = np.append(labels_all, labs)\n",
    "\n",
    "# print(\"loaded all predictions with labels\")"
   ]
  },
  {
   "cell_type": "code",
   "execution_count": 21,
   "metadata": {},
   "outputs": [
    {
     "data": {
      "image/png": "[encoded data removed]",
      "text/plain": [
       "<Figure size 432x288 with 1 Axes>"
      ]
     },
     "metadata": {
      "needs_background": "light"
     },
     "output_type": "display_data"
    }
   ],
   "source": [
    "plt.figure()\n",
    "plt.plot([0, 1], [0, 1], color='navy', lw=2, linestyle='--')\n",
    "\n",
    "for name in ['Atelectasis', 'Cardiomegaly', 'Effusion', 'Mass', 'Nodule', 'No Finding']: #preds.keys():\n",
    "\n",
    "    y_test = labels[name]\n",
    "    y_score = preds[name]\n",
    "\n",
    "    fpr, tpr, thresholds = metrics.roc_curve(y_test, y_score, pos_label=1)\n",
    "    roc_auc = auc(fpr, tpr)\n",
    "\n",
    "    plt.plot(fpr, tpr, lw=1, label= name + ' ROC curve (area = %0.2f)' % roc_auc)\n",
    "\n",
    "plt.xlim([0.0, 1.0])\n",
    "plt.ylim([0.0, 1.0])\n",
    "plt.xlabel('False Positive Rate')\n",
    "plt.ylabel('True Positive Rate')\n",
    "plt.title('Receiver operating characteristic across classes')\n",
    "plt.legend(loc=\"lower right\")\n",
    "plt.show()"
   ]
  },
  {
   "cell_type": "code",
   "execution_count": null,
   "metadata": {},
   "outputs": [],
   "source": [
    "# plt.figure()\n",
    "# plt.plot([0, 1], [0, 1], color='navy', lw=2, linestyle='--')\n",
    "\n",
    "# y_test = labels_all\n",
    "# y_score = preds_all\n",
    "\n",
    "# fpr, tpr, thresholds = metrics.roc_curve(y_test, y_score, pos_label=1)\n",
    "# roc_auc = auc(fpr, tpr)\n",
    "\n",
    "# plt.plot(fpr, tpr, lw=1, label= 'all' + ' ROC curve (area = %0.2f)' % roc_auc)\n",
    "\n",
    "# plt.xlim([0.0, 1.0])\n",
    "# plt.ylim([0.0, 1.05])\n",
    "# plt.xlabel('False Positive Rate')\n",
    "# plt.ylabel('True Positive Rate')\n",
    "# plt.title('Receiver operating characteristic across classes')\n",
    "# plt.legend(loc=\"lower right\")\n",
    "# plt.show()"
   ]
  },
  {
   "cell_type": "code",
   "execution_count": null,
   "metadata": {},
   "outputs": [],
   "source": [
    "# plt.figure()\n",
    "# plt.plot([0, 1], [0, 1], color='navy', lw=2, linestyle='--')\n",
    "\n",
    "# for name in preds.keys():\n",
    "\n",
    "#     y_test = labels[name]\n",
    "#     y_score = preds[name]\n",
    "\n",
    "#     fpr, tpr, thresholds = metrics.roc_curve(y_test, y_score, pos_label=1)\n",
    "#     roc_auc = auc(fpr, tpr)\n",
    "\n",
    "#     plt.plot(fpr, tpr, lw=1, label= name + ' ROC curve (area = %0.2f)' % roc_auc)\n",
    "\n",
    "# plt.xlim([0.0, 1.0])\n",
    "# plt.ylim([0.0, 1.05])\n",
    "# plt.xlabel('False Positive Rate')\n",
    "# plt.ylabel('True Positive Rate')\n",
    "# plt.title('Receiver operating characteristic across classes')\n",
    "# plt.legend(loc=\"lower right\")\n",
    "# plt.show()"
   ]
  },
  {
   "cell_type": "code",
   "execution_count": null,
   "metadata": {},
   "outputs": [],
   "source": [
    "preds['Cardiomegaly'][0:10]"
   ]
  },
  {
   "cell_type": "code",
   "execution_count": null,
   "metadata": {},
   "outputs": [],
   "source": [
    "labels['Cardiomegaly'][0:10]"
   ]
  },
  {
   "cell_type": "code",
   "execution_count": null,
   "metadata": {},
   "outputs": [],
   "source": [
    "# preds_t = {}\n",
    "# labels_t = {}\n",
    "\n",
    "# for imgs, labs in valid_loader:\n",
    "\n",
    "#     print('labs.shape =', labs.shape)\n",
    "#     print('p.shape    =', p.shape)\n",
    "#     print('labs:       ', labs)\n",
    "#     print('p:          ', p)\n",
    "    \n",
    "    \n",
    "#     p = model(imgs)\n",
    "#     p = p.detach().cpu().numpy().reshape(15,)\n",
    "#     labs = labs.detach().cpu().numpy().reshape(15,)\n",
    "    \n",
    "#     print('--alter complete--')\n",
    "    \n",
    "#     print('labs.shape =', labs.shape)\n",
    "#     print('p.shape    =', p.shape)\n",
    "#     print('labs:       ', labs)\n",
    "#     print('p:          ', p)\n",
    "    \n",
    "#     print('\\n---next---\\n')\n",
    "    \n",
    "#     for name, idx in disease_map.items():\n",
    "#         preds_t[name] = np.append(preds_t.get(name, np.array([])), p[idx])\n",
    "#         labels_t[name] = np.append(labels_t.get(name, np.array([])), labs[idx])\n",
    "\n",
    "# print(\"loaded all predictions with labels\")"
   ]
  },
  {
   "cell_type": "code",
   "execution_count": null,
   "metadata": {},
   "outputs": [],
   "source": [
    "plt.hist(preds['Cardiomegaly'], label='Cardiomegaly')\n",
    "plt.hist(preds['Effusion'], label='Effusion')\n",
    "plt.hist(preds['Nodule'], label='Nodule')\n",
    "plt.hist(preds['Mass'], label='Mass')\n",
    "plt.hist(preds['Atelectasis'], label='Atelectasis')\n",
    "plt.legend()"
   ]
  },
  {
   "cell_type": "code",
   "execution_count": null,
   "metadata": {},
   "outputs": [],
   "source": [
    "for name in list(preds.keys()):\n",
    "    plt.hist(preds[name], label=name)"
   ]
  },
  {
   "cell_type": "code",
   "execution_count": null,
   "metadata": {},
   "outputs": [],
   "source": [
    "cardio_correct = np.array([])\n",
    "cardio_wrong = np.array([])\n",
    "\n",
    "for i in range(len(preds['Cardiomegaly'])):\n",
    "    if labels['Cardiomegaly'][i] == 1:\n",
    "        cardio_correct = np.append(cardio_correct, preds['Cardiomegaly'][i])\n",
    "    else:\n",
    "        cardio_wrong = np.append(cardio_wrong, preds['Cardiomegaly'][i])"
   ]
  },
  {
   "cell_type": "code",
   "execution_count": null,
   "metadata": {},
   "outputs": [],
   "source": [
    "plt.hist(cardio_correct, label='cardio present', alpha=0.8)\n",
    "plt.hist(cardio_wrong, label='not present', alpha=0.5)\n",
    "\n",
    "plt.legend()"
   ]
  },
  {
   "cell_type": "code",
   "execution_count": null,
   "metadata": {},
   "outputs": [],
   "source": [
    "preds, labs = next(iter(valid_loader))"
   ]
  },
  {
   "cell_type": "code",
   "execution_count": null,
   "metadata": {},
   "outputs": [],
   "source": [
    "preds = model(preds.cuda())"
   ]
  },
  {
   "cell_type": "code",
   "execution_count": null,
   "metadata": {},
   "outputs": [],
   "source": [
    "preds"
   ]
  },
  {
   "cell_type": "code",
   "execution_count": null,
   "metadata": {},
   "outputs": [],
   "source": [
    "labs[0]"
   ]
  },
  {
   "cell_type": "code",
   "execution_count": null,
   "metadata": {},
   "outputs": [],
   "source": [
    "preds.shape"
   ]
  },
  {
   "cell_type": "code",
   "execution_count": null,
   "metadata": {},
   "outputs": [],
   "source": [
    "labs.shape"
   ]
  },
  {
   "cell_type": "code",
   "execution_count": null,
   "metadata": {},
   "outputs": [],
   "source": []
  }
 ],
 "metadata": {
  "kernelspec": {
   "display_name": "Python 3",
   "language": "python",
   "name": "python3"
  },
  "language_info": {
   "codemirror_mode": {
    "name": "ipython",
    "version": 3
   },
   "file_extension": ".py",
   "mimetype": "text/x-python",
   "name": "python",
   "nbconvert_exporter": "python",
   "pygments_lexer": "ipython3",
   "version": "3.7.7"
  }
 },
 "nbformat": 4,
 "nbformat_minor": 4
}
