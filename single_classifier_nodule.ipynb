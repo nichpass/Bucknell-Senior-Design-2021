{
 "cells": [
  {
   "cell_type": "code",
   "execution_count": 116,
   "metadata": {},
   "outputs": [],
   "source": [
    "import os\n",
    "import torch\n",
    "import torchvision\n",
    "\n",
    "import h5py\n",
    "import deepdish as dd\n",
    "\n",
    "import torch.nn as nn\n",
    "import torch.nn.functional as F\n",
    "import torch.optim as optim\n",
    "\n",
    "import torchvision\n",
    "\n",
    "import matplotlib.pyplot as plt\n",
    "\n",
    "from PIL import Image\n",
    "\n",
    "import time\n",
    "import pickle as pkl"
   ]
  },
  {
   "cell_type": "code",
   "execution_count": 117,
   "metadata": {},
   "outputs": [
    {
     "data": {
      "text/plain": [
       "<torch._C.Generator at 0x7f50f1980110>"
      ]
     },
     "execution_count": 117,
     "metadata": {},
     "output_type": "execute_result"
    }
   ],
   "source": [
    "n_epochs = 25\n",
    "batch_size_train = 32# was 64\n",
    "batch_size_test = 32\n",
    "learning_rate = 0.001\n",
    "momentum = 0.1\n",
    "log_interval = 31\n",
    "\n",
    "random_seed = 1\n",
    "#torch.backends.cudnn.enabled = False\n",
    "torch.manual_seed(random_seed)"
   ]
  },
  {
   "cell_type": "code",
   "execution_count": 118,
   "metadata": {},
   "outputs": [],
   "source": [
    "''' \n",
    "    NOTES: \n",
    "    - it's \"No Finding\" not \"No findings\"\n",
    "    - it's \"Pleural_Thickening\" not \"Pleural_thickening\"\n",
    "    - it's not \"Nodule Mass\", but rather \"Nodule\" and \"Mass\" separately\n",
    "'''\n",
    "disease_map = {\"Atelectasis\" : 0, \"Consolidation\" : 1, \"Infiltration\" : 2, \"Pneumothorax\": 3, \"Edema\": 4,\n",
    "               \"Emphysema\": 5, \"Fibrosis\": 6, \"Effusion\" : 7, \"Pneumonia\" : 8, \"Pleural_Thickening\" : 9,\n",
    "               \"Cardiomegaly\" : 10, \"Nodule\" : 11, \"Mass\" : 12, \"Hernia\" : 13, \"No Finding\" : 14 }\n"
   ]
  },
  {
   "cell_type": "code",
   "execution_count": 119,
   "metadata": {},
   "outputs": [],
   "source": [
    "class GetLoader(torch.utils.data.Dataset):\n",
    "    def __init__(self, data, view, disease, start, stop, transforms=None):\n",
    "        \n",
    "        self.root = os.path.join('data/sorted_images',)\n",
    "        self.data = data # dict object\n",
    "        self.transforms = transforms\n",
    "            \n",
    "        datalist = self.data[view][disease][start:stop]\n",
    "        \n",
    "        self.len_data = len(datalist)\n",
    "        \n",
    "\n",
    "        # data objects at the lowest level are stored using this format:\n",
    "        # {'img_name': '00000011_006.png', 'classes': ['Atelectasis'], 'age': '75', 'gender': 'M'}\n",
    "        \n",
    "        for data in datalist:\n",
    "            \n",
    "            data['img_path'] = os.path.join(self.root, data['classes'][0], view, data['img_name'])            \n",
    "            diseases = data['classes']\n",
    "            one_hot = [0] * 15\n",
    "\n",
    "            for d in diseases:\n",
    "                hot_index = disease_map[d]\n",
    "                one_hot[hot_index] = 1\n",
    "            \n",
    "            data['label_tensor'] = torch.Tensor(one_hot)\n",
    "            \n",
    "        self.img_paths = []\n",
    "        self.img_labels = []\n",
    "        \n",
    "        for i in range(len(datalist)):\n",
    "            self.img_paths.append(datalist[i]['img_path'])\n",
    "            self.img_labels.append(datalist[i]['label_tensor'])\n",
    "\n",
    "    def __getitem__(self, item):\n",
    "        \n",
    "        img_path, label = self.img_paths[item], self.img_labels[item]\n",
    "  \n",
    "        try:\n",
    "            img = (Image.open(img_path))\n",
    "        except:\n",
    "            img_path = img_path.replace('/AP/', '/PA/')\n",
    "            img = (Image.open(img_path))\n",
    "        #imgs = Image.open(img_paths) # .convert('RGB')\n",
    "        self.cur_img_path = img_path\n",
    "\n",
    "        if self.transforms is not None:\n",
    "            for t in self.transforms:\n",
    "                img = t(img)\n",
    "\n",
    "        return img, label\n",
    "    \n",
    "    def get_img_path(self):\n",
    "        return self.cur_img_path\n",
    "\n",
    "    def __len__(self):\n",
    "        return self.len_data"
   ]
  },
  {
   "cell_type": "markdown",
   "metadata": {},
   "source": [
    "### load in datasets"
   ]
  },
  {
   "cell_type": "code",
   "execution_count": 120,
   "metadata": {},
   "outputs": [
    {
     "name": "stdout",
     "output_type": "stream",
     "text": [
      "data loaded in successfully\n"
     ]
    }
   ],
   "source": [
    "pkl_load = open('dataset.pickle', 'rb')\n",
    "data = pkl.load(pkl_load)\n",
    "pkl_load.close()\n",
    "print(\"data loaded in successfully\")"
   ]
  },
  {
   "cell_type": "code",
   "execution_count": 121,
   "metadata": {},
   "outputs": [
    {
     "name": "stdout",
     "output_type": "stream",
     "text": [
      "2154\n",
      "0 1723 1723 -1\n"
     ]
    }
   ],
   "source": [
    "total = len(data['AP']['Nodule'])\n",
    "train_start, train_stop = 0, total * 4 // 5\n",
    "test_start, test_stop = train_stop, -1\n",
    "\n",
    "print(total)\n",
    "print(train_start, train_stop, test_start, test_stop)"
   ]
  },
  {
   "cell_type": "code",
   "execution_count": 122,
   "metadata": {},
   "outputs": [],
   "source": [
    "transforms = [torchvision.transforms.Grayscale(), torchvision.transforms.ToTensor()]"
   ]
  },
  {
   "cell_type": "code",
   "execution_count": 123,
   "metadata": {},
   "outputs": [],
   "source": [
    "dataset_train = GetLoader(data, 'AP', 'Nodule', train_start, train_stop, transforms)\n",
    "dataset_test = GetLoader(data, 'AP', 'Nodule', test_start, test_stop, transforms)"
   ]
  },
  {
   "cell_type": "code",
   "execution_count": 124,
   "metadata": {},
   "outputs": [
    {
     "name": "stdout",
     "output_type": "stream",
     "text": [
      "54\n",
      "14\n"
     ]
    }
   ],
   "source": [
    "\n",
    "train_loader = torch.utils.data.DataLoader(dataset_train, batch_size=batch_size_train, shuffle=True)\n",
    "test_loader = torch.utils.data.DataLoader(dataset_test, batch_size=batch_size_train, shuffle=True)\n",
    "\n",
    "print(len(train_loader))\n",
    "print(len(test_loader))"
   ]
  },
  {
   "cell_type": "code",
   "execution_count": 125,
   "metadata": {},
   "outputs": [],
   "source": [
    "class ConvBlock(nn.Module):\n",
    "    def __init__(self, n_filters_in, n_filters_out, kernel_size=3, stride=1, padding=0): #k=3, s=2, p=0 for down\n",
    "        super(ConvBlock, self).__init__()\n",
    "        ops = []\n",
    "        \n",
    "        ops.append(nn.Conv2d(n_filters_in, n_filters_out, kernel_size, padding=padding, stride=stride))\n",
    "        ops.append(nn.BatchNorm2d(n_filters_out))\n",
    "        ops.append(nn.ReLU(inplace=True))\n",
    "        \n",
    "        self.conv = nn.Sequential(*ops)\n",
    "        \n",
    "        \n",
    "    def forward(self, x):\n",
    "        x = self.conv(x)\n",
    "        return x"
   ]
  },
  {
   "cell_type": "code",
   "execution_count": 144,
   "metadata": {},
   "outputs": [],
   "source": [
    "class Net(nn.Module):\n",
    "    def __init__(self):\n",
    "        super(Net, self).__init__()\n",
    "        self.conv1 = ConvBlock(1, 10, kernel_size=3, stride=2, padding=1) # 1024x1024 -> 512x512\n",
    "        self.conv2 = ConvBlock(10, 20, kernel_size=3, stride=2, padding=1) # 512x512 -> 256x256\n",
    "        self.conv3 = ConvBlock(20, 40, kernel_size=3, stride=2, padding=1) # 256x256 -> 128x128\n",
    "        self.conv4 = ConvBlock(40, 80, kernel_size=3, stride=2, padding=1) # 128x128 -> 64x64\n",
    "        self.conv5 = ConvBlock(80, 80, kernel_size=3, stride=2, padding=1) # 64x64 -> 32x32\n",
    "        self.conv_drop = nn.Dropout2d()\n",
    "        self.fc1 = nn.Linear(80 * 32 * 32, 100)\n",
    "        self.fc2 = nn.Linear(100, 15)  # changed output to 15 since 15 disease classes\n",
    "        self.sigmoid = nn.Sigmoid()\n",
    "    \n",
    "    \n",
    "    # hook for the gradients of the activations\n",
    "    def activations_hook(self, grad):\n",
    "        self.gradients = grad\n",
    "        \n",
    "    def forward(self, x):\n",
    "        x = self.conv1(x)\n",
    "        x = self.conv2(x)\n",
    "        x = self.conv3(x)\n",
    "        x = self.conv4(x)\n",
    "        # Final feature reduction - gradient map goes here\n",
    "        #if self.train and x.requires_grad:\n",
    "            #h = x.register_hook(self.activations_hook)\n",
    "        \n",
    "        x = self.conv5(x)\n",
    "        x = self.conv_drop(x)\n",
    "        \n",
    "        x = x.view(-1, 20 * 64 * 64)\n",
    "        x = F.relu(self.fc1(x))\n",
    "        x = F.dropout(x, training=self.training)\n",
    "        x = self.fc2(x)\n",
    "        x = self.sigmoid(x)\n",
    "        return x\n",
    "    \n",
    "    def get_activations(self, x):\n",
    "        x = self.conv1(x)\n",
    "        x = self.conv2(x)\n",
    "        x = self.conv3(x)\n",
    "        x = self.conv4(x)\n",
    "        return x"
   ]
  },
  {
   "cell_type": "code",
   "execution_count": 145,
   "metadata": {},
   "outputs": [
    {
     "name": "stdout",
     "output_type": "stream",
     "text": [
      "Trainable params: 8297490\n"
     ]
    }
   ],
   "source": [
    "network = Net()\n",
    "#network = torchvision.models.vgg11(pretrained=False)\n",
    "network.fc = nn.Linear(512, 15)\n",
    "network = torch.nn.DataParallel(network)\n",
    "network.cuda()\n",
    "optimizer = optim.SGD(network.parameters(), lr=learning_rate,\n",
    "                      momentum=momentum)\n",
    "print('Trainable params: {}'.format(sum(p.numel() for p in network.parameters() if p.requires_grad)))"
   ]
  },
  {
   "cell_type": "code",
   "execution_count": 146,
   "metadata": {},
   "outputs": [],
   "source": [
    "def train(epoch):\n",
    "\n",
    "    network.train()\n",
    "    train_losses = []\n",
    "    correct = 0\n",
    "    num_tested = 0\n",
    "    net_loss = 0\n",
    "    \n",
    "    for batch_idx, (data, target) in enumerate(train_loader):  # (output - actual )\n",
    "        \n",
    "        if torch.cuda.is_available:\n",
    "            data, target = data.cuda(), target.cuda()\n",
    "\n",
    "        output = network(data)\n",
    "        \n",
    "        criterion = torch.nn.BCELoss()  # 1 0 1 0 0 0 \n",
    "        loss = criterion(output, target)\n",
    "        loss.backward()\n",
    "        \n",
    "        net_loss += loss.detach().cpu().item()\n",
    "        train_losses.append(loss.item())\n",
    "\n",
    "        num_tested += len(data)\n",
    "        \n",
    "        if batch_idx == len(train_loader) - 1:\n",
    "            optimizer.zero_grad()\n",
    "            optimizer.step()\n",
    "        \n",
    "        #if(batch_idx == 1):\n",
    "            #print(output)\n",
    "            \n",
    "        for p in output:\n",
    "            p = p.data\n",
    "\n",
    "            for i in range(len(p)):\n",
    "                if p[i] > 0.5:\n",
    "                    p[i] = 1\n",
    "                else:\n",
    "                    p[i] = 0\n",
    "            torch.tensor(p)\n",
    "            \n",
    "        correct = torch.sum(torch.tensor(output == target)).sum()\n",
    "        \n",
    "    net_loss /= len(train_loader)\n",
    "    return net_loss, correct\n"
   ]
  },
  {
   "cell_type": "code",
   "execution_count": 147,
   "metadata": {},
   "outputs": [],
   "source": [
    "def test():\n",
    "    \n",
    "    network.eval()\n",
    "    test_losses = []\n",
    "    net_loss = 0\n",
    "    correct = 0\n",
    "    \n",
    "    num_tested = 0\n",
    "    \n",
    "    with torch.no_grad():\n",
    "        for batch_idx, (data, target) in enumerate(test_loader):\n",
    "            if torch.cuda.is_available:\n",
    "                data, target = data.cuda(), target.cuda()\n",
    "                \n",
    "            if batch_idx == 50:\n",
    "                break;\n",
    "            else:\n",
    "                num_tested += len(data)\n",
    "            \n",
    "            output = network(data)\n",
    "            criterion = torch.nn.BCELoss()\n",
    "            net_loss += criterion(output, target).item()\n",
    "\n",
    "            pred = output.clone().cpu()\n",
    "            target = target.cpu()\n",
    "            \n",
    "            for p in pred:\n",
    "                p = p.data\n",
    "\n",
    "                for i in range(len(p)):\n",
    "                    if p[i] > 0.5:\n",
    "                        p[i] = 1\n",
    "                    else:\n",
    "                        p[i] = 0\n",
    "                torch.tensor(p)\n",
    "\n",
    "\n",
    "            correct = torch.sum(torch.tensor(pred == target)).sum()\n",
    "        \n",
    "    net_loss /= len(test_loader)\n",
    "    return net_loss, correct\n"
   ]
  },
  {
   "cell_type": "code",
   "execution_count": 148,
   "metadata": {},
   "outputs": [
    {
     "name": "stdout",
     "output_type": "stream",
     "text": [
      "1\n",
      "GeForce RTX 2080 Ti\n",
      "True\n"
     ]
    }
   ],
   "source": [
    "print(torch.cuda.device_count())\n",
    "print(torch.cuda.get_device_name(0))\n",
    "print(torch.cuda.is_available())"
   ]
  },
  {
   "cell_type": "code",
   "execution_count": 149,
   "metadata": {},
   "outputs": [
    {
     "name": "stdout",
     "output_type": "stream",
     "text": [
      "1728 448\n"
     ]
    }
   ],
   "source": [
    "train_sample_size = len(train_loader) * batch_size_train\n",
    "test_sample_size = len(test_loader) * batch_size_test\n",
    "print(train_sample_size, test_sample_size)"
   ]
  },
  {
   "cell_type": "code",
   "execution_count": 150,
   "metadata": {},
   "outputs": [
    {
     "name": "stdout",
     "output_type": "stream",
     "text": [
      "Starting Training...\n"
     ]
    },
    {
     "name": "stderr",
     "output_type": "stream",
     "text": [
      "/usr/remote/anaconda-3.7-2020-05-28/lib/python3.7/site-packages/ipykernel_launcher.py:35: UserWarning: To copy construct from a tensor, it is recommended to use sourceTensor.clone().detach() or sourceTensor.clone().detach().requires_grad_(True), rather than torch.tensor(sourceTensor).\n",
      "/usr/remote/anaconda-3.7-2020-05-28/lib/python3.7/site-packages/ipykernel_launcher.py:38: UserWarning: To copy construct from a tensor, it is recommended to use sourceTensor.clone().detach() or sourceTensor.clone().detach().requires_grad_(True), rather than torch.tensor(sourceTensor).\n",
      "/usr/remote/anaconda-3.7-2020-05-28/lib/python3.7/site-packages/ipykernel_launcher.py:40: UserWarning: To copy construct from a tensor, it is recommended to use sourceTensor.clone().detach() or sourceTensor.clone().detach().requires_grad_(True), rather than torch.tensor(sourceTensor).\n",
      "/usr/remote/anaconda-3.7-2020-05-28/lib/python3.7/site-packages/ipykernel_launcher.py:42: UserWarning: To copy construct from a tensor, it is recommended to use sourceTensor.clone().detach() or sourceTensor.clone().detach().requires_grad_(True), rather than torch.tensor(sourceTensor).\n"
     ]
    },
    {
     "name": "stdout",
     "output_type": "stream",
     "text": [
      "-----------Epoch 1 (time =  42.59 s) ----------------\n",
      "\n",
      "Test set:  Avg. loss: 0.6998, Accuracy: 91/448 (20%)\n",
      "Train set: Avg. loss: 0.7135, Accuracy: 193/1728 (11%)\n",
      "\n",
      "-----------Epoch 2 (time =  42.73 s) ----------------\n",
      "\n",
      "Test set:  Avg. loss: 0.6984, Accuracy: 112/448 (25%)\n",
      "Train set: Avg. loss: 0.7127, Accuracy: 194/1728 (11%)\n",
      "\n",
      "-----------Epoch 3 (time =  42.87 s) ----------------\n",
      "\n",
      "Test set:  Avg. loss: 0.6993, Accuracy: 103/448 (23%)\n",
      "Train set: Avg. loss: 0.7146, Accuracy: 186/1728 (11%)\n",
      "\n",
      "-----------Epoch 4 (time =  42.92 s) ----------------\n",
      "\n",
      "Test set:  Avg. loss: 0.6996, Accuracy: 94/448 (21%)\n",
      "Train set: Avg. loss: 0.7134, Accuracy: 177/1728 (10%)\n",
      "\n",
      "-----------Epoch 5 (time =  42.87 s) ----------------\n",
      "\n",
      "Test set:  Avg. loss: 0.6990, Accuracy: 109/448 (24%)\n",
      "Train set: Avg. loss: 0.7135, Accuracy: 201/1728 (12%)\n",
      "\n",
      "-----------Epoch 6 (time =  42.89 s) ----------------\n",
      "\n",
      "Test set:  Avg. loss: 0.6988, Accuracy: 121/448 (27%)\n",
      "Train set: Avg. loss: 0.7133, Accuracy: 194/1728 (11%)\n",
      "\n",
      "-----------Epoch 7 (time =  42.86 s) ----------------\n",
      "\n",
      "Test set:  Avg. loss: 0.6990, Accuracy: 104/448 (23%)\n",
      "Train set: Avg. loss: 0.7137, Accuracy: 193/1728 (11%)\n",
      "\n",
      "-----------Epoch 8 (time =  42.92 s) ----------------\n",
      "\n",
      "Test set:  Avg. loss: 0.6991, Accuracy: 108/448 (24%)\n",
      "Train set: Avg. loss: 0.7148, Accuracy: 204/1728 (12%)\n",
      "\n",
      "-----------Epoch 9 (time =  43.08 s) ----------------\n",
      "\n",
      "Test set:  Avg. loss: 0.6993, Accuracy: 101/448 (23%)\n",
      "Train set: Avg. loss: 0.7126, Accuracy: 187/1728 (11%)\n",
      "\n",
      "-----------Epoch 10 (time =  43.03 s) ----------------\n",
      "\n",
      "Test set:  Avg. loss: 0.6991, Accuracy: 108/448 (24%)\n",
      "Train set: Avg. loss: 0.7126, Accuracy: 207/1728 (12%)\n",
      "\n",
      "-----------Epoch 11 (time =  43.6 s) ----------------\n",
      "\n",
      "Test set:  Avg. loss: 0.6989, Accuracy: 110/448 (25%)\n",
      "Train set: Avg. loss: 0.7123, Accuracy: 211/1728 (12%)\n",
      "\n",
      "-----------Epoch 12 (time =  42.95 s) ----------------\n",
      "\n",
      "Test set:  Avg. loss: 0.6990, Accuracy: 111/448 (25%)\n",
      "Train set: Avg. loss: 0.7124, Accuracy: 198/1728 (11%)\n",
      "\n",
      "-----------Epoch 13 (time =  42.91 s) ----------------\n",
      "\n",
      "Test set:  Avg. loss: 0.6988, Accuracy: 104/448 (23%)\n",
      "Train set: Avg. loss: 0.7127, Accuracy: 199/1728 (12%)\n",
      "\n",
      "-----------Epoch 14 (time =  43.35 s) ----------------\n",
      "\n",
      "Test set:  Avg. loss: 0.6995, Accuracy: 101/448 (23%)\n",
      "Train set: Avg. loss: 0.7140, Accuracy: 191/1728 (11%)\n",
      "\n",
      "-----------Epoch 15 (time =  43.01 s) ----------------\n",
      "\n",
      "Test set:  Avg. loss: 0.6987, Accuracy: 109/448 (24%)\n",
      "Train set: Avg. loss: 0.7122, Accuracy: 207/1728 (12%)\n",
      "\n",
      "-----------Epoch 16 (time =  43.32 s) ----------------\n",
      "\n",
      "Test set:  Avg. loss: 0.6994, Accuracy: 101/448 (23%)\n",
      "Train set: Avg. loss: 0.7136, Accuracy: 193/1728 (11%)\n",
      "\n",
      "-----------Epoch 17 (time =  42.94 s) ----------------\n",
      "\n",
      "Test set:  Avg. loss: 0.6991, Accuracy: 101/448 (23%)\n",
      "Train set: Avg. loss: 0.7138, Accuracy: 194/1728 (11%)\n",
      "\n",
      "-----------Epoch 18 (time =  42.9 s) ----------------\n",
      "\n",
      "Test set:  Avg. loss: 0.6986, Accuracy: 112/448 (25%)\n",
      "Train set: Avg. loss: 0.7131, Accuracy: 190/1728 (11%)\n",
      "\n",
      "-----------Epoch 19 (time =  42.95 s) ----------------\n",
      "\n",
      "Test set:  Avg. loss: 0.6990, Accuracy: 108/448 (24%)\n",
      "Train set: Avg. loss: 0.7135, Accuracy: 203/1728 (12%)\n",
      "\n",
      "-----------Epoch 20 (time =  43.21 s) ----------------\n",
      "\n",
      "Test set:  Avg. loss: 0.6992, Accuracy: 109/448 (24%)\n",
      "Train set: Avg. loss: 0.7135, Accuracy: 205/1728 (12%)\n",
      "\n",
      "-----------Epoch 21 (time =  43.14 s) ----------------\n",
      "\n",
      "Test set:  Avg. loss: 0.6990, Accuracy: 110/448 (25%)\n",
      "Train set: Avg. loss: 0.7132, Accuracy: 188/1728 (11%)\n",
      "\n",
      "-----------Epoch 22 (time =  43.08 s) ----------------\n",
      "\n",
      "Test set:  Avg. loss: 0.6987, Accuracy: 107/448 (24%)\n",
      "Train set: Avg. loss: 0.7135, Accuracy: 205/1728 (12%)\n",
      "\n",
      "-----------Epoch 23 (time =  43.23 s) ----------------\n",
      "\n",
      "Test set:  Avg. loss: 0.6988, Accuracy: 104/448 (23%)\n",
      "Train set: Avg. loss: 0.7118, Accuracy: 201/1728 (12%)\n",
      "\n",
      "-----------Epoch 24 (time =  43.12 s) ----------------\n",
      "\n",
      "Test set:  Avg. loss: 0.6993, Accuracy: 104/448 (23%)\n",
      "Train set: Avg. loss: 0.7144, Accuracy: 196/1728 (11%)\n",
      "\n",
      "-----------Epoch 25 (time =  42.98 s) ----------------\n",
      "\n",
      "Test set:  Avg. loss: 0.6992, Accuracy: 101/448 (23%)\n",
      "Train set: Avg. loss: 0.7137, Accuracy: 193/1728 (11%)\n",
      "\n"
     ]
    }
   ],
   "source": [
    "print(\"Starting Training...\")\n",
    "test()\n",
    "for epoch in range(1, n_epochs + 1):\n",
    "    start_time = time.time()\n",
    "\n",
    "    loss_train, n_correct_train = train(epoch)\n",
    "    loss_test, n_correct_test = test()\n",
    "    \n",
    "    elapsed_time = time.time() - start_time\n",
    "    print(\"-----------Epoch \" + str(epoch) + \" (time = \", round(elapsed_time, 2), \"s) ----------------\")\n",
    "    print('\\nTest set:  Avg. loss: {:.4f}, Accuracy: {}/{} ({:.0f}%)'.format(\n",
    "        loss_test, n_correct_test, test_sample_size, 100. * n_correct_test / test_sample_size))\n",
    "    print('Train set: Avg. loss: {:.4f}, Accuracy: {}/{} ({:.0f}%)\\n'.format(\n",
    "        loss_train, n_correct_train, train_sample_size, 100. * n_correct_train / train_sample_size))\n",
    "    "
   ]
  },
  {
   "cell_type": "markdown",
   "metadata": {},
   "source": [
    "### verifying components work below"
   ]
  },
  {
   "cell_type": "code",
   "execution_count": 156,
   "metadata": {},
   "outputs": [
    {
     "name": "stdout",
     "output_type": "stream",
     "text": [
      "displaying label vector vs network output\n",
      "tensor([0., 0., 0., 0., 0., 0., 0., 0., 0., 0., 0., 1., 0., 0., 0.])\n",
      "tensor([0.4621, 0.4836, 0.5350, 0.5196, 0.4424, 0.5067, 0.4118, 0.5184, 0.4518,\n",
      "        0.4963, 0.5426, 0.4930, 0.4911, 0.5354, 0.4615])\n"
     ]
    }
   ],
   "source": [
    "train_loader = torch.utils.data.DataLoader(dataset_train, batch_size=batch_size_train, shuffle=True)\n",
    "img, label = next(iter(train_loader))\n",
    "print(\"displaying label vector vs network output:\")\n",
    "print(label[0])\n",
    "pred = network(img)\n",
    "print(pred[0].cpu().data)\n"
   ]
  },
  {
   "cell_type": "code",
   "execution_count": 159,
   "metadata": {},
   "outputs": [
    {
     "name": "stdout",
     "output_type": "stream",
     "text": [
      "displaying accumulation of loss over part of a batch\n",
      "sum of loss: tensor(12.8945, device='cuda:0', grad_fn=<AddBackward0>)\n",
      "sum of loss: tensor(27.6310, device='cuda:0', grad_fn=<AddBackward0>)\n",
      "sum of loss: tensor(42.3676, device='cuda:0', grad_fn=<AddBackward0>)\n",
      "sum of loss: tensor(55.2620, device='cuda:0', grad_fn=<AddBackward0>)\n",
      "sum of loss: tensor(73.6827, device='cuda:0', grad_fn=<AddBackward0>)\n",
      "avg loss:  tensor(14.7365, device='cuda:0', grad_fn=<DivBackward0>)\n"
     ]
    }
   ],
   "source": [
    "print(\"displaying accumulation of loss over part of a batch\")\n",
    "for p in pred:\n",
    "\n",
    "    for i in range(len(p)):\n",
    "        if p[i] > 0.5:\n",
    "            p[i] = 1\n",
    "        else:\n",
    "            p[i] = 0\n",
    "#print(pred[0].cpu().data)\n",
    "\n",
    "criterion = nn.BCELoss()\n",
    "loss = 0\n",
    "for i in range(5):\n",
    "    loss += criterion(pred[i].cuda(), label[i].cuda())\n",
    "    print(\"sum of loss:\", loss)\n",
    "print(\"avg loss: \", loss / 5)"
   ]
  },
  {
   "cell_type": "code",
   "execution_count": 160,
   "metadata": {},
   "outputs": [
    {
     "name": "stdout",
     "output_type": "stream",
     "text": [
      "54\n",
      "32\n",
      "15\n"
     ]
    }
   ],
   "source": [
    "print(len(train_loader))\n",
    "print(len(pred))\n",
    "print(len(pred[0]))"
   ]
  },
  {
   "cell_type": "code",
   "execution_count": null,
   "metadata": {},
   "outputs": [],
   "source": []
  },
  {
   "cell_type": "code",
   "execution_count": null,
   "metadata": {},
   "outputs": [],
   "source": []
  },
  {
   "cell_type": "code",
   "execution_count": null,
   "metadata": {},
   "outputs": [],
   "source": []
  },
  {
   "cell_type": "code",
   "execution_count": null,
   "metadata": {},
   "outputs": [],
   "source": []
  }
 ],
 "metadata": {
  "kernelspec": {
   "display_name": "Python 3",
   "language": "python",
   "name": "python3"
  },
  "language_info": {
   "codemirror_mode": {
    "name": "ipython",
    "version": 3
   },
   "file_extension": ".py",
   "mimetype": "text/x-python",
   "name": "python",
   "nbconvert_exporter": "python",
   "pygments_lexer": "ipython3",
   "version": "3.7.7"
  }
 },
 "nbformat": 4,
 "nbformat_minor": 4
}
