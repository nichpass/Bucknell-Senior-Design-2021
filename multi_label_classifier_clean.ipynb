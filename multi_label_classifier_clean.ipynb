{
 "cells": [
  {
   "cell_type": "markdown",
   "metadata": {},
   "source": [
    "### This (will) be the most up to date classifier, with everything from transfer_classifier_resnet_multi.ipynb being moved to here and cleaned up"
   ]
  },
  {
   "cell_type": "code",
   "execution_count": 1,
   "metadata": {},
   "outputs": [
    {
     "name": "stderr",
     "output_type": "stream",
     "text": [
      "In /usr/remote/anaconda-3.7-2020-05-28/lib/python3.7/site-packages/matplotlib/mpl-data/stylelib/_classic_test.mplstyle: \n",
      "The text.latex.preview rcparam was deprecated in Matplotlib 3.3 and will be removed two minor releases later.\n",
      "In /usr/remote/anaconda-3.7-2020-05-28/lib/python3.7/site-packages/matplotlib/mpl-data/stylelib/_classic_test.mplstyle: \n",
      "The mathtext.fallback_to_cm rcparam was deprecated in Matplotlib 3.3 and will be removed two minor releases later.\n",
      "In /usr/remote/anaconda-3.7-2020-05-28/lib/python3.7/site-packages/matplotlib/mpl-data/stylelib/_classic_test.mplstyle: Support for setting the 'mathtext.fallback_to_cm' rcParam is deprecated since 3.3 and will be removed two minor releases later; use 'mathtext.fallback : 'cm' instead.\n",
      "In /usr/remote/anaconda-3.7-2020-05-28/lib/python3.7/site-packages/matplotlib/mpl-data/stylelib/_classic_test.mplstyle: \n",
      "The validate_bool_maybe_none function was deprecated in Matplotlib 3.3 and will be removed two minor releases later.\n",
      "In /usr/remote/anaconda-3.7-2020-05-28/lib/python3.7/site-packages/matplotlib/mpl-data/stylelib/_classic_test.mplstyle: \n",
      "The savefig.jpeg_quality rcparam was deprecated in Matplotlib 3.3 and will be removed two minor releases later.\n",
      "In /usr/remote/anaconda-3.7-2020-05-28/lib/python3.7/site-packages/matplotlib/mpl-data/stylelib/_classic_test.mplstyle: \n",
      "The keymap.all_axes rcparam was deprecated in Matplotlib 3.3 and will be removed two minor releases later.\n",
      "In /usr/remote/anaconda-3.7-2020-05-28/lib/python3.7/site-packages/matplotlib/mpl-data/stylelib/_classic_test.mplstyle: \n",
      "The animation.avconv_path rcparam was deprecated in Matplotlib 3.3 and will be removed two minor releases later.\n",
      "In /usr/remote/anaconda-3.7-2020-05-28/lib/python3.7/site-packages/matplotlib/mpl-data/stylelib/_classic_test.mplstyle: \n",
      "The animation.avconv_args rcparam was deprecated in Matplotlib 3.3 and will be removed two minor releases later.\n"
     ]
    }
   ],
   "source": [
    "import os\n",
    "import tempfile\n",
    "import time\n",
    "import pickle as pkl;\n",
    "\n",
    "import numpy as np\n",
    "import matplotlib.pyplot as plt;\n",
    "\n",
    "import torch\n",
    "import torch.nn as nn\n",
    "import torch.nn.functional as F\n",
    "import torch.optim as optim\n",
    "import torchvision\n",
    "\n",
    "from PIL import Image\n",
    "from sklearn.metrics import roc_auc_score\n",
    "\n",
    "from util.train_methods import (GetLoader,\n",
    "                                load_old_weights,\n",
    "                                hard_binary_accuracy,\n",
    "                                train,\n",
    "                                test,\n",
    "                                display_roc_curve)"
   ]
  },
  {
   "cell_type": "markdown",
   "metadata": {},
   "source": [
    "## Parameters"
   ]
  },
  {
   "cell_type": "code",
   "execution_count": 2,
   "metadata": {},
   "outputs": [
    {
     "data": {
      "text/plain": [
       "<torch._C.Generator at 0x7ff4137943b0>"
      ]
     },
     "execution_count": 2,
     "metadata": {},
     "output_type": "execute_result"
    }
   ],
   "source": [
    "n_epochs = 100\n",
    "patience_limit = 20\n",
    "patience = 0\n",
    "batch_size_train = 16# was 64\n",
    "batch_size_test = 16\n",
    "learning_rate = 0.0005\n",
    "log_interval = 31\n",
    "tt_factor = 0.8\n",
    "orientation = 'AP'\n",
    "num_imgs = 5000\n",
    "retrain_old_model = False\n",
    "\n",
    "model_name = '6_disease_aug_test'\n",
    "model_path = './data/saved_models/' + model_name + '.pth'\n",
    "\n",
    "random_seed = 1\n",
    "torch.manual_seed(random_seed)"
   ]
  },
  {
   "cell_type": "code",
   "execution_count": 3,
   "metadata": {},
   "outputs": [],
   "source": [
    "''' \n",
    "    NOTES: \n",
    "    - it's \"No Finding\" not \"No findings\"\n",
    "    - it's \"Pleural_Thickening\" not \"Pleural_thickening\"\n",
    "    - it's not \"Nodule Mass\", but rather \"Nodule\" and \"Mass\" separately\n",
    "'''\n",
    "disease_map = {\"Atelectasis\" : 0, \"Consolidation\" : 1, \"Infiltration\" : 2, \"Pneumothorax\": 3, \"Edema\": 4,\n",
    "               \"Emphysema\": 5, \"Fibrosis\": 6, \"Effusion\" : 7, \"Pneumonia\" : 8, \"Pleural_Thickening\" : 9,\n",
    "               \"Cardiomegaly\" : 10, \"Nodule\" : 11, \"Mass\" : 12, \"Hernia\" : 13, \"No Finding\" : 14 }\n",
    "\n",
    "dis_small_map = {'Cardiomegaly': 0, 'Effusion': 1, 'Mass': 2, 'Nodule': 3, 'Atelectasis': 4, 'No Finding': 5}"
   ]
  },
  {
   "cell_type": "markdown",
   "metadata": {},
   "source": [
    "### Load in dataset"
   ]
  },
  {
   "cell_type": "code",
   "execution_count": 4,
   "metadata": {},
   "outputs": [
    {
     "name": "stdout",
     "output_type": "stream",
     "text": [
      "data loaded in successfully\n"
     ]
    }
   ],
   "source": [
    "pkl_load = open('dataset.pickle', 'rb')\n",
    "data = pkl.load(pkl_load)\n",
    "pkl_load.close()\n",
    "print(\"data loaded in successfully\")"
   ]
  },
  {
   "cell_type": "code",
   "execution_count": 5,
   "metadata": {},
   "outputs": [
    {
     "name": "stdout",
     "output_type": "stream",
     "text": [
      "train imgs: 22220\n",
      "test imgs: 2778\n",
      "valid imgs: 2777\n"
     ]
    }
   ],
   "source": [
    "transforms = [torchvision.transforms.RandomHorizontalFlip(p=0.5),\n",
    "              torchvision.transforms.RandomAffine(5, translate=(0.1, 0.05), shear=0.1, scale=(0.15, 0.15)),\n",
    "              torchvision.transforms.ToTensor()]\n",
    "\n",
    "dataset_train = GetLoader(data, orientation, list(['Cardiomegaly', 'Effusion', 'Mass', 'Nodule', 'Atelectasis', 'No Finding']),\n",
    "                          num_imgs, tt_factor, 'train', transforms)\n",
    "dataset_valid = GetLoader(data, orientation, list(['Cardiomegaly', 'Effusion', 'Mass', 'Nodule', 'Atelectasis', 'No Finding']),\n",
    "                          num_imgs, tt_factor, 'test', transforms)\n",
    "dataset_test = GetLoader(data, orientation, list(['Cardiomegaly', 'Effusion', 'Mass', 'Nodule', 'Atelectasis', 'No Finding']),\n",
    "                          num_imgs, tt_factor, 'valid', transforms)\n",
    "print('train imgs:', len(dataset_train))\n",
    "print('test imgs:', len(dataset_valid))\n",
    "print('valid imgs:', len(dataset_test))"
   ]
  },
  {
   "cell_type": "code",
   "execution_count": 6,
   "metadata": {},
   "outputs": [
    {
     "name": "stdout",
     "output_type": "stream",
     "text": [
      "train batches: 22220\n",
      "test batches: 2778\n",
      "valid batches: 2777\n"
     ]
    }
   ],
   "source": [
    "train_loader = torch.utils.data.DataLoader(dataset_train, batch_size=batch_size_train, shuffle=True, num_workers=1)\n",
    "test_loader = torch.utils.data.DataLoader(dataset_test, batch_size=batch_size_test, shuffle=True, num_workers=1)\n",
    "valid_loader = torch.utils.data.DataLoader(dataset_valid, batch_size=batch_size_test, shuffle=True, num_workers=1)\n",
    "print('train batches:', len(dataset_train))\n",
    "print('test batches:', len(dataset_valid))\n",
    "print('valid batches:', len(dataset_test))"
   ]
  },
  {
   "cell_type": "code",
   "execution_count": 7,
   "metadata": {},
   "outputs": [
    {
     "name": "stderr",
     "output_type": "stream",
     "text": [
      "Using cache found in /home/npp002/.cache/torch/hub/pytorch_vision_v0.6.0\n"
     ]
    }
   ],
   "source": [
    "network = torch.hub.load('pytorch/vision:v0.6.0', 'resnet18', pretrained=False)\n",
    "\n",
    "network.fc = nn.Sequential(*[\n",
    "    nn.Linear(in_features=512, out_features=6, bias=True),\n",
    "    nn.Sigmoid(),\n",
    "])\n",
    "\n",
    "network = torch.nn.DataParallel(network)\n",
    "network.cuda();"
   ]
  },
  {
   "cell_type": "code",
   "execution_count": 8,
   "metadata": {},
   "outputs": [],
   "source": [
    "if retrain_old_model:\n",
    "    load_old_weights(network, weight_file)"
   ]
  },
  {
   "cell_type": "code",
   "execution_count": 9,
   "metadata": {},
   "outputs": [
    {
     "name": "stdout",
     "output_type": "stream",
     "text": [
      "Trainable params: 11179590\n"
     ]
    }
   ],
   "source": [
    "optimizer = optim.Adam(network.parameters(), lr=learning_rate)\n",
    "print('Trainable params: {}'.format(sum(p.numel() for p in network.parameters() if p.requires_grad)))"
   ]
  },
  {
   "cell_type": "code",
   "execution_count": 10,
   "metadata": {},
   "outputs": [
    {
     "name": "stdout",
     "output_type": "stream",
     "text": [
      "1\n",
      "GeForce RTX 2080 Ti\n",
      "True\n"
     ]
    }
   ],
   "source": [
    "print(torch.cuda.device_count())\n",
    "print(torch.cuda.get_device_name(0))\n",
    "print(torch.cuda.is_available())"
   ]
  },
  {
   "cell_type": "code",
   "execution_count": null,
   "metadata": {},
   "outputs": [
    {
     "name": "stdout",
     "output_type": "stream",
     "text": [
      "Starting Training...\n",
      "-----------Epoch 1 (time = 720.51 s  aka   12.01  mins) ----------------\n",
      "Train set: Avg. loss: 0.0320,  Accuracy: 103158/133320 (77.38%)\n",
      "Test set:  Avg. loss: 0.0576, Accuracy: 9745/16662 (58.49%)\n",
      "\n",
      "Epoch 1 --- saving new best model: test loss = 0.05763262829304427\n",
      "\n"
     ]
    },
    {
     "data": {
      "image/png": "[encoded data removed]",
      "text/plain": [
       "<Figure size 432x288 with 1 Axes>"
      ]
     },
     "metadata": {
      "needs_background": "light"
     },
     "output_type": "display_data"
    },
    {
     "name": "stdout",
     "output_type": "stream",
     "text": [
      "-----------Epoch 2 (time = 734.28 s  aka   12.24  mins) ----------------\n",
      "Train set: Avg. loss: 0.0315,  Accuracy: 103326/133320 (77.50%)\n",
      "Test set:  Avg. loss: 0.0454, Accuracy: 11539/16662 (69.25%)\n",
      "\n",
      "Epoch 2 --- saving new best model: test loss = 0.0454193908913896\n",
      "\n"
     ]
    }
   ],
   "source": [
    "print(\"Starting Training...\")\n",
    "begin_time = time.time()\n",
    "\n",
    "min_loss_test = 999\n",
    "\n",
    "train_losses = []\n",
    "test_losses = []\n",
    "\n",
    "train_acc = []\n",
    "test_acc = []\n",
    "\n",
    "train_true_pos = []\n",
    "train_false_pos = []\n",
    "train_true_neg = []\n",
    "train_false_neg = []\n",
    "\n",
    "test_true_pos = []\n",
    "test_false_pos = []\n",
    "test_true_neg = []\n",
    "test_false_neg = []\n",
    "\n",
    "best_model_file = tempfile.NamedTemporaryFile(mode='w+b', delete=False)\n",
    "torch.save(network.state_dict(), best_model_file.name)\n",
    "\n",
    "\n",
    "\n",
    "for epoch in range(1, n_epochs + 1):\n",
    "    start_time = time.time()\n",
    "    network.load_state_dict(torch.load(best_model_file.name))\n",
    "\n",
    "    loss_train, true_pos_train, false_pos_train, true_neg_train, false_neg_train = train(epoch,\n",
    "                                                                                         network,\n",
    "                                                                                         train_loader,\n",
    "                                                                                         optimizer,\n",
    "                                                                                         batch_size_train)\n",
    "    loss_test, true_pos_test, false_pos_test, true_neg_test, false_neg_test = test(network,\n",
    "                                                                                   test_loader,\n",
    "                                                                                   batch_size_test)\n",
    "    \n",
    "    train_losses.append(loss_train)\n",
    "    test_losses.append(loss_test)\n",
    "    \n",
    "    n_correct_train = true_pos_train + true_neg_train\n",
    "    n_correct_test = true_pos_test + true_neg_test\n",
    "    \n",
    "    acc_train = 100. * n_correct_train / (n_correct_train + false_pos_train + false_neg_train)\n",
    "    acc_test = 100. * n_correct_test / (n_correct_test + false_pos_test + false_neg_test)\n",
    "    \n",
    "    train_acc.append(acc_train)\n",
    "    test_acc.append(acc_test)\n",
    "    \n",
    "    train_true_pos.append(true_pos_train)\n",
    "    train_false_pos.append(false_pos_train)\n",
    "    train_true_neg.append(true_neg_train)\n",
    "    train_false_neg.append(false_neg_train)\n",
    "\n",
    "    test_true_pos.append(true_pos_test)\n",
    "    test_false_pos.append(false_pos_test)\n",
    "    test_true_neg.append(true_neg_test)\n",
    "    test_false_neg.append(false_neg_test)\n",
    "        \n",
    "    auc_train = roc_auc_score\n",
    "\n",
    "        \n",
    "    elapsed_time = time.time() - start_time\n",
    "    \n",
    "    print(\"-----------Epoch \" + str(epoch) + \" (time =\", round(elapsed_time, 2), \"s  aka  \", round(elapsed_time / 60, 2), \" mins) ----------------\")\n",
    "    print('Train set: Avg. loss: {:.4f},  Accuracy: {}/{} ({:.2f}%)'.format(\n",
    "        loss_train, n_correct_train, (n_correct_train + false_pos_train + false_neg_train), acc_train))\n",
    " \n",
    "    print('Test set:  Avg. loss: {:.4f}, Accuracy: {}/{} ({:.2f}%)\\n'.format(\n",
    "        loss_test, n_correct_test, (n_correct_test + false_pos_test + false_neg_test), acc_test))    \n",
    "    \n",
    "    if loss_test < min_loss_test:\n",
    "        min_loss_test = loss_test\n",
    "        patience = 0\n",
    "        best_epoch = epoch\n",
    "        \n",
    "        print('Epoch {} --- saving new best model: test loss = {}\\n'.format(epoch, loss_test))\n",
    "        torch.save(network.state_dict(), best_model_file.name)\n",
    "        torch.save(network.state_dict(), os.path.join(model_path)) # guarantees best one saved if program crashes\n",
    "    else:\n",
    "        patience += 1\n",
    "        \n",
    "    if patience == patience_limit:\n",
    "        print('Breaking on patience={}'.format(patience))\n",
    "        break\n",
    "        \n",
    "    if epoch % 10 == 0 or epoch == 1:\n",
    "        display_roc_curve(valid_loader, network, dis_small_map, batch_size_test)\n",
    "        \n",
    "\n",
    "print('Reloading best model from epoch {}'.format(best_epoch))\n",
    "network.load_state_dict(torch.load(best_model_file.name))\n",
    "\n",
    "end_time = time.time() - begin_time\n",
    "\n",
    "print(\"Training complete (time =\", round(end_time, 2), \"s)\")\n",
    "torch.save(network.state_dict(), \n",
    "           os.path.join(model_path))\n",
    "print(\"Saved model to {}\".format(model_path))\n",
    "\n",
    "    "
   ]
  },
  {
   "cell_type": "code",
   "execution_count": null,
   "metadata": {},
   "outputs": [],
   "source": [
    "import matplotlib.pyplot as plt\n",
    "\n",
    "plt.figure()\n",
    "plt.title(\"Loss per Epoch\")\n",
    "plt.plot(train_losses, \"-b\",  label=\"train\")\n",
    "plt.plot(test_losses, \"-r\", label=\"test\")\n",
    "plt.xlabel('epoch')\n",
    "plt.ylabel('loss')\n",
    "plt.legend(loc=\"upper right\")"
   ]
  },
  {
   "cell_type": "code",
   "execution_count": null,
   "metadata": {},
   "outputs": [],
   "source": [
    "import matplotlib.pyplot as plt\n",
    "\n",
    "plt.figure()\n",
    "plt.title(\"Accuracy per Epoch\")\n",
    "plt.plot(train_acc, \"-b\", label=\"train\")\n",
    "plt.plot(test_acc, \"-r\", label=\"test\")\n",
    "plt.xlabel('epoch')\n",
    "plt.ylabel('Accuracy')\n",
    "plt.legend(loc=\"upper right\")"
   ]
  },
  {
   "cell_type": "code",
   "execution_count": null,
   "metadata": {},
   "outputs": [],
   "source": [
    "display_roc_curve(valid_loader, network, dis_small_map, batch_size_test)"
   ]
  },
  {
   "cell_type": "code",
   "execution_count": null,
   "metadata": {},
   "outputs": [],
   "source": []
  }
 ],
 "metadata": {
  "kernelspec": {
   "display_name": "Python 3",
   "language": "python",
   "name": "python3"
  },
  "language_info": {
   "codemirror_mode": {
    "name": "ipython",
    "version": 3
   },
   "file_extension": ".py",
   "mimetype": "text/x-python",
   "name": "python",
   "nbconvert_exporter": "python",
   "pygments_lexer": "ipython3",
   "version": "3.7.7"
  }
 },
 "nbformat": 4,
 "nbformat_minor": 4
}
