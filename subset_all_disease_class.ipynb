{
 "cells": [
  {
   "cell_type": "code",
   "execution_count": 3,
   "metadata": {},
   "outputs": [
    {
     "name": "stderr",
     "output_type": "stream",
     "text": [
      "In /usr/remote/anaconda-3.7-2020-05-28/lib/python3.7/site-packages/matplotlib/mpl-data/stylelib/_classic_test.mplstyle: \n",
      "The text.latex.preview rcparam was deprecated in Matplotlib 3.3 and will be removed two minor releases later.\n",
      "In /usr/remote/anaconda-3.7-2020-05-28/lib/python3.7/site-packages/matplotlib/mpl-data/stylelib/_classic_test.mplstyle: \n",
      "The mathtext.fallback_to_cm rcparam was deprecated in Matplotlib 3.3 and will be removed two minor releases later.\n",
      "In /usr/remote/anaconda-3.7-2020-05-28/lib/python3.7/site-packages/matplotlib/mpl-data/stylelib/_classic_test.mplstyle: Support for setting the 'mathtext.fallback_to_cm' rcParam is deprecated since 3.3 and will be removed two minor releases later; use 'mathtext.fallback : 'cm' instead.\n",
      "In /usr/remote/anaconda-3.7-2020-05-28/lib/python3.7/site-packages/matplotlib/mpl-data/stylelib/_classic_test.mplstyle: \n",
      "The validate_bool_maybe_none function was deprecated in Matplotlib 3.3 and will be removed two minor releases later.\n",
      "In /usr/remote/anaconda-3.7-2020-05-28/lib/python3.7/site-packages/matplotlib/mpl-data/stylelib/_classic_test.mplstyle: \n",
      "The savefig.jpeg_quality rcparam was deprecated in Matplotlib 3.3 and will be removed two minor releases later.\n",
      "In /usr/remote/anaconda-3.7-2020-05-28/lib/python3.7/site-packages/matplotlib/mpl-data/stylelib/_classic_test.mplstyle: \n",
      "The keymap.all_axes rcparam was deprecated in Matplotlib 3.3 and will be removed two minor releases later.\n",
      "In /usr/remote/anaconda-3.7-2020-05-28/lib/python3.7/site-packages/matplotlib/mpl-data/stylelib/_classic_test.mplstyle: \n",
      "The animation.avconv_path rcparam was deprecated in Matplotlib 3.3 and will be removed two minor releases later.\n",
      "In /usr/remote/anaconda-3.7-2020-05-28/lib/python3.7/site-packages/matplotlib/mpl-data/stylelib/_classic_test.mplstyle: \n",
      "The animation.avconv_args rcparam was deprecated in Matplotlib 3.3 and will be removed two minor releases later.\n"
     ]
    }
   ],
   "source": [
    "import os\n",
    "import torch\n",
    "import torchvision\n",
    "\n",
    "\n",
    "import torch.nn as nn\n",
    "import torch.nn.functional as F\n",
    "import torch.optim as optim\n",
    "\n",
    "import matplotlib.pyplot as plt\n",
    "\n",
    "from PIL import Image"
   ]
  },
  {
   "cell_type": "code",
   "execution_count": 4,
   "metadata": {},
   "outputs": [
    {
     "data": {
      "text/plain": [
       "<torch._C.Generator at 0x7ff0be5d71f0>"
      ]
     },
     "execution_count": 4,
     "metadata": {},
     "output_type": "execute_result"
    }
   ],
   "source": [
    "n_epochs = 50\n",
    "batch_size_train = 32# was 64\n",
    "batch_size_test = 16\n",
    "learning_rate = 0.01\n",
    "momentum = 0.1\n",
    "log_interval = 10\n",
    "\n",
    "random_seed = 1\n",
    "torch.backends.cudnn.enabled = False\n",
    "torch.manual_seed(random_seed)"
   ]
  },
  {
   "cell_type": "code",
   "execution_count": 5,
   "metadata": {},
   "outputs": [],
   "source": [
    "''' \n",
    "    NOTES: \n",
    "    - it's \"No Finding\" not \"No findings\"\n",
    "    - it's \"Pleural_Thickening\" not \"Pleural_thickening\"\n",
    "    - it's not \"Nodule Mass\", but rather \"Nodule\" and \"Mass\" separately\n",
    "'''\n",
    "disease_map = {\"Atelectasis\" : 0, \"Consolidation\" : 1, \"Infiltration\" : 2, \"Pneumothorax\": 3, \"Edema\": 4,\n",
    "               \"Emphysema\": 5, \"Fibrosis\": 6, \"Effusion\" : 7, \"Pneumonia\" : 8, \"Pleural_Thickening\" : 9,\n",
    "               \"Cardiomegaly\" : 10, \"Nodule\" : 11, \"Mass\" : 12, \"Hernia\" : 13, \"No Finding\" : 14 }"
   ]
  },
  {
   "cell_type": "code",
   "execution_count": 6,
   "metadata": {},
   "outputs": [],
   "source": [
    "class GetLoader(torch.utils.data.Dataset):\n",
    "    def __init__(self, data_root, labels_path, transforms=None):\n",
    "        \n",
    "        self.root = data_root\n",
    "        self.transforms = transforms\n",
    "    \n",
    "        f = open(labels_path, 'r')\n",
    "        datalist = f.readlines()\n",
    "        f.close()\n",
    "        \n",
    "        \n",
    "        self.len_data = len(datalist)\n",
    "\n",
    "        self.img_paths = []\n",
    "        self.img_labels = []\n",
    "        \n",
    "        self.cur_img_path = ''\n",
    "\n",
    "        # csv file format:\n",
    "        # Image Index,Finding Labels,Follow-up #,Patient ID,Patient Age,Patient Gender,View Position,OriginalImage[Width,Height],OriginalImagePixelSpacing[x,y],\n",
    "        \n",
    "        # example:\n",
    "        # 00000001_000.png,Cardiomegaly,0,1,58,M,PA,2682,2749,0.143,0.143\n",
    "        \n",
    "        for data in datalist:\n",
    "            data = data.split(',') # get csv line as list\n",
    "            self.img_paths.append(data[0]) # image name is first in csv file\n",
    "            \n",
    "            diseases = data[1].split('|')\n",
    "            one_hot = [0] * 15\n",
    "            for d in diseases:\n",
    "                hot_index = disease_map[d]\n",
    "                one_hot[hot_index] = 1\n",
    "            \n",
    "            self.img_labels.append(torch.Tensor(one_hot)) # disease type is second in csv file\n",
    "\n",
    "    def __getitem__(self, item):\n",
    "        img_paths, labels = self.img_paths[item], self.img_labels[item]\n",
    "        imgs = Image.open(os.path.join(self.root, img_paths)) # .convert('RGB')\n",
    "        self.cur_img_path = os.path.join(self.root, img_paths)\n",
    "\n",
    "        if self.transforms is not None:\n",
    "            for t in self.transforms:\n",
    "                imgs = t(imgs)\n",
    "\n",
    "        return imgs, labels\n",
    "    \n",
    "    def get_img_path(self):\n",
    "        return self.cur_img_path\n",
    "\n",
    "    def __len__(self):\n",
    "        return self.len_data"
   ]
  },
  {
   "cell_type": "code",
   "execution_count": null,
   "metadata": {},
   "outputs": [],
   "source": []
  },
  {
   "cell_type": "code",
   "execution_count": 7,
   "metadata": {},
   "outputs": [
    {
     "name": "stdout",
     "output_type": "stream",
     "text": [
      "./data_subset/train_subset.csv\n",
      "./data_subset/test_subset.csv\n",
      "71\n",
      "18\n"
     ]
    }
   ],
   "source": [
    "# locations from which to grab training / testing data\n",
    "# image_root_train = os.path.join('.', 'data', 'sorted_for_use', 'train')\n",
    "# image_root_test = os.path.join('.', 'data', 'sorted_for_use', 'test')\n",
    "\n",
    "# label_path_train = os.path.join('.', 'data', 'sorted_for_use', 'train.csv')\n",
    "# label_path_test = os.path.join('.', 'data', 'sorted_for_use', 'test.csv')\n",
    "\n",
    "image_root_train = os.path.join('.', 'data_subset', 'train')\n",
    "image_root_test = os.path.join('.', 'data_subset', 'test')\n",
    "\n",
    "label_path_train = os.path.join('.', 'data_subset', 'train_subset.csv')\n",
    "label_path_test = os.path.join('.', 'data_subset', 'test_subset.csv') \n",
    "\n",
    "print(label_path_train)\n",
    "print(label_path_test)\n",
    "\n",
    "# need a train and test dataset object\n",
    "transforms = [torchvision.transforms.Grayscale(), torchvision.transforms.ToTensor()]\n",
    "dataset_train = GetLoader(image_root_train, label_path_train, transforms=transforms)\n",
    "dataset_test = GetLoader(image_root_test, label_path_test, transforms=transforms)\n",
    "\n",
    "# these should just have the new dataset objects in them\n",
    "train_loader = torch.utils.data.DataLoader(dataset_train, batch_size=batch_size_train, shuffle=True)\n",
    "test_loader = torch.utils.data.DataLoader(dataset_test, batch_size=batch_size_train, shuffle=True)\n",
    "\n",
    "print(len(train_loader))\n",
    "print(len(test_loader))"
   ]
  },
  {
   "cell_type": "code",
   "execution_count": 8,
   "metadata": {},
   "outputs": [],
   "source": [
    "class ConvBlock(nn.Module):\n",
    "    def __init__(self, n_filters_in, n_filters_out, kernel_size=3, stride=1, padding=0): #k=3, s=2, p=0 for down\n",
    "        super(ConvBlock, self).__init__()\n",
    "        ops = []\n",
    "        \n",
    "        ops.append(nn.Conv2d(n_filters_in, n_filters_out, kernel_size, padding=padding, stride=stride))\n",
    "        ops.append(nn.BatchNorm2d(n_filters_out))\n",
    "        ops.append(nn.ReLU(inplace=True))\n",
    "        \n",
    "        self.conv = nn.Sequential(*ops)\n",
    "        \n",
    "        \n",
    "    def forward(self, x):\n",
    "        x = self.conv(x)\n",
    "        return x"
   ]
  },
  {
   "cell_type": "code",
   "execution_count": 9,
   "metadata": {},
   "outputs": [],
   "source": [
    "class Net(nn.Module):\n",
    "    def __init__(self):\n",
    "        super(Net, self).__init__()\n",
    "        self.conv1 = ConvBlock(1, 10, kernel_size=3, stride=2, padding=1) # 1024x1024 -> 512x512\n",
    "        self.conv2 = ConvBlock(10, 20, kernel_size=3, stride=2, padding=1) # 512x512 -> 256x256\n",
    "        self.conv3 = ConvBlock(20, 40, kernel_size=3, stride=2, padding=1) # 256x256 -> 128x128\n",
    "        self.conv4 = ConvBlock(40, 80, kernel_size=3, stride=2, padding=1) # 128x128 -> 64x64\n",
    "        self.conv5 = ConvBlock(80, 80, kernel_size=3, stride=2, padding=1) # 64x64 -> 32x32\n",
    "        self.conv_drop = nn.Dropout2d()\n",
    "        self.fc1 = nn.Linear(80 * 32 * 32, 100)\n",
    "        self.fc2 = nn.Linear(100, 15)  # changed output to 15 since 15 disease classes\n",
    "        self.sigmoid = nn.Sigmoid()\n",
    "    \n",
    "    \n",
    "    # hook for the gradients of the activations\n",
    "    def activations_hook(self, grad):\n",
    "        self.gradients = grad\n",
    "        \n",
    "    def forward(self, x):\n",
    "        x = self.conv1(x)\n",
    "        x = self.conv2(x)\n",
    "        x = self.conv3(x)\n",
    "        x = self.conv4(x)\n",
    "        # Final feature reduction - gradient map goes here\n",
    "        if self.train and x.requires_grad:\n",
    "            h = x.register_hook(self.activations_hook)\n",
    "        \n",
    "        x = self.conv5(x)\n",
    "        x = self.conv_drop(x)\n",
    "        \n",
    "        x = x.view(-1, 20 * 64 * 64)\n",
    "        x = F.relu(self.fc1(x))\n",
    "        x = F.dropout(x, training=self.training)\n",
    "        x = self.fc2(x)\n",
    "        x = self.sigmoid(x)\n",
    "        return x\n",
    "    \n",
    "    def get_activations(self, x):\n",
    "        x = self.conv1(x)\n",
    "        x = self.conv2(x)\n",
    "        x = self.conv3(x)\n",
    "        x = self.conv4(x)\n",
    "        return x"
   ]
  },
  {
   "cell_type": "code",
   "execution_count": 10,
   "metadata": {},
   "outputs": [],
   "source": [
    "class SimpleNet(nn.Module):\n",
    "    def __init__(self):\n",
    "        super(SimpleNet, self).__init__()\n",
    "        self.conv1 = ConvBlock(1, 10, kernel_size=3, stride=4, padding=0) # 1024x1024 -> 256x256\n",
    "        self.conv2 = ConvBlock(10, 20, kernel_size=3, stride=4, padding=0) # 256x256 -> 64x64\n",
    "        self.conv3 = ConvBlock(20, 40, kernel_size=3, stride=4, padding=0) # 64x64 -> 16x16\n",
    "        self.conv4 = ConvBlock(40, 80, kernel_size=3, stride=2, padding=1) # 16x16 -> 8x8\n",
    "        self.conv_drop = nn.Dropout2d()\n",
    "        self.fc1 = nn.Linear(80 * 8 * 8, 100)\n",
    "        self.fc2 = nn.Linear(100, 15)  # changed output to 15 since 15 disease classes\n",
    "        self.sigmoid = nn.Sigmoid()\n",
    "    \n",
    "    \n",
    "    # hook for the gradients of the activations\n",
    "    def activations_hook(self, grad):\n",
    "        self.gradients = grad\n",
    "        \n",
    "    def forward(self, x):\n",
    "        x = self.conv1(x)\n",
    "        x = self.conv2(x)\n",
    "        x = self.conv3(x)\n",
    "        x = self.conv4(x)\n",
    "        # Final feature reduction - gradient map goes here\n",
    "        if self.train and x.requires_grad:\n",
    "            h = x.register_hook(self.activations_hook)\n",
    "        \n",
    "        x = self.conv_drop(x)\n",
    "        \n",
    "        x = x.view(-1, 80 * 8 * 8)\n",
    "        x = F.relu(self.fc1(x))\n",
    "        x = F.dropout(x, training=self.training)\n",
    "        x = self.fc2(x)\n",
    "        x = self.sigmoid(x)\n",
    "        return x\n",
    "    \n",
    "    def get_activations(self, x):\n",
    "        x = self.conv1(x)\n",
    "        x = self.conv2(x)\n",
    "        x = self.conv3(x)\n",
    "        x = self.conv4(x)\n",
    "        return x"
   ]
  },
  {
   "cell_type": "code",
   "execution_count": 11,
   "metadata": {},
   "outputs": [
    {
     "name": "stdout",
     "output_type": "stream",
     "text": [
      "Trainable params: 8289795\n"
     ]
    }
   ],
   "source": [
    "network = Net()\n",
    "# cuda requirements\n",
    "network = torch.nn.DataParallel(network)\n",
    "network.cuda()\n",
    "optimizer = optim.SGD(network.parameters(), lr=learning_rate,\n",
    "                      momentum=momentum)\n",
    "print('Trainable params: {}'.format(sum(p.numel() for p in network.parameters() if p.requires_grad)))"
   ]
  },
  {
   "cell_type": "code",
   "execution_count": 12,
   "metadata": {},
   "outputs": [],
   "source": [
    "train_losses = []\n",
    "train_counter = []\n",
    "test_losses = []\n",
    "test_counter = [i*len(train_loader.dataset) for i in range(n_epochs + 1)]\n",
    "outputs = []"
   ]
  },
  {
   "cell_type": "code",
   "execution_count": 13,
   "metadata": {},
   "outputs": [],
   "source": [
    "def train(epoch):\n",
    "    network.train()\n",
    "    \n",
    "    for batch_idx, (data, target) in enumerate(train_loader):  # (output - actual )\n",
    "        \n",
    "        if torch.cuda.is_available:\n",
    "            data, target = data.cuda(), target.cuda()\n",
    "\n",
    "        optimizer.zero_grad()\n",
    "        output = network(data)\n",
    "        outputs.append(output)\n",
    "        \n",
    "        loss_t = torch.nn.BCELoss()\n",
    "        loss = loss_t(output, target)\n",
    "        loss.backward()\n",
    "        optimizer.step()\n",
    "        \n",
    "        #if(batch_idx == 1):\n",
    "            #print(output)\n",
    "        \n",
    "        if batch_idx % log_interval == 0:\n",
    "#             print('Train Epoch: {} \\tLoss: {:.6f}'.format(\n",
    "#                 epoch, loss.item()))            \n",
    "            #print('Train Epoch: {} [{}/{} ({:.0f}%)]\\tLoss: {:.6f}'.format(\n",
    "                #epoch, batch_idx * len(data), len(train_loader.dataset),\n",
    "                #100. * batch_idx / len(train_loader), loss.item()))\n",
    "    \n",
    "            train_losses.append(loss.item())\n",
    "            train_counter.append(\n",
    "            (batch_idx*64) + ((epoch-1)*len(train_loader.dataset)))\n",
    "            torch.save(network.state_dict(), './results')\n",
    "            torch.save(optimizer.state_dict(), './results')"
   ]
  },
  {
   "cell_type": "code",
   "execution_count": 14,
   "metadata": {},
   "outputs": [],
   "source": [
    "test_one = True"
   ]
  },
  {
   "cell_type": "code",
   "execution_count": 15,
   "metadata": {},
   "outputs": [],
   "source": [
    "def test(test_one):\n",
    "    \n",
    "    network.eval()\n",
    "    test_loss = 0\n",
    "    correct = 0\n",
    "    \n",
    "    num_tested = 0\n",
    "    \n",
    "    with torch.no_grad():\n",
    "        for batch_idx, (data, target) in enumerate(test_loader):\n",
    "            if torch.cuda.is_available:\n",
    "                data, target = data.cuda(), target.cuda()\n",
    "                \n",
    "            if batch_idx == 50:\n",
    "                break;\n",
    "            else:\n",
    "                num_tested += len(data)\n",
    "            \n",
    "            output = network(data)\n",
    "            loss_t = torch.nn.BCELoss()\n",
    "            test_loss += loss_t(output, target).item()\n",
    "            #print(output)\n",
    "            pred = output.clone().cpu()\n",
    "            target = target.cpu()\n",
    "            #pred[pred > 0.5] = 1\n",
    "            \n",
    "\n",
    "            \n",
    "            for p in pred:\n",
    "                p = p.data\n",
    "\n",
    "                for i in range(len(p)):\n",
    "                    if p[i] > 0.5:\n",
    "                        p[i] = 1\n",
    "                    else:\n",
    "                        p[i] = 0\n",
    "                torch.tensor(p)\n",
    "                \n",
    "#             if test_one:\n",
    "#                 print(\"printing correct ones:\")\n",
    "#                 for i in range(pred.shape[0]):\n",
    "#                     #if torch.equal(pred[i], target[i]):\n",
    "#                     print(\"-----------------------\")\n",
    "#                     print(torch.tensor(pred[i] == target.data[i]))\n",
    "#                     print(\"output: \" + str(output[0]))\n",
    "#                     print(\"pred: \" + str(pred[0]))\n",
    "#                     print(\"target: \" + str(target[0]))\n",
    "#                 print(\"that's all\")\n",
    "#                 test_one = False\n",
    "            \n",
    "\n",
    "\n",
    "            correct = torch.sum(torch.tensor(pred == target)).sum()\n",
    "        \n",
    "    test_loss /= num_tested\n",
    "    test_losses.append(test_loss)\n",
    "    \n",
    "    print('\\nTest set: Avg. loss: {:.4f}, Accuracy: {}/{} ({:.0f}%)\\n'.format(\n",
    "    test_loss, correct, num_tested,\n",
    "    100. * correct / num_tested))"
   ]
  },
  {
   "cell_type": "code",
   "execution_count": 16,
   "metadata": {},
   "outputs": [
    {
     "name": "stdout",
     "output_type": "stream",
     "text": [
      "tensor([1., 0., 0., 0., 0., 1., 0., 1., 1., 0., 0., 0., 0., 0., 0.])\n"
     ]
    }
   ],
   "source": [
    "a = torch.tensor([0.5322, 0.4739, 0.4984, 0.4987, 0.4848, 0.5163, 0.4653, 0.5266, 0.5015,\n",
    "        0.4888, 0.4641, 0.4660, 0.4884, 0.4615, 0.4721])\n",
    "\n",
    "for i in range(len(a)):\n",
    "    if a[i] > 0.5:\n",
    "        a[i] = 1\n",
    "    else:\n",
    "        a[i] = 0\n",
    "print(a)"
   ]
  },
  {
   "cell_type": "code",
   "execution_count": 17,
   "metadata": {},
   "outputs": [
    {
     "name": "stdout",
     "output_type": "stream",
     "text": [
      "1\n"
     ]
    },
    {
     "data": {
      "text/plain": [
       "True"
      ]
     },
     "execution_count": 17,
     "metadata": {},
     "output_type": "execute_result"
    }
   ],
   "source": [
    "print(torch.cuda.device_count())\n",
    "torch.cuda.get_device_name(0)\n",
    "torch.cuda.is_available()"
   ]
  },
  {
   "cell_type": "code",
   "execution_count": 18,
   "metadata": {},
   "outputs": [
    {
     "name": "stdout",
     "output_type": "stream",
     "text": [
      "Starting Training\n"
     ]
    },
    {
     "name": "stderr",
     "output_type": "stream",
     "text": [
      "/usr/remote/anaconda-3.7-2020-05-28/lib/python3.7/site-packages/ipykernel_launcher.py:37: UserWarning: To copy construct from a tensor, it is recommended to use sourceTensor.clone().detach() or sourceTensor.clone().detach().requires_grad_(True), rather than torch.tensor(sourceTensor).\n",
      "/usr/remote/anaconda-3.7-2020-05-28/lib/python3.7/site-packages/ipykernel_launcher.py:53: UserWarning: To copy construct from a tensor, it is recommended to use sourceTensor.clone().detach() or sourceTensor.clone().detach().requires_grad_(True), rather than torch.tensor(sourceTensor).\n"
     ]
    },
    {
     "name": "stdout",
     "output_type": "stream",
     "text": [
      "\n",
      "Test set: Avg. loss: 0.0221, Accuracy: 160/567 (28%)\n",
      "\n",
      "-----------Epoch 1----------------\n",
      "\n",
      "Test set: Avg. loss: 0.0122, Accuracy: 302/567 (53%)\n",
      "\n",
      "-----------Epoch 2----------------\n",
      "\n",
      "Test set: Avg. loss: 0.0120, Accuracy: 296/567 (52%)\n",
      "\n",
      "-----------Epoch 3----------------\n",
      "\n",
      "Test set: Avg. loss: 0.0119, Accuracy: 299/567 (53%)\n",
      "\n",
      "-----------Epoch 4----------------\n",
      "\n",
      "Test set: Avg. loss: 0.0118, Accuracy: 294/567 (52%)\n",
      "\n",
      "-----------Epoch 5----------------\n",
      "\n",
      "Test set: Avg. loss: 0.0117, Accuracy: 306/567 (54%)\n",
      "\n",
      "-----------Epoch 6----------------\n",
      "\n",
      "Test set: Avg. loss: 0.0116, Accuracy: 297/567 (52%)\n",
      "\n",
      "-----------Epoch 7----------------\n",
      "\n",
      "Test set: Avg. loss: 0.0115, Accuracy: 290/567 (51%)\n",
      "\n",
      "-----------Epoch 8----------------\n",
      "\n",
      "Test set: Avg. loss: 0.0114, Accuracy: 290/567 (51%)\n",
      "\n",
      "-----------Epoch 9----------------\n",
      "\n",
      "Test set: Avg. loss: 0.0113, Accuracy: 291/567 (51%)\n",
      "\n",
      "-----------Epoch 10----------------\n",
      "\n",
      "Test set: Avg. loss: 0.0114, Accuracy: 300/567 (53%)\n",
      "\n",
      "-----------Epoch 11----------------\n",
      "\n",
      "Test set: Avg. loss: 0.0115, Accuracy: 295/567 (52%)\n",
      "\n",
      "-----------Epoch 12----------------\n",
      "\n",
      "Test set: Avg. loss: 0.0112, Accuracy: 291/567 (51%)\n",
      "\n",
      "-----------Epoch 13----------------\n",
      "\n",
      "Test set: Avg. loss: 0.0112, Accuracy: 290/567 (51%)\n",
      "\n",
      "-----------Epoch 14----------------\n",
      "\n",
      "Test set: Avg. loss: 0.0112, Accuracy: 307/567 (54%)\n",
      "\n",
      "-----------Epoch 15----------------\n",
      "\n",
      "Test set: Avg. loss: 0.0112, Accuracy: 295/567 (52%)\n",
      "\n",
      "-----------Epoch 16----------------\n",
      "\n",
      "Test set: Avg. loss: 0.0115, Accuracy: 299/567 (53%)\n",
      "\n",
      "-----------Epoch 17----------------\n",
      "\n",
      "Test set: Avg. loss: 0.0112, Accuracy: 299/567 (53%)\n",
      "\n",
      "-----------Epoch 18----------------\n",
      "\n",
      "Test set: Avg. loss: 0.0109, Accuracy: 306/567 (54%)\n",
      "\n",
      "-----------Epoch 19----------------\n",
      "\n",
      "Test set: Avg. loss: 0.0113, Accuracy: 297/567 (52%)\n",
      "\n",
      "-----------Epoch 20----------------\n",
      "\n",
      "Test set: Avg. loss: 0.0113, Accuracy: 292/567 (51%)\n",
      "\n",
      "-----------Epoch 21----------------\n",
      "\n",
      "Test set: Avg. loss: 0.0115, Accuracy: 301/567 (53%)\n",
      "\n",
      "-----------Epoch 22----------------\n",
      "\n",
      "Test set: Avg. loss: 0.0161, Accuracy: 296/567 (52%)\n",
      "\n",
      "-----------Epoch 23----------------\n",
      "\n",
      "Test set: Avg. loss: 0.0109, Accuracy: 311/567 (55%)\n",
      "\n",
      "-----------Epoch 24----------------\n",
      "\n",
      "Test set: Avg. loss: 0.0109, Accuracy: 309/567 (54%)\n",
      "\n",
      "-----------Epoch 25----------------\n",
      "\n",
      "Test set: Avg. loss: 0.0112, Accuracy: 308/567 (54%)\n",
      "\n",
      "-----------Epoch 26----------------\n",
      "\n",
      "Test set: Avg. loss: 0.0109, Accuracy: 300/567 (53%)\n",
      "\n",
      "-----------Epoch 27----------------\n",
      "\n",
      "Test set: Avg. loss: 0.0119, Accuracy: 308/567 (54%)\n",
      "\n",
      "-----------Epoch 28----------------\n",
      "\n",
      "Test set: Avg. loss: 0.0108, Accuracy: 306/567 (54%)\n",
      "\n",
      "-----------Epoch 29----------------\n",
      "\n",
      "Test set: Avg. loss: 0.0121, Accuracy: 305/567 (54%)\n",
      "\n",
      "-----------Epoch 30----------------\n",
      "\n",
      "Test set: Avg. loss: 0.0118, Accuracy: 306/567 (54%)\n",
      "\n",
      "-----------Epoch 31----------------\n",
      "\n",
      "Test set: Avg. loss: 0.0111, Accuracy: 304/567 (54%)\n",
      "\n",
      "-----------Epoch 32----------------\n",
      "\n",
      "Test set: Avg. loss: 0.0119, Accuracy: 311/567 (55%)\n",
      "\n",
      "-----------Epoch 33----------------\n",
      "\n",
      "Test set: Avg. loss: 0.0111, Accuracy: 303/567 (53%)\n",
      "\n",
      "-----------Epoch 34----------------\n",
      "\n",
      "Test set: Avg. loss: 0.0111, Accuracy: 299/567 (53%)\n",
      "\n",
      "-----------Epoch 35----------------\n",
      "\n",
      "Test set: Avg. loss: 0.0120, Accuracy: 305/567 (54%)\n",
      "\n",
      "-----------Epoch 36----------------\n",
      "\n",
      "Test set: Avg. loss: 0.0120, Accuracy: 309/567 (54%)\n",
      "\n",
      "-----------Epoch 37----------------\n",
      "\n",
      "Test set: Avg. loss: 0.0124, Accuracy: 310/567 (55%)\n",
      "\n",
      "-----------Epoch 38----------------\n",
      "\n",
      "Test set: Avg. loss: 0.0118, Accuracy: 296/567 (52%)\n",
      "\n",
      "-----------Epoch 39----------------\n",
      "\n",
      "Test set: Avg. loss: 0.0111, Accuracy: 302/567 (53%)\n",
      "\n",
      "-----------Epoch 40----------------\n",
      "\n",
      "Test set: Avg. loss: 0.0116, Accuracy: 311/567 (55%)\n",
      "\n",
      "-----------Epoch 41----------------\n",
      "\n",
      "Test set: Avg. loss: 0.0144, Accuracy: 312/567 (55%)\n",
      "\n",
      "-----------Epoch 42----------------\n",
      "\n",
      "Test set: Avg. loss: 0.0114, Accuracy: 303/567 (53%)\n",
      "\n",
      "-----------Epoch 43----------------\n",
      "\n",
      "Test set: Avg. loss: 0.0114, Accuracy: 303/567 (53%)\n",
      "\n",
      "-----------Epoch 44----------------\n",
      "\n",
      "Test set: Avg. loss: 0.0116, Accuracy: 310/567 (55%)\n",
      "\n",
      "-----------Epoch 45----------------\n",
      "\n",
      "Test set: Avg. loss: 0.0131, Accuracy: 309/567 (54%)\n",
      "\n",
      "-----------Epoch 46----------------\n",
      "\n",
      "Test set: Avg. loss: 0.0116, Accuracy: 301/567 (53%)\n",
      "\n",
      "-----------Epoch 47----------------\n",
      "\n",
      "Test set: Avg. loss: 0.0116, Accuracy: 309/567 (54%)\n",
      "\n",
      "-----------Epoch 48----------------\n",
      "\n",
      "Test set: Avg. loss: 0.0154, Accuracy: 303/567 (53%)\n",
      "\n",
      "-----------Epoch 49----------------\n",
      "\n",
      "Test set: Avg. loss: 0.0145, Accuracy: 306/567 (54%)\n",
      "\n",
      "-----------Epoch 50----------------\n",
      "\n",
      "Test set: Avg. loss: 0.0126, Accuracy: 309/567 (54%)\n",
      "\n"
     ]
    }
   ],
   "source": [
    "print(\"Starting Training\")\n",
    "test(test_one)\n",
    "for epoch in range(1, n_epochs + 1):\n",
    "    print(\"-----------Epoch \" + str(epoch) + \"----------------\")\n",
    "    train(epoch)\n",
    "    test(test_one)"
   ]
  },
  {
   "cell_type": "code",
   "execution_count": 23,
   "metadata": {},
   "outputs": [
    {
     "data": {
      "text/plain": [
       "<Figure size 432x288 with 0 Axes>"
      ]
     },
     "execution_count": 23,
     "metadata": {},
     "output_type": "execute_result"
    },
    {
     "data": {
      "image/png": "[encoded data removed]",
      "text/plain": [
       "<Figure size 432x288 with 1 Axes>"
      ]
     },
     "metadata": {
      "needs_background": "light"
     },
     "output_type": "display_data"
    },
    {
     "data": {
      "text/plain": [
       "<Figure size 432x288 with 0 Axes>"
      ]
     },
     "metadata": {},
     "output_type": "display_data"
    }
   ],
   "source": [
    "plt.plot(train_losses[0:50])\n",
    "plt.xlabel(\"epoch\")\n",
    "plt.ylabel(\"loss\")\n",
    "plt.figure()"
   ]
  },
  {
   "cell_type": "code",
   "execution_count": 21,
   "metadata": {},
   "outputs": [
    {
     "data": {
      "text/plain": [
       "<Figure size 432x288 with 0 Axes>"
      ]
     },
     "execution_count": 21,
     "metadata": {},
     "output_type": "execute_result"
    },
    {
     "data": {
      "image/png": "[encoded data removed]",
      "text/plain": [
       "<Figure size 432x288 with 1 Axes>"
      ]
     },
     "metadata": {
      "needs_background": "light"
     },
     "output_type": "display_data"
    },
    {
     "data": {
      "text/plain": [
       "<Figure size 432x288 with 0 Axes>"
      ]
     },
     "metadata": {},
     "output_type": "display_data"
    }
   ],
   "source": [
    "plt.plot(test_losses)\n",
    "plt.plot(train_losses)\n",
    "plt.xlabel(\"epoch\")\n",
    "plt.ylabel(\"loss\")\n",
    "plt.figure()"
   ]
  },
  {
   "cell_type": "code",
   "execution_count": 22,
   "metadata": {},
   "outputs": [
    {
     "data": {
      "text/plain": [
       "<Figure size 432x288 with 0 Axes>"
      ]
     },
     "execution_count": 22,
     "metadata": {},
     "output_type": "execute_result"
    },
    {
     "data": {
      "image/png": "[encoded data removed]",
      "text/plain": [
       "<Figure size 432x288 with 1 Axes>"
      ]
     },
     "metadata": {
      "needs_background": "light"
     },
     "output_type": "display_data"
    },
    {
     "data": {
      "text/plain": [
       "<Figure size 432x288 with 0 Axes>"
      ]
     },
     "metadata": {},
     "output_type": "display_data"
    }
   ],
   "source": [
    "plt.plot(test_losses)\n",
    "plt.xlabel(\"epoch\")\n",
    "plt.ylabel(\"loss\")\n",
    "plt.figure()"
   ]
  },
  {
   "cell_type": "code",
   "execution_count": null,
   "metadata": {},
   "outputs": [],
   "source": []
  },
  {
   "cell_type": "code",
   "execution_count": null,
   "metadata": {},
   "outputs": [],
   "source": []
  }
 ],
 "metadata": {
  "kernelspec": {
   "display_name": "Python 3",
   "language": "python",
   "name": "python3"
  },
  "language_info": {
   "codemirror_mode": {
    "name": "ipython",
    "version": 3
   },
   "file_extension": ".py",
   "mimetype": "text/x-python",
   "name": "python",
   "nbconvert_exporter": "python",
   "pygments_lexer": "ipython3",
   "version": "3.7.8"
  }
 },
 "nbformat": 4,
 "nbformat_minor": 4
}
