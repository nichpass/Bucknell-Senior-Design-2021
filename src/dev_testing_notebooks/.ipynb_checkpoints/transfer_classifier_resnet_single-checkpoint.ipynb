{
 "cells": [
  {
   "cell_type": "code",
   "execution_count": 2,
   "metadata": {},
   "outputs": [
    {
     "name": "stderr",
     "output_type": "stream",
     "text": [
      "In /usr/remote/anaconda-3.7-2020-05-28/lib/python3.7/site-packages/matplotlib/mpl-data/stylelib/_classic_test.mplstyle: \n",
      "The text.latex.preview rcparam was deprecated in Matplotlib 3.3 and will be removed two minor releases later.\n",
      "In /usr/remote/anaconda-3.7-2020-05-28/lib/python3.7/site-packages/matplotlib/mpl-data/stylelib/_classic_test.mplstyle: \n",
      "The mathtext.fallback_to_cm rcparam was deprecated in Matplotlib 3.3 and will be removed two minor releases later.\n",
      "In /usr/remote/anaconda-3.7-2020-05-28/lib/python3.7/site-packages/matplotlib/mpl-data/stylelib/_classic_test.mplstyle: Support for setting the 'mathtext.fallback_to_cm' rcParam is deprecated since 3.3 and will be removed two minor releases later; use 'mathtext.fallback : 'cm' instead.\n",
      "In /usr/remote/anaconda-3.7-2020-05-28/lib/python3.7/site-packages/matplotlib/mpl-data/stylelib/_classic_test.mplstyle: \n",
      "The validate_bool_maybe_none function was deprecated in Matplotlib 3.3 and will be removed two minor releases later.\n",
      "In /usr/remote/anaconda-3.7-2020-05-28/lib/python3.7/site-packages/matplotlib/mpl-data/stylelib/_classic_test.mplstyle: \n",
      "The savefig.jpeg_quality rcparam was deprecated in Matplotlib 3.3 and will be removed two minor releases later.\n",
      "In /usr/remote/anaconda-3.7-2020-05-28/lib/python3.7/site-packages/matplotlib/mpl-data/stylelib/_classic_test.mplstyle: \n",
      "The keymap.all_axes rcparam was deprecated in Matplotlib 3.3 and will be removed two minor releases later.\n",
      "In /usr/remote/anaconda-3.7-2020-05-28/lib/python3.7/site-packages/matplotlib/mpl-data/stylelib/_classic_test.mplstyle: \n",
      "The animation.avconv_path rcparam was deprecated in Matplotlib 3.3 and will be removed two minor releases later.\n",
      "In /usr/remote/anaconda-3.7-2020-05-28/lib/python3.7/site-packages/matplotlib/mpl-data/stylelib/_classic_test.mplstyle: \n",
      "The animation.avconv_args rcparam was deprecated in Matplotlib 3.3 and will be removed two minor releases later.\n"
     ]
    }
   ],
   "source": [
    "import os\n",
    "import torch\n",
    "import torchvision\n",
    "\n",
    "import h5py\n",
    "import deepdish as dd\n",
    "\n",
    "import torch.nn as nn\n",
    "import torch.nn.functional as F\n",
    "import torch.optim as optim\n",
    "\n",
    "import torchvision\n",
    "\n",
    "import matplotlib.pyplot as plt\n",
    "\n",
    "from PIL import Image\n",
    "from sklearn.metrics import roc_auc_score\n",
    "\n",
    "import tempfile\n",
    "import time\n",
    "import pickle as pkl"
   ]
  },
  {
   "cell_type": "code",
   "execution_count": 3,
   "metadata": {},
   "outputs": [
    {
     "data": {
      "text/plain": [
       "<torch._C.Generator at 0x7ff1a80821d0>"
      ]
     },
     "execution_count": 3,
     "metadata": {},
     "output_type": "execute_result"
    }
   ],
   "source": [
    "n_epochs = 50\n",
    "patience_limit = 20\n",
    "patience = 0\n",
    "batch_size_train = 4# was 64\n",
    "batch_size_test = 4\n",
    "learning_rate = 0.001\n",
    "momentum = 0.1\n",
    "log_interval = 31\n",
    "tt_factor = 0.8\n",
    "orientation = 'AP'\n",
    "num_imgs = 5000\n",
    "\n",
    "disease_to_train = 'Atelectasis'\n",
    "model_path = './data/saved_models/' + disease_to_train + '_binary.pth'\n",
    "\n",
    "random_seed = 1\n",
    "#torch.backends.cudnn.enabled = False\n",
    "torch.manual_seed(random_seed)"
   ]
  },
  {
   "cell_type": "code",
   "execution_count": 4,
   "metadata": {},
   "outputs": [],
   "source": [
    "''' \n",
    "    NOTES: \n",
    "    - it's \"No Finding\" not \"No findings\"\n",
    "    - it's \"Pleural_Thickening\" not \"Pleural_thickening\"\n",
    "    - it's not \"Nodule Mass\", but rather \"Nodule\" and \"Mass\" separately\n",
    "'''\n",
    "disease_map = {\"Atelectasis\" : 0, \"Consolidation\" : 1, \"Infiltration\" : 2, \"Pneumothorax\": 3, \"Edema\": 4,\n",
    "               \"Emphysema\": 5, \"Fibrosis\": 6, \"Effusion\" : 7, \"Pneumonia\" : 8, \"Pleural_Thickening\" : 9,\n",
    "               \"Cardiomegaly\" : 10, \"Nodule\" : 11, \"Mass\" : 12, \"Hernia\" : 13, \"No Finding\" : 14 }\n"
   ]
  },
  {
   "cell_type": "code",
   "execution_count": 5,
   "metadata": {},
   "outputs": [],
   "source": [
    "class GetLoader(torch.utils.data.Dataset):\n",
    "    '''\n",
    "        Params: data - the data dictionary\n",
    "                view - the orientation you want to look at\n",
    "                diseases - the diseases you would like to look at\n",
    "                num_imgs - the number of images of each disease you would like\n",
    "                factor - the ratio of training and testing data\n",
    "                typ - 0 for training, 1 for testing\n",
    "    '''\n",
    "    def __init__(self, data, view, diseases, num_imgs, factor, typ, transforms=None):\n",
    "        \n",
    "        #private data\n",
    "        self.root = os.path.join('data/sorted_images',)\n",
    "        self.data = data # dict object\n",
    "        self.transforms = transforms\n",
    "        self.len_data = 0\n",
    "        datalist = []\n",
    "        \n",
    "        #Creating the datalist\n",
    "        for i in range(len(diseases)):\n",
    "            if len(data[view][diseases[i]]) <= num_imgs: #if the folder has less images than the desired number of images\n",
    "                if typ == 0:\n",
    "                    start = 0\n",
    "                    end = int(len(data[view][diseases[i]])*factor)\n",
    "                else:\n",
    "                    start = int(len(data[view][diseases[i]])*factor)\n",
    "                    end = -1\n",
    "            else:\n",
    "                if typ == 0:\n",
    "                    start = 0\n",
    "                    end = int(num_imgs*factor)\n",
    "                else:\n",
    "                    start = int(num_imgs*factor)\n",
    "                    end = num_imgs\n",
    "            datalist.append(self.data[view][diseases[i]][start:end])\n",
    "        \n",
    "        for item in datalist:\n",
    "            self.len_data += len(item)\n",
    "        \n",
    "        \n",
    "        self.img_paths = []\n",
    "        self.img_labels = []\n",
    "        \n",
    "        for dis in datalist:\n",
    "            for data in dis:\n",
    "                #creating the image path\n",
    "                data['img_path'] = os.path.join(self.root, data['classes'][0], view, data['img_name'])            \n",
    "                diseases = data['classes']\n",
    "                \n",
    "                # TODO: we want the 1-hot vector for full-class net, not for 1 class net\n",
    "                # what is below is very much hardcoded\n",
    "                if data['classes'][0] != \"No Finding\":\n",
    "                    label = 1\n",
    "                else:\n",
    "                    label = 0\n",
    "                \n",
    "                label = torch.Tensor([label])\n",
    "\n",
    "#                 one_hot = [0] * 15\n",
    "#                 hot_index = disease_map[data['classes'][0]]\n",
    "#                 one_hot[hot_index] = 1\n",
    "#                 data['label_tensor'] = torch.Tensor(one_hot)\n",
    "                \n",
    "                #modifying the attributes\n",
    "                self.img_paths.append(data['img_path'])\n",
    "                self.img_labels.append(label)\n",
    "                # self.img_labels.append(data['label_tensor'])\n",
    "            \n",
    "\n",
    "    def __getitem__(self, item):\n",
    "        \n",
    "        img_path, img_label = self.img_paths[item], self.img_labels[item]\n",
    "  \n",
    "        # TODO: fix this hot fix -> recreate data object with underscore in name\n",
    "        img_path = img_path.replace('No Finding', 'No_Finding')\n",
    "        try:\n",
    "            img = Image.open(img_path).convert('RGB')\n",
    "        except:\n",
    "            img_path = img_path.replace('/AP/', '/PA/')\n",
    "            img = Image.open(img_path).convert('RGB')\n",
    "        self.cur_img_path = img_path\n",
    "\n",
    "        if self.transforms is not None:\n",
    "            for t in self.transforms:\n",
    "                img = t(img)\n",
    "\n",
    "        return img, img_label\n",
    "    \n",
    "    def get_img_path(self):\n",
    "        return self.cur_img_path\n",
    "\n",
    "    def __len__(self):\n",
    "        return self.len_data"
   ]
  },
  {
   "cell_type": "code",
   "execution_count": 6,
   "metadata": {},
   "outputs": [],
   "source": [
    "class GetLoader_w_val(torch.utils.data.Dataset):\n",
    "    '''\n",
    "        NOTE: I hardcoded this one a bit, basically splits validation set in half and gives it to test set\n",
    "    \n",
    "        Params: data - the data dictionary\n",
    "                view - the orientation you want to look at\n",
    "                diseases - the diseases you would like to look at\n",
    "                num_imgs - the number of images of each disease you would like\n",
    "                factor - the ratio of training and testing data\n",
    "                typ - 0 for training, 1 for testing\n",
    "    '''\n",
    "    def __init__(self, data, view, diseases, num_imgs, factor, typ, transforms=None):\n",
    "        \n",
    "        #private data\n",
    "        self.root = os.path.join('data/sorted_images',)\n",
    "        self.data = data # dict object\n",
    "        self.transforms = transforms\n",
    "        self.len_data = 0\n",
    "        datalist = []\n",
    "        \n",
    "        #Creating the datalist\n",
    "        for i in range(len(diseases)):                \n",
    "            \n",
    "            if len(data[view][diseases[i]]) <= num_imgs: #if the folder has less images than the desired number of images\n",
    "                if typ == 0:\n",
    "                    start = 0\n",
    "                    end = int(len(data[view][diseases[i]])*factor)\n",
    "                elif typ == 1:\n",
    "                    start = int(len(data[view][diseases[i]])*factor)\n",
    "                    end = int(len(data[view][diseases[i]])*factor + len(data[view][diseases[i]])*(1-factor) / 2)\n",
    "                else:\n",
    "                    start = int(len(data[view][diseases[i]])*factor + len(data[view][diseases[i]])*(1-factor) / 2)\n",
    "                    end = -1\n",
    "            else:\n",
    "                if typ == 0:\n",
    "                    start = 0\n",
    "                    end = int(num_imgs*factor)\n",
    "                elif typ == 1:\n",
    "                    start = int(num_imgs*factor)\n",
    "                    end = int(num_imgs*factor + num_imgs*(1-factor) / 2)\n",
    "                else:\n",
    "                    start = int(num_imgs*factor + num_imgs*(1-factor) / 2)\n",
    "                    end = num_imgs\n",
    "                    \n",
    "            #print('dis: ', diseases[i], ', type: ', typ, ', start: ', start, ', end:', end)\n",
    "            print('disease: ', diseases[i], 'num images used: ', min(len(data[view][diseases[i]]), num_imgs))\n",
    "            datalist.append(self.data[view][diseases[i]][start:end])\n",
    "        \n",
    "        for item in datalist:\n",
    "            self.len_data += len(item)\n",
    "        \n",
    "        \n",
    "        self.img_paths = []\n",
    "        self.img_labels = []\n",
    "        \n",
    "        for dis in datalist:\n",
    "            for data in dis:\n",
    "                #creating the image path\n",
    "                data['img_path'] = os.path.join(self.root, data['classes'][0], view, data['img_name'])            \n",
    "                diseases = data['classes']\n",
    "                \n",
    "                # TODO: we want the 1-hot vector for full-class net, not for 1 class net\n",
    "                # what is below is very much hardcoded\n",
    "                if data['classes'][0] != \"No Finding\":\n",
    "                    label = 1\n",
    "                else:\n",
    "                    label = 0\n",
    "                \n",
    "                label = torch.Tensor([label])\n",
    "                \n",
    "                #modifying the attributes\n",
    "                self.img_paths.append(data['img_path'])\n",
    "                self.img_labels.append(label)\n",
    "                # self.img_labels.append(data['label_tensor'])\n",
    "            \n",
    "\n",
    "    def __getitem__(self, item):\n",
    "        \n",
    "        img_path, img_label = self.img_paths[item], self.img_labels[item]\n",
    "  \n",
    "        # TODO: fix this hot fix -> recreate data object with underscore in name\n",
    "        img_path = img_path.replace('No Finding', 'No_Finding')\n",
    "        try:\n",
    "            img = Image.open(img_path).convert('RGB')\n",
    "        except:\n",
    "            img_path = img_path.replace('/AP/', '/PA/')\n",
    "            img = Image.open(img_path).convert('RGB')\n",
    "        self.cur_img_path = img_path\n",
    "\n",
    "        if self.transforms is not None:\n",
    "            for t in self.transforms:\n",
    "                img = t(img)\n",
    "\n",
    "        return img, img_label\n",
    "    \n",
    "    def get_img_path(self):\n",
    "        return self.cur_img_path\n",
    "\n",
    "    def __len__(self):\n",
    "        return self.len_data"
   ]
  },
  {
   "cell_type": "code",
   "execution_count": null,
   "metadata": {},
   "outputs": [],
   "source": []
  },
  {
   "cell_type": "markdown",
   "metadata": {},
   "source": [
    "### load in datasets"
   ]
  },
  {
   "cell_type": "code",
   "execution_count": 7,
   "metadata": {},
   "outputs": [
    {
     "name": "stdout",
     "output_type": "stream",
     "text": [
      "data loaded in successfully\n"
     ]
    }
   ],
   "source": [
    "pkl_load = open('dataset.pickle', 'rb')\n",
    "data = pkl.load(pkl_load)\n",
    "pkl_load.close()\n",
    "print(\"data loaded in successfully\")"
   ]
  },
  {
   "cell_type": "code",
   "execution_count": 7,
   "metadata": {},
   "outputs": [
    {
     "name": "stdout",
     "output_type": "stream",
     "text": [
      "dict_keys(['Atelectasis', 'Consolidation', 'Infiltration', 'Pneumothorax', 'Edema', 'Emphysema', 'Fibrosis', 'Effusion', 'Pneumonia', 'Pleural_Thickening', 'Cardiomegaly', 'Nodule', 'Mass', 'Hernia', 'No Finding'])\n"
     ]
    }
   ],
   "source": [
    "print(data['AP'].keys())"
   ]
  },
  {
   "cell_type": "code",
   "execution_count": 8,
   "metadata": {},
   "outputs": [
    {
     "name": "stdout",
     "output_type": "stream",
     "text": [
      "disease:  Atelectasis num images used:  5000\n",
      "disease:  No Finding num images used:  5000\n",
      "disease:  Atelectasis num images used:  5000\n",
      "disease:  No Finding num images used:  5000\n",
      "disease:  Atelectasis num images used:  5000\n",
      "disease:  No Finding num images used:  5000\n",
      "8000\n",
      "1000\n",
      "1000\n"
     ]
    }
   ],
   "source": [
    "transforms = [torchvision.transforms.ToTensor()] # no longer grayscale conversion\n",
    "#0 = train, 1 = test\n",
    "dataset_train = GetLoader_w_val(data, orientation, [disease_to_train.capitalize(), 'No Finding'],\n",
    "                          num_imgs, tt_factor, 0, transforms)\n",
    "dataset_valid = GetLoader_w_val(data, orientation, [disease_to_train.capitalize(), 'No Finding'],\n",
    "                          num_imgs, tt_factor, 1, transforms)\n",
    "dataset_test = GetLoader_w_val(data, orientation, [disease_to_train.capitalize(), 'No Finding'],\n",
    "                          num_imgs, tt_factor, 2, transforms)\n",
    "print(len(dataset_train))\n",
    "print(len(dataset_valid))\n",
    "print(len(dataset_test))"
   ]
  },
  {
   "cell_type": "code",
   "execution_count": 9,
   "metadata": {},
   "outputs": [
    {
     "name": "stdout",
     "output_type": "stream",
     "text": [
      "tensor([[0.0078, 0.0118, 0.0078,  ..., 0.0118, 0.0118, 0.0078],\n",
      "        [0.0157, 0.0235, 0.0196,  ..., 0.0235, 0.0196, 0.0118],\n",
      "        [0.0157, 0.0235, 0.0157,  ..., 0.0235, 0.0196, 0.0118],\n",
      "        ...,\n",
      "        [0.0078, 0.0157, 0.0157,  ..., 0.0196, 0.0196, 0.0118],\n",
      "        [0.0078, 0.0157, 0.0157,  ..., 0.0196, 0.0196, 0.0118],\n",
      "        [0.0039, 0.0078, 0.0078,  ..., 0.0118, 0.0118, 0.0078]])\n",
      "\n",
      "tensor([[0.0000, 0.0039, 0.0157,  ..., 0.0157, 0.0157, 0.0157],\n",
      "        [0.0000, 0.0078, 0.0275,  ..., 0.0275, 0.0275, 0.0275],\n",
      "        [0.0000, 0.0078, 0.0275,  ..., 0.0275, 0.0275, 0.0275],\n",
      "        ...,\n",
      "        [0.0000, 0.0118, 0.0392,  ..., 0.1843, 0.1922, 0.1686],\n",
      "        [0.0000, 0.0078, 0.0314,  ..., 0.0980, 0.1020, 0.1020],\n",
      "        [0.0000, 0.0000, 0.0000,  ..., 0.0000, 0.0000, 0.0000]])\n",
      "\n",
      "tensor([[0.0000, 0.0078, 0.0196,  ..., 0.0196, 0.0196, 0.0235],\n",
      "        [0.0000, 0.0118, 0.0353,  ..., 0.0275, 0.0275, 0.0353],\n",
      "        [0.0000, 0.0118, 0.0353,  ..., 0.0196, 0.0196, 0.0275],\n",
      "        ...,\n",
      "        [0.0000, 0.0157, 0.0431,  ..., 0.2353, 0.2078, 0.2431],\n",
      "        [0.0000, 0.0118, 0.0353,  ..., 0.2549, 0.2431, 0.2392],\n",
      "        [0.0000, 0.0000, 0.0000,  ..., 0.0000, 0.0000, 0.0000]])\n"
     ]
    }
   ],
   "source": [
    "print(dataset_train[0][0][0])\n",
    "print()\n",
    "print(dataset_test[0][0][0])\n",
    "print()\n",
    "print(dataset_valid[0][0][0])"
   ]
  },
  {
   "cell_type": "code",
   "execution_count": 10,
   "metadata": {},
   "outputs": [
    {
     "name": "stdout",
     "output_type": "stream",
     "text": [
      "2000\n",
      "250\n",
      "250\n"
     ]
    }
   ],
   "source": [
    "train_loader = torch.utils.data.DataLoader(dataset_train, batch_size=batch_size_train, shuffle=True, num_workers=1)\n",
    "test_loader = torch.utils.data.DataLoader(dataset_test, batch_size=batch_size_train, shuffle=True, num_workers=1)\n",
    "valid_loader = torch.utils.data.DataLoader(dataset_valid, batch_size=batch_size_train, shuffle=True, num_workers=1)\n",
    "print(len(train_loader))\n",
    "print(len(valid_loader))\n",
    "print(len(test_loader))"
   ]
  },
  {
   "cell_type": "code",
   "execution_count": 11,
   "metadata": {},
   "outputs": [
    {
     "name": "stderr",
     "output_type": "stream",
     "text": [
      "Using cache found in /home/npp002/.cache/torch/hub/pytorch_vision_v0.6.0\n"
     ]
    }
   ],
   "source": [
    "model = torch.hub.load('pytorch/vision:v0.6.0', 'resnet18', pretrained=True)"
   ]
  },
  {
   "cell_type": "code",
   "execution_count": 12,
   "metadata": {},
   "outputs": [
    {
     "data": {
      "text/plain": [
       "<bound method Module.children of ResNet(\n",
       "  (conv1): Conv2d(3, 64, kernel_size=(7, 7), stride=(2, 2), padding=(3, 3), bias=False)\n",
       "  (bn1): BatchNorm2d(64, eps=1e-05, momentum=0.1, affine=True, track_running_stats=True)\n",
       "  (relu): ReLU(inplace=True)\n",
       "  (maxpool): MaxPool2d(kernel_size=3, stride=2, padding=1, dilation=1, ceil_mode=False)\n",
       "  (layer1): Sequential(\n",
       "    (0): BasicBlock(\n",
       "      (conv1): Conv2d(64, 64, kernel_size=(3, 3), stride=(1, 1), padding=(1, 1), bias=False)\n",
       "      (bn1): BatchNorm2d(64, eps=1e-05, momentum=0.1, affine=True, track_running_stats=True)\n",
       "      (relu): ReLU(inplace=True)\n",
       "      (conv2): Conv2d(64, 64, kernel_size=(3, 3), stride=(1, 1), padding=(1, 1), bias=False)\n",
       "      (bn2): BatchNorm2d(64, eps=1e-05, momentum=0.1, affine=True, track_running_stats=True)\n",
       "    )\n",
       "    (1): BasicBlock(\n",
       "      (conv1): Conv2d(64, 64, kernel_size=(3, 3), stride=(1, 1), padding=(1, 1), bias=False)\n",
       "      (bn1): BatchNorm2d(64, eps=1e-05, momentum=0.1, affine=True, track_running_stats=True)\n",
       "      (relu): ReLU(inplace=True)\n",
       "      (conv2): Conv2d(64, 64, kernel_size=(3, 3), stride=(1, 1), padding=(1, 1), bias=False)\n",
       "      (bn2): BatchNorm2d(64, eps=1e-05, momentum=0.1, affine=True, track_running_stats=True)\n",
       "    )\n",
       "  )\n",
       "  (layer2): Sequential(\n",
       "    (0): BasicBlock(\n",
       "      (conv1): Conv2d(64, 128, kernel_size=(3, 3), stride=(2, 2), padding=(1, 1), bias=False)\n",
       "      (bn1): BatchNorm2d(128, eps=1e-05, momentum=0.1, affine=True, track_running_stats=True)\n",
       "      (relu): ReLU(inplace=True)\n",
       "      (conv2): Conv2d(128, 128, kernel_size=(3, 3), stride=(1, 1), padding=(1, 1), bias=False)\n",
       "      (bn2): BatchNorm2d(128, eps=1e-05, momentum=0.1, affine=True, track_running_stats=True)\n",
       "      (downsample): Sequential(\n",
       "        (0): Conv2d(64, 128, kernel_size=(1, 1), stride=(2, 2), bias=False)\n",
       "        (1): BatchNorm2d(128, eps=1e-05, momentum=0.1, affine=True, track_running_stats=True)\n",
       "      )\n",
       "    )\n",
       "    (1): BasicBlock(\n",
       "      (conv1): Conv2d(128, 128, kernel_size=(3, 3), stride=(1, 1), padding=(1, 1), bias=False)\n",
       "      (bn1): BatchNorm2d(128, eps=1e-05, momentum=0.1, affine=True, track_running_stats=True)\n",
       "      (relu): ReLU(inplace=True)\n",
       "      (conv2): Conv2d(128, 128, kernel_size=(3, 3), stride=(1, 1), padding=(1, 1), bias=False)\n",
       "      (bn2): BatchNorm2d(128, eps=1e-05, momentum=0.1, affine=True, track_running_stats=True)\n",
       "    )\n",
       "  )\n",
       "  (layer3): Sequential(\n",
       "    (0): BasicBlock(\n",
       "      (conv1): Conv2d(128, 256, kernel_size=(3, 3), stride=(2, 2), padding=(1, 1), bias=False)\n",
       "      (bn1): BatchNorm2d(256, eps=1e-05, momentum=0.1, affine=True, track_running_stats=True)\n",
       "      (relu): ReLU(inplace=True)\n",
       "      (conv2): Conv2d(256, 256, kernel_size=(3, 3), stride=(1, 1), padding=(1, 1), bias=False)\n",
       "      (bn2): BatchNorm2d(256, eps=1e-05, momentum=0.1, affine=True, track_running_stats=True)\n",
       "      (downsample): Sequential(\n",
       "        (0): Conv2d(128, 256, kernel_size=(1, 1), stride=(2, 2), bias=False)\n",
       "        (1): BatchNorm2d(256, eps=1e-05, momentum=0.1, affine=True, track_running_stats=True)\n",
       "      )\n",
       "    )\n",
       "    (1): BasicBlock(\n",
       "      (conv1): Conv2d(256, 256, kernel_size=(3, 3), stride=(1, 1), padding=(1, 1), bias=False)\n",
       "      (bn1): BatchNorm2d(256, eps=1e-05, momentum=0.1, affine=True, track_running_stats=True)\n",
       "      (relu): ReLU(inplace=True)\n",
       "      (conv2): Conv2d(256, 256, kernel_size=(3, 3), stride=(1, 1), padding=(1, 1), bias=False)\n",
       "      (bn2): BatchNorm2d(256, eps=1e-05, momentum=0.1, affine=True, track_running_stats=True)\n",
       "    )\n",
       "  )\n",
       "  (layer4): Sequential(\n",
       "    (0): BasicBlock(\n",
       "      (conv1): Conv2d(256, 512, kernel_size=(3, 3), stride=(2, 2), padding=(1, 1), bias=False)\n",
       "      (bn1): BatchNorm2d(512, eps=1e-05, momentum=0.1, affine=True, track_running_stats=True)\n",
       "      (relu): ReLU(inplace=True)\n",
       "      (conv2): Conv2d(512, 512, kernel_size=(3, 3), stride=(1, 1), padding=(1, 1), bias=False)\n",
       "      (bn2): BatchNorm2d(512, eps=1e-05, momentum=0.1, affine=True, track_running_stats=True)\n",
       "      (downsample): Sequential(\n",
       "        (0): Conv2d(256, 512, kernel_size=(1, 1), stride=(2, 2), bias=False)\n",
       "        (1): BatchNorm2d(512, eps=1e-05, momentum=0.1, affine=True, track_running_stats=True)\n",
       "      )\n",
       "    )\n",
       "    (1): BasicBlock(\n",
       "      (conv1): Conv2d(512, 512, kernel_size=(3, 3), stride=(1, 1), padding=(1, 1), bias=False)\n",
       "      (bn1): BatchNorm2d(512, eps=1e-05, momentum=0.1, affine=True, track_running_stats=True)\n",
       "      (relu): ReLU(inplace=True)\n",
       "      (conv2): Conv2d(512, 512, kernel_size=(3, 3), stride=(1, 1), padding=(1, 1), bias=False)\n",
       "      (bn2): BatchNorm2d(512, eps=1e-05, momentum=0.1, affine=True, track_running_stats=True)\n",
       "    )\n",
       "  )\n",
       "  (avgpool): AdaptiveAvgPool2d(output_size=(1, 1))\n",
       "  (fc): Sequential(\n",
       "    (0): Linear(in_features=512, out_features=1, bias=True)\n",
       "    (1): Sigmoid()\n",
       "  )\n",
       ")>"
      ]
     },
     "execution_count": 12,
     "metadata": {},
     "output_type": "execute_result"
    }
   ],
   "source": [
    "model.fc = nn.Sequential(*[\n",
    "    nn.Linear(in_features=512, out_features=1, bias=True),\n",
    "    nn.Sigmoid()\n",
    "])\n",
    "model.children"
   ]
  },
  {
   "cell_type": "code",
   "execution_count": 13,
   "metadata": {},
   "outputs": [
    {
     "name": "stdout",
     "output_type": "stream",
     "text": [
      "Trainable params: 11177025\n"
     ]
    }
   ],
   "source": [
    "network = model\n",
    "#network = torchvision.models.vgg11(pretrained=False)\n",
    "#network.fc = nn.Linear(512, 15)\n",
    "network = torch.nn.DataParallel(network)\n",
    "network.cuda()\n",
    "optimizer = optim.SGD(network.parameters(), lr=learning_rate,\n",
    "                      momentum=momentum)\n",
    "print('Trainable params: {}'.format(sum(p.numel() for p in network.parameters() if p.requires_grad)))"
   ]
  },
  {
   "cell_type": "code",
   "execution_count": 14,
   "metadata": {},
   "outputs": [],
   "source": [
    "## source: https://gist.github.com/the-bass/cae9f3976866776dea17a5049013258d\n",
    "def hard_binary_accuracy(batch, labels):\n",
    "    batch = torch.round(batch)\n",
    "    confusion_matrix = batch / labels\n",
    "    \n",
    "    \"\"\" Returns the confusion matrix for the values in the `prediction` and `truth`\n",
    "    tensors, i.e. the amount of positions where the values of `prediction`\n",
    "    and `truth` are\n",
    "    - 1 and 1 (True Positive)\n",
    "    - 1 and 0 (False Positive)\n",
    "    - 0 and 0 (True Negative)\n",
    "    - 0 and 1 (False Negative)\n",
    "    \"\"\"\n",
    "\n",
    "    confusion_matrix = batch / labels\n",
    "    # Element-wise division of the 2 tensors returns a new tensor which holds a\n",
    "    # unique value for each case:\n",
    "    #   1     where prediction and truth are 1 (True Positive)\n",
    "    #   inf   where prediction is 1 and truth is 0 (False Positive)\n",
    "    #   nan   where prediction and truth are 0 (True Negative)\n",
    "    #   0     where prediction is 0 and truth is 1 (False Negative)\n",
    "\n",
    "    true_positives = torch.sum(confusion_matrix == 1).item()\n",
    "    false_positives = torch.sum(confusion_matrix == float('inf')).item()\n",
    "    true_negatives = torch.sum(torch.isnan(confusion_matrix)).item()\n",
    "    false_negatives = torch.sum(confusion_matrix == 0).item()\n",
    "\n",
    "    return true_positives, false_positives, true_negatives, false_negatives\n"
   ]
  },
  {
   "cell_type": "code",
   "execution_count": 15,
   "metadata": {},
   "outputs": [
    {
     "data": {
      "text/plain": [
       "(4, 0, 4, 0)"
      ]
     },
     "execution_count": 15,
     "metadata": {},
     "output_type": "execute_result"
    }
   ],
   "source": [
    "b = torch.Tensor([[[1, 1], [0, 0]], \n",
    "                  [[1, 1], [0, 0]]])\n",
    "\n",
    "l = torch.Tensor([[[1, 1], [0, 0]], \n",
    "                  [[1, 1], [0, 0]]])\n",
    "hard_binary_accuracy(b, l)"
   ]
  },
  {
   "cell_type": "code",
   "execution_count": 16,
   "metadata": {},
   "outputs": [],
   "source": [
    "def train(epoch):\n",
    "\n",
    "    network.train()\n",
    "    train_losses = []\n",
    "    num_tested = 0\n",
    "    net_loss = 0\n",
    "    \n",
    "    total_true_pos, total_false_pos, total_true_neg, total_false_neg = 0, 0, 0, 0\n",
    "    \n",
    "    for batch_idx, (data, target) in enumerate(train_loader):  # (output - actual )\n",
    "        \n",
    "        if torch.cuda.is_available:\n",
    "            data, target = data.cuda(), target.cuda()\n",
    "\n",
    "        output = network(data)\n",
    "        \n",
    "        criterion = torch.nn.BCELoss()  # 1 0 1 0 0 0 \n",
    "        loss = criterion(output, target)\n",
    "        loss.backward()\n",
    "        \n",
    "        net_loss += loss.detach().cpu().item()\n",
    "        train_losses.append(loss.item())\n",
    "\n",
    "        num_tested += len(data)\n",
    "        \n",
    "        #if True or batch_idx == len(train_loader) - 1:\n",
    "        optimizer.step()\n",
    "        optimizer.zero_grad()\n",
    "\n",
    "        pred = output.detach().clone().cpu()\n",
    "        target = target.cpu()\n",
    "\n",
    "        true_pos, false_pos, true_neg, false_neg = hard_binary_accuracy(pred, target)\n",
    "        total_true_pos += true_pos\n",
    "        total_false_pos += false_pos\n",
    "        total_true_neg += true_neg\n",
    "        total_false_neg += false_neg\n",
    "            \n",
    "    net_loss /= (batch_size_train * len(train_loader))\n",
    "    return net_loss, total_true_pos, total_false_pos, total_true_neg, total_false_neg\n"
   ]
  },
  {
   "cell_type": "code",
   "execution_count": 17,
   "metadata": {},
   "outputs": [],
   "source": [
    "def test():\n",
    "    \n",
    "    network.eval()\n",
    "    test_losses = []\n",
    "    net_loss = 0    \n",
    "\n",
    "    total_true_pos, total_false_pos, total_true_neg, total_false_neg = 0, 0, 0, 0\n",
    "\n",
    "    with torch.no_grad():\n",
    "        for batch_idx, (data, target) in enumerate(valid_loader):\n",
    "            if torch.cuda.is_available:\n",
    "                data, target = data.cuda(), target.cuda()\n",
    "            \n",
    "            output = network(data)\n",
    "            \n",
    "            criterion = torch.nn.BCELoss()\n",
    "            net_loss += criterion(output, target).item()\n",
    "\n",
    "            pred = output.detach().clone().cpu()\n",
    "            target = target.cpu()\n",
    "            \n",
    "            true_pos, false_pos, true_neg, false_neg = hard_binary_accuracy(pred, target)\n",
    "            total_true_pos += true_pos\n",
    "            total_false_pos += false_pos\n",
    "            total_true_neg += true_neg\n",
    "            total_false_neg += false_neg\n",
    "            \n",
    "        \n",
    "    net_loss /= (batch_size_test * len(valid_loader))\n",
    "    return net_loss, total_true_pos, total_false_pos, total_true_neg, total_false_neg\n"
   ]
  },
  {
   "cell_type": "code",
   "execution_count": 18,
   "metadata": {},
   "outputs": [
    {
     "name": "stdout",
     "output_type": "stream",
     "text": [
      "1\n",
      "GeForce RTX 2080 Ti\n",
      "True\n"
     ]
    }
   ],
   "source": [
    "print(torch.cuda.device_count())\n",
    "print(torch.cuda.get_device_name(0))\n",
    "print(torch.cuda.is_available())"
   ]
  },
  {
   "cell_type": "code",
   "execution_count": 19,
   "metadata": {},
   "outputs": [
    {
     "name": "stdout",
     "output_type": "stream",
     "text": [
      "8000 1000\n"
     ]
    }
   ],
   "source": [
    "train_sample_size = len(train_loader) * batch_size_train\n",
    "valid_sample_size = len(valid_loader) * batch_size_test\n",
    "print(train_sample_size, valid_sample_size)"
   ]
  },
  {
   "cell_type": "code",
   "execution_count": 20,
   "metadata": {
    "scrolled": true
   },
   "outputs": [
    {
     "name": "stdout",
     "output_type": "stream",
     "text": [
      "Starting Training...\n",
      "-----------Epoch 1 (time = 255.28 s  aka   4.25  mins) ----------------\n",
      "Train set: Avg. loss: 0.1653,  Accuracy: 4811/8000 (60.14%)\n",
      "\n",
      "Test set:  Avg. loss: 0.1361, Accuracy: 736/1000 (73.60%)\n",
      "Epoch 1 --- saving new best model: test loss = 0.1361176642626524\n",
      "-----------Epoch 2 (time = 252.44 s  aka   4.21  mins) ----------------\n",
      "Train set: Avg. loss: 0.1564,  Accuracy: 5179/8000 (64.74%)\n",
      "\n",
      "Test set:  Avg. loss: 0.1665, Accuracy: 630/1000 (63.00%)\n",
      "-----------Epoch 3 (time = 252.21 s  aka   4.2  mins) ----------------\n",
      "Train set: Avg. loss: 0.1564,  Accuracy: 5229/8000 (65.36%)\n",
      "\n",
      "Test set:  Avg. loss: 0.1329, Accuracy: 744/1000 (74.40%)\n",
      "Epoch 3 --- saving new best model: test loss = 0.1329172038882971\n",
      "-----------Epoch 4 (time = 252.3 s  aka   4.21  mins) ----------------\n",
      "Train set: Avg. loss: 0.1505,  Accuracy: 5412/8000 (67.65%)\n",
      "\n",
      "Test set:  Avg. loss: 0.1405, Accuracy: 738/1000 (73.80%)\n",
      "-----------Epoch 5 (time = 252.13 s  aka   4.2  mins) ----------------\n",
      "Train set: Avg. loss: 0.1519,  Accuracy: 5352/8000 (66.90%)\n",
      "\n",
      "Test set:  Avg. loss: 0.1396, Accuracy: 704/1000 (70.40%)\n",
      "-----------Epoch 6 (time = 252.11 s  aka   4.2  mins) ----------------\n",
      "Train set: Avg. loss: 0.1511,  Accuracy: 5319/8000 (66.49%)\n",
      "\n",
      "Test set:  Avg. loss: 0.1400, Accuracy: 723/1000 (72.30%)\n",
      "-----------Epoch 7 (time = 252.07 s  aka   4.2  mins) ----------------\n",
      "Train set: Avg. loss: 0.1526,  Accuracy: 5358/8000 (66.97%)\n",
      "\n",
      "Test set:  Avg. loss: 0.1228, Accuracy: 787/1000 (78.70%)\n",
      "Epoch 7 --- saving new best model: test loss = 0.1228239204287529\n",
      "-----------Epoch 8 (time = 252.24 s  aka   4.2  mins) ----------------\n",
      "Train set: Avg. loss: 0.1484,  Accuracy: 5506/8000 (68.83%)\n",
      "\n",
      "Test set:  Avg. loss: 0.1352, Accuracy: 729/1000 (72.90%)\n",
      "-----------Epoch 9 (time = 252.18 s  aka   4.2  mins) ----------------\n",
      "Train set: Avg. loss: 0.1483,  Accuracy: 5498/8000 (68.72%)\n",
      "\n",
      "Test set:  Avg. loss: 0.1307, Accuracy: 762/1000 (76.20%)\n",
      "-----------Epoch 10 (time = 252.13 s  aka   4.2  mins) ----------------\n",
      "Train set: Avg. loss: 0.1480,  Accuracy: 5517/8000 (68.96%)\n",
      "\n",
      "Test set:  Avg. loss: 0.1183, Accuracy: 788/1000 (78.80%)\n",
      "Epoch 10 --- saving new best model: test loss = 0.11827481960505247\n",
      "-----------Epoch 11 (time = 252.29 s  aka   4.2  mins) ----------------\n",
      "Train set: Avg. loss: 0.1450,  Accuracy: 5558/8000 (69.47%)\n",
      "\n",
      "Test set:  Avg. loss: 0.1232, Accuracy: 770/1000 (77.00%)\n",
      "-----------Epoch 12 (time = 252.27 s  aka   4.2  mins) ----------------\n",
      "Train set: Avg. loss: 0.1437,  Accuracy: 5613/8000 (70.16%)\n",
      "\n",
      "Test set:  Avg. loss: 0.1351, Accuracy: 712/1000 (71.20%)\n",
      "-----------Epoch 13 (time = 252.79 s  aka   4.21  mins) ----------------\n",
      "Train set: Avg. loss: 0.1469,  Accuracy: 5470/8000 (68.38%)\n",
      "\n",
      "Test set:  Avg. loss: 0.1209, Accuracy: 772/1000 (77.20%)\n",
      "-----------Epoch 14 (time = 252.43 s  aka   4.21  mins) ----------------\n",
      "Train set: Avg. loss: 0.1452,  Accuracy: 5581/8000 (69.76%)\n",
      "\n",
      "Test set:  Avg. loss: 0.1175, Accuracy: 783/1000 (78.30%)\n",
      "Epoch 14 --- saving new best model: test loss = 0.11751503069698811\n",
      "-----------Epoch 15 (time = 252.25 s  aka   4.2  mins) ----------------\n",
      "Train set: Avg. loss: 0.1425,  Accuracy: 5628/8000 (70.35%)\n",
      "\n",
      "Test set:  Avg. loss: 0.1223, Accuracy: 779/1000 (77.90%)\n",
      "-----------Epoch 16 (time = 252.52 s  aka   4.21  mins) ----------------\n",
      "Train set: Avg. loss: 0.1429,  Accuracy: 5637/8000 (70.46%)\n",
      "\n",
      "Test set:  Avg. loss: 0.1378, Accuracy: 704/1000 (70.40%)\n",
      "-----------Epoch 17 (time = 252.72 s  aka   4.21  mins) ----------------\n",
      "Train set: Avg. loss: 0.1419,  Accuracy: 5620/8000 (70.25%)\n",
      "\n",
      "Test set:  Avg. loss: 0.1294, Accuracy: 748/1000 (74.80%)\n",
      "-----------Epoch 18 (time = 252.65 s  aka   4.21  mins) ----------------\n",
      "Train set: Avg. loss: 0.1430,  Accuracy: 5616/8000 (70.20%)\n",
      "\n",
      "Test set:  Avg. loss: 0.1584, Accuracy: 636/1000 (63.60%)\n",
      "-----------Epoch 19 (time = 252.73 s  aka   4.21  mins) ----------------\n",
      "Train set: Avg. loss: 0.1403,  Accuracy: 5715/8000 (71.44%)\n",
      "\n",
      "Test set:  Avg. loss: 0.1317, Accuracy: 744/1000 (74.40%)\n",
      "-----------Epoch 20 (time = 252.54 s  aka   4.21  mins) ----------------\n",
      "Train set: Avg. loss: 0.1424,  Accuracy: 5656/8000 (70.70%)\n",
      "\n",
      "Test set:  Avg. loss: 0.1227, Accuracy: 760/1000 (76.00%)\n",
      "-----------Epoch 21 (time = 252.53 s  aka   4.21  mins) ----------------\n",
      "Train set: Avg. loss: 0.1431,  Accuracy: 5631/8000 (70.39%)\n",
      "\n",
      "Test set:  Avg. loss: 0.1121, Accuracy: 795/1000 (79.50%)\n",
      "Epoch 21 --- saving new best model: test loss = 0.11212641851603986\n",
      "-----------Epoch 22 (time = 252.57 s  aka   4.21  mins) ----------------\n",
      "Train set: Avg. loss: 0.1398,  Accuracy: 5685/8000 (71.06%)\n",
      "\n",
      "Test set:  Avg. loss: 0.1170, Accuracy: 787/1000 (78.70%)\n",
      "-----------Epoch 23 (time = 252.79 s  aka   4.21  mins) ----------------\n",
      "Train set: Avg. loss: 0.1403,  Accuracy: 5676/8000 (70.95%)\n",
      "\n",
      "Test set:  Avg. loss: 0.1101, Accuracy: 805/1000 (80.50%)\n",
      "Epoch 23 --- saving new best model: test loss = 0.11005714722722769\n",
      "-----------Epoch 24 (time = 252.8 s  aka   4.21  mins) ----------------\n",
      "Train set: Avg. loss: 0.1366,  Accuracy: 5744/8000 (71.80%)\n",
      "\n",
      "Test set:  Avg. loss: 0.1304, Accuracy: 739/1000 (73.90%)\n",
      "-----------Epoch 25 (time = 252.98 s  aka   4.22  mins) ----------------\n",
      "Train set: Avg. loss: 0.1369,  Accuracy: 5792/8000 (72.40%)\n",
      "\n",
      "Test set:  Avg. loss: 0.1327, Accuracy: 732/1000 (73.20%)\n",
      "-----------Epoch 26 (time = 253.06 s  aka   4.22  mins) ----------------\n",
      "Train set: Avg. loss: 0.1357,  Accuracy: 5800/8000 (72.50%)\n",
      "\n",
      "Test set:  Avg. loss: 0.1184, Accuracy: 779/1000 (77.90%)\n",
      "-----------Epoch 27 (time = 253.17 s  aka   4.22  mins) ----------------\n",
      "Train set: Avg. loss: 0.1355,  Accuracy: 5816/8000 (72.70%)\n",
      "\n",
      "Test set:  Avg. loss: 0.1355, Accuracy: 725/1000 (72.50%)\n",
      "-----------Epoch 28 (time = 253.36 s  aka   4.22  mins) ----------------\n",
      "Train set: Avg. loss: 0.1353,  Accuracy: 5834/8000 (72.92%)\n",
      "\n",
      "Test set:  Avg. loss: 0.1227, Accuracy: 760/1000 (76.00%)\n",
      "-----------Epoch 29 (time = 253.43 s  aka   4.22  mins) ----------------\n",
      "Train set: Avg. loss: 0.1372,  Accuracy: 5770/8000 (72.12%)\n",
      "\n",
      "Test set:  Avg. loss: 0.1227, Accuracy: 763/1000 (76.30%)\n",
      "-----------Epoch 30 (time = 253.35 s  aka   4.22  mins) ----------------\n",
      "Train set: Avg. loss: 0.1365,  Accuracy: 5831/8000 (72.89%)\n",
      "\n",
      "Test set:  Avg. loss: 0.1364, Accuracy: 723/1000 (72.30%)\n",
      "-----------Epoch 31 (time = 253.57 s  aka   4.23  mins) ----------------\n",
      "Train set: Avg. loss: 0.1361,  Accuracy: 5814/8000 (72.67%)\n",
      "\n",
      "Test set:  Avg. loss: 0.1200, Accuracy: 781/1000 (78.10%)\n",
      "-----------Epoch 32 (time = 253.54 s  aka   4.23  mins) ----------------\n",
      "Train set: Avg. loss: 0.1361,  Accuracy: 5792/8000 (72.40%)\n",
      "\n",
      "Test set:  Avg. loss: 0.1499, Accuracy: 676/1000 (67.60%)\n",
      "-----------Epoch 33 (time = 253.9 s  aka   4.23  mins) ----------------\n",
      "Train set: Avg. loss: 0.1361,  Accuracy: 5821/8000 (72.76%)\n",
      "\n",
      "Test set:  Avg. loss: 0.1304, Accuracy: 733/1000 (73.30%)\n",
      "-----------Epoch 34 (time = 254.3 s  aka   4.24  mins) ----------------\n",
      "Train set: Avg. loss: 0.1375,  Accuracy: 5764/8000 (72.05%)\n",
      "\n",
      "Test set:  Avg. loss: 0.1268, Accuracy: 737/1000 (73.70%)\n",
      "-----------Epoch 35 (time = 254.63 s  aka   4.24  mins) ----------------\n",
      "Train set: Avg. loss: 0.1346,  Accuracy: 5846/8000 (73.08%)\n",
      "\n",
      "Test set:  Avg. loss: 0.1116, Accuracy: 803/1000 (80.30%)\n",
      "-----------Epoch 36 (time = 253.8 s  aka   4.23  mins) ----------------\n",
      "Train set: Avg. loss: 0.1353,  Accuracy: 5780/8000 (72.25%)\n",
      "\n",
      "Test set:  Avg. loss: 0.1092, Accuracy: 805/1000 (80.50%)\n",
      "Epoch 36 --- saving new best model: test loss = 0.10923950619250536\n",
      "-----------Epoch 37 (time = 253.54 s  aka   4.23  mins) ----------------\n",
      "Train set: Avg. loss: 0.1315,  Accuracy: 5892/8000 (73.65%)\n",
      "\n",
      "Test set:  Avg. loss: 0.1326, Accuracy: 736/1000 (73.60%)\n",
      "-----------Epoch 38 (time = 253.68 s  aka   4.23  mins) ----------------\n",
      "Train set: Avg. loss: 0.1333,  Accuracy: 5825/8000 (72.81%)\n",
      "\n",
      "Test set:  Avg. loss: 0.1127, Accuracy: 806/1000 (80.60%)\n",
      "-----------Epoch 39 (time = 253.24 s  aka   4.22  mins) ----------------\n",
      "Train set: Avg. loss: 0.1337,  Accuracy: 5842/8000 (73.03%)\n",
      "\n",
      "Test set:  Avg. loss: 0.1202, Accuracy: 779/1000 (77.90%)\n",
      "-----------Epoch 40 (time = 253.59 s  aka   4.23  mins) ----------------\n",
      "Train set: Avg. loss: 0.1338,  Accuracy: 5829/8000 (72.86%)\n",
      "\n",
      "Test set:  Avg. loss: 0.1365, Accuracy: 727/1000 (72.70%)\n",
      "-----------Epoch 41 (time = 254.43 s  aka   4.24  mins) ----------------\n",
      "Train set: Avg. loss: 0.1326,  Accuracy: 5874/8000 (73.42%)\n",
      "\n",
      "Test set:  Avg. loss: 0.1266, Accuracy: 764/1000 (76.40%)\n",
      "-----------Epoch 42 (time = 256.11 s  aka   4.27  mins) ----------------\n",
      "Train set: Avg. loss: 0.1352,  Accuracy: 5830/8000 (72.88%)\n",
      "\n",
      "Test set:  Avg. loss: 0.1252, Accuracy: 744/1000 (74.40%)\n",
      "-----------Epoch 43 (time = 254.49 s  aka   4.24  mins) ----------------\n",
      "Train set: Avg. loss: 0.1328,  Accuracy: 5894/8000 (73.67%)\n",
      "\n",
      "Test set:  Avg. loss: 0.1158, Accuracy: 793/1000 (79.30%)\n",
      "-----------Epoch 44 (time = 254.54 s  aka   4.24  mins) ----------------\n",
      "Train set: Avg. loss: 0.1350,  Accuracy: 5859/8000 (73.24%)\n",
      "\n",
      "Test set:  Avg. loss: 0.1038, Accuracy: 831/1000 (83.10%)\n",
      "Epoch 44 --- saving new best model: test loss = 0.10383169714361429\n",
      "-----------Epoch 45 (time = 254.51 s  aka   4.24  mins) ----------------\n",
      "Train set: Avg. loss: 0.1274,  Accuracy: 6011/8000 (75.14%)\n",
      "\n",
      "Test set:  Avg. loss: 0.1277, Accuracy: 759/1000 (75.90%)\n",
      "-----------Epoch 46 (time = 254.71 s  aka   4.25  mins) ----------------\n",
      "Train set: Avg. loss: 0.1295,  Accuracy: 5965/8000 (74.56%)\n",
      "\n",
      "Test set:  Avg. loss: 0.1428, Accuracy: 694/1000 (69.40%)\n",
      "-----------Epoch 47 (time = 254.81 s  aka   4.25  mins) ----------------\n",
      "Train set: Avg. loss: 0.1283,  Accuracy: 5997/8000 (74.96%)\n",
      "\n",
      "Test set:  Avg. loss: 0.1138, Accuracy: 802/1000 (80.20%)\n",
      "-----------Epoch 48 (time = 255.09 s  aka   4.25  mins) ----------------\n",
      "Train set: Avg. loss: 0.1291,  Accuracy: 5973/8000 (74.66%)\n",
      "\n",
      "Test set:  Avg. loss: 0.1159, Accuracy: 797/1000 (79.70%)\n",
      "-----------Epoch 49 (time = 300.82 s  aka   5.01  mins) ----------------\n",
      "Train set: Avg. loss: 0.1278,  Accuracy: 6002/8000 (75.03%)\n",
      "\n",
      "Test set:  Avg. loss: 0.1156, Accuracy: 785/1000 (78.50%)\n",
      "-----------Epoch 50 (time = 364.36 s  aka   6.07  mins) ----------------\n",
      "Train set: Avg. loss: 0.1297,  Accuracy: 5987/8000 (74.84%)\n",
      "\n",
      "Test set:  Avg. loss: 0.1232, Accuracy: 772/1000 (77.20%)\n",
      "Reloading best model from epoch 44\n",
      "Training complete (time = 12822.31 s)\n",
      "Saved model to ./data/saved_models/Atelectasis_binary.pth\n"
     ]
    }
   ],
   "source": [
    "print(\"Starting Training...\")\n",
    "begin_time = time.time()\n",
    "\n",
    "min_loss_test = 999\n",
    "\n",
    "train_losses = []\n",
    "test_losses = []\n",
    "\n",
    "train_acc = []\n",
    "test_acc = []\n",
    "\n",
    "train_true_pos = []\n",
    "train_false_pos = []\n",
    "train_true_neg = []\n",
    "train_false_neg = []\n",
    "\n",
    "test_true_pos = []\n",
    "test_false_pos = []\n",
    "test_true_neg = []\n",
    "test_false_neg = []\n",
    "\n",
    "best_model_file = tempfile.NamedTemporaryFile(mode='w+b', delete=False)\n",
    "torch.save(network.state_dict(), best_model_file.name)\n",
    "\n",
    "\n",
    "\n",
    "for epoch in range(1, n_epochs + 1):\n",
    "    start_time = time.time()\n",
    "    network.load_state_dict(torch.load(best_model_file.name))\n",
    "\n",
    "    loss_train, true_pos_train, false_pos_train, true_neg_train, false_neg_train = train(epoch)\n",
    "    loss_test, true_pos_test, false_pos_test, true_neg_test, false_neg_test = test()\n",
    "    \n",
    "    #print(\"tp / fp / tn / fn : \", true_pos_test, false_pos_test, true_neg_test, false_neg_test )\n",
    "    train_losses.append(loss_train)\n",
    "    test_losses.append(loss_test)\n",
    "    \n",
    "    n_correct_train = true_pos_train + true_neg_train\n",
    "    n_correct_test = true_pos_test + true_neg_test\n",
    "    \n",
    "    acc_train = 100. * n_correct_train / (train_sample_size )\n",
    "    acc_test = 100. * n_correct_test / (valid_sample_size)\n",
    "    \n",
    "    train_acc.append(acc_train)\n",
    "    test_acc.append(acc_test)\n",
    "    \n",
    "#     true_pos_rate_train = 100. * true_pos_train / (true_pos_train + false_pos_train)\n",
    "#     true_neg_rate_train = 100. * true_neg_train / (true_neg_train + false_neg_train)\n",
    "#     false_pos_rate_train = 100. * false_pos_train / (false_pos_train + true_neg_train)\n",
    "#     false_neg_rate_train = 100. * false_neg_train / (false_neg_train + true_pos_train)\n",
    "    \n",
    "#     true_pos_rate_test = 100. * true_pos_test / (true_pos_test + false_pos_test)\n",
    "#     true_neg_rate_test = 100. * true_neg_test / (true_neg_test + false_neg_test)\n",
    "#     false_pos_rate_test = 100. * false_pos_test / (false_pos_test + true_neg_test)\n",
    "#     false_neg_rate_test = 100. * false_neg_test / (false_neg_test + true_pos_test)\n",
    "\n",
    "    train_true_pos.append(true_pos_train)\n",
    "    train_false_pos.append(false_pos_train)\n",
    "    train_true_neg.append(true_neg_train)\n",
    "    train_false_neg.append(false_neg_train)\n",
    "\n",
    "    test_true_pos.append(true_pos_test)\n",
    "    test_false_pos.append(false_pos_test)\n",
    "    test_true_neg.append(true_neg_test)\n",
    "    test_false_neg.append(false_neg_test)\n",
    "        \n",
    "    auc_train = roc_auc_score\n",
    "\n",
    "        \n",
    "    elapsed_time = time.time() - start_time\n",
    "    \n",
    "    print(\"-----------Epoch \" + str(epoch) + \" (time =\", round(elapsed_time, 2), \"s  aka  \", round(elapsed_time / 60, 2), \" mins) ----------------\")\n",
    "    print('Train set: Avg. loss: {:.4f},  Accuracy: {}/{} ({:.2f}%)'.format(\n",
    "        loss_train, n_correct_train, train_sample_size, acc_train))\n",
    "#     print('''\n",
    "#           True Positive: {:.2f}%\n",
    "#           True Negative: {:.2f}%\n",
    "#           False Positive: {:.2f}%\n",
    "#           False Negative {:.2f}%\n",
    "#           '''.format(true_pos_rate_train, true_neg_rate_train, false_pos_rate_train, false_neg_rate_train))    \n",
    "    print('\\nTest set:  Avg. loss: {:.4f}, Accuracy: {}/{} ({:.2f}%)'.format(\n",
    "        loss_test, n_correct_test, valid_sample_size, acc_test))\n",
    "#     print('''\n",
    "#           True Positive: {:.2f}%\n",
    "#           True Negative: {:.2f}%\n",
    "#           False Positive: {:.2f}%\n",
    "#           False Negative {:.2f}%\n",
    "#           '''.format(true_pos_rate_test, true_neg_rate_test, false_pos_rate_test, false_neg_rate_test))\n",
    "    \n",
    "    \n",
    "    if loss_test < min_loss_test:\n",
    "        min_loss_test = loss_test\n",
    "        patience = 0\n",
    "        best_epoch = epoch\n",
    "        \n",
    "        print('Epoch {} --- saving new best model: test loss = {}'.format(epoch, loss_test))\n",
    "        torch.save(network.state_dict(), best_model_file.name)\n",
    "    else:\n",
    "        patience += 1\n",
    "        \n",
    "    if patience == patience_limit:\n",
    "        print('Breaking on patience={}'.format(patience))\n",
    "        break\n",
    "\n",
    "\n",
    "print('Reloading best model from epoch {}'.format(best_epoch))\n",
    "network.load_state_dict(torch.load(best_model_file.name))\n",
    "\n",
    "end_time = time.time() - begin_time\n",
    "\n",
    "print(\"Training complete (time =\", round(end_time, 2), \"s)\")\n",
    "torch.save(network.state_dict(), \n",
    "           os.path.join(model_path))\n",
    "print(\"Saved model to {}\".format(model_path))\n",
    "\n",
    "    "
   ]
  },
  {
   "cell_type": "code",
   "execution_count": 21,
   "metadata": {},
   "outputs": [
    {
     "name": "stdout",
     "output_type": "stream",
     "text": [
      "0.3787878787878788\n",
      "0.40594059405940597\n",
      "0.5176470588235295\n",
      "0.7058823529411765\n"
     ]
    }
   ],
   "source": [
    "print(50 / (50 + 82))\n",
    "print(82  / (82 + 120))\n",
    "print(88 / (88 + 82))\n",
    "print(120 / (120 + 50))"
   ]
  },
  {
   "cell_type": "code",
   "execution_count": 22,
   "metadata": {},
   "outputs": [
    {
     "data": {
      "text/plain": [
       "<matplotlib.legend.Legend at 0x7f8597b38f10>"
      ]
     },
     "execution_count": 22,
     "metadata": {},
     "output_type": "execute_result"
    },
    {
     "data": {
      "image/png": "[encoded data removed]",
      "text/plain": [
       "<Figure size 432x288 with 1 Axes>"
      ]
     },
     "metadata": {
      "needs_background": "light"
     },
     "output_type": "display_data"
    }
   ],
   "source": [
    "import matplotlib.pyplot as plt\n",
    "\n",
    "plt.figure()\n",
    "plt.title(\"Loss per Epoch\")\n",
    "plt.plot(train_losses, \"-b\",  label=\"train\")\n",
    "plt.plot(test_losses, \"-r\", label=\"test\")\n",
    "plt.xlabel('epoch')\n",
    "plt.ylabel('loss')\n",
    "plt.legend(loc=\"upper right\")"
   ]
  },
  {
   "cell_type": "code",
   "execution_count": 23,
   "metadata": {},
   "outputs": [
    {
     "data": {
      "text/plain": [
       "<matplotlib.legend.Legend at 0x7f8597a94110>"
      ]
     },
     "execution_count": 23,
     "metadata": {},
     "output_type": "execute_result"
    },
    {
     "data": {
      "image/png": "[encoded data removed]",
      "text/plain": [
       "<Figure size 432x288 with 1 Axes>"
      ]
     },
     "metadata": {
      "needs_background": "light"
     },
     "output_type": "display_data"
    }
   ],
   "source": [
    "import matplotlib.pyplot as plt\n",
    "\n",
    "plt.figure()\n",
    "plt.title(\"Accuracy per Epoch\")\n",
    "plt.plot(train_acc, \"-b\", label=\"train\")\n",
    "plt.plot(test_acc, \"-r\", label=\"test\")\n",
    "plt.xlabel('epoch')\n",
    "plt.ylabel('Accuracy')\n",
    "plt.legend(loc=\"upper right\")"
   ]
  },
  {
   "cell_type": "code",
   "execution_count": null,
   "metadata": {},
   "outputs": [],
   "source": []
  },
  {
   "cell_type": "code",
   "execution_count": 24,
   "metadata": {},
   "outputs": [
    {
     "name": "stdout",
     "output_type": "stream",
     "text": [
      "loaded all predictions with labels\n"
     ]
    }
   ],
   "source": [
    "preds = []\n",
    "labels = []\n",
    "for imgs, label in test_loader:\n",
    "    \n",
    "    pred = network(imgs)\n",
    "    pred = pred.detach().cpu().numpy()\n",
    "    label = label.detach().cpu().numpy()\n",
    "    \n",
    "    preds.append(pred)\n",
    "    \n",
    "    labels.append(label)\n",
    "\n",
    "print(\"loaded all predictions with labels\")"
   ]
  },
  {
   "cell_type": "code",
   "execution_count": 25,
   "metadata": {},
   "outputs": [
    {
     "name": "stdout",
     "output_type": "stream",
     "text": [
      "<class 'numpy.ndarray'>\n",
      "(1000,) (1000,)\n"
     ]
    }
   ],
   "source": [
    "import numpy as np\n",
    "preds_np = np.array([])\n",
    "labels_np = np.array([])\n",
    "print(type(preds_np))\n",
    "for p, l in zip(preds, labels):\n",
    "    p = p.reshape(1, -1)\n",
    "    l = l.reshape(1, -1)\n",
    "    preds_np = np.append(preds_np, p)\n",
    "    labels_np = np.append(labels_np, l)\n",
    "print(preds_np.shape, labels_np.shape)"
   ]
  },
  {
   "cell_type": "code",
   "execution_count": 26,
   "metadata": {},
   "outputs": [
    {
     "data": {
      "image/png": "[encoded data removed]",
      "text/plain": [
       "<Figure size 432x288 with 1 Axes>"
      ]
     },
     "metadata": {
      "needs_background": "light"
     },
     "output_type": "display_data"
    }
   ],
   "source": [
    "import sklearn.metrics as metrics\n",
    "import numpy as np\n",
    "from sklearn.metrics import roc_curve, auc\n",
    "from sklearn.model_selection import train_test_split\n",
    "from sklearn.preprocessing import label_binarize\n",
    "from sklearn.multiclass import OneVsRestClassifier\n",
    "from scipy import interp\n",
    "from sklearn.metrics import roc_auc_score\n",
    "\n",
    "# Compute ROC curve and ROC area for each class\n",
    "y_test = labels_np\n",
    "y_score = preds_np\n",
    "\n",
    "fpr, tpr, thresholds = metrics.roc_curve(y_test, y_score, pos_label=1)\n",
    "roc_auc = auc(fpr, tpr)\n",
    "\n",
    "plt.figure()\n",
    "lw = 2\n",
    "plt.plot(fpr, tpr, color='darkorange',\n",
    "         lw=lw, label='ROC curve (area = %0.2f)' % roc_auc)\n",
    "plt.plot([0, 1], [0, 1], color='navy', lw=lw, linestyle='--')\n",
    "plt.xlim([0.0, 1.0])\n",
    "plt.ylim([0.0, 1.05])\n",
    "plt.xlabel('False Positive Rate')\n",
    "plt.ylabel('True Positive Rate')\n",
    "plt.title('Receiver operating characteristic example')\n",
    "plt.legend(loc=\"lower right\")\n",
    "plt.show()"
   ]
  },
  {
   "cell_type": "code",
   "execution_count": 27,
   "metadata": {},
   "outputs": [
    {
     "name": "stdout",
     "output_type": "stream",
     "text": [
      "Best threshold:  0.5046378374099731\n"
     ]
    }
   ],
   "source": [
    "import math\n",
    "\n",
    "x = 0\n",
    "y = 1\n",
    "\n",
    "min_dist = 99\n",
    "min_thresh = 0.5\n",
    "mx = -1\n",
    "my = -1\n",
    "\n",
    "for x1, y1, t in zip(fpr, tpr, thresholds):\n",
    "    dist = math.sqrt( (x - x1)**2 + (y - y1)**2 )\n",
    "    if dist < min_dist:\n",
    "        min_dist = dist\n",
    "        min_thresh = t\n",
    "        mx = x1\n",
    "        my = y1\n",
    "print(\"Best threshold: \", min_thresh)"
   ]
  },
  {
   "cell_type": "code",
   "execution_count": null,
   "metadata": {},
   "outputs": [],
   "source": []
  },
  {
   "cell_type": "code",
   "execution_count": null,
   "metadata": {},
   "outputs": [],
   "source": []
  }
 ],
 "metadata": {
  "kernelspec": {
   "display_name": "Python 3",
   "language": "python",
   "name": "python3"
  },
  "language_info": {
   "codemirror_mode": {
    "name": "ipython",
    "version": 3
   },
   "file_extension": ".py",
   "mimetype": "text/x-python",
   "name": "python",
   "nbconvert_exporter": "python",
   "pygments_lexer": "ipython3",
   "version": "3.7.3"
  }
 },
 "nbformat": 4,
 "nbformat_minor": 4
}
