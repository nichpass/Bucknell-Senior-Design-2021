{
 "cells": [
  {
   "cell_type": "code",
   "execution_count": 1,
   "metadata": {},
   "outputs": [
    {
     "ename": "ModuleNotFoundError",
     "evalue": "No module named 'deepdish'",
     "output_type": "error",
     "traceback": [
      "\u001b[0;31m---------------------------------------------------------------------------\u001b[0m",
      "\u001b[0;31mModuleNotFoundError\u001b[0m                       Traceback (most recent call last)",
      "\u001b[0;32m<ipython-input-1-7845fdf74cc6>\u001b[0m in \u001b[0;36m<module>\u001b[0;34m\u001b[0m\n\u001b[1;32m      4\u001b[0m \u001b[0;34m\u001b[0m\u001b[0m\n\u001b[1;32m      5\u001b[0m \u001b[0;32mimport\u001b[0m \u001b[0mh5py\u001b[0m\u001b[0;34m\u001b[0m\u001b[0;34m\u001b[0m\u001b[0m\n\u001b[0;32m----> 6\u001b[0;31m \u001b[0;32mimport\u001b[0m \u001b[0mdeepdish\u001b[0m \u001b[0;32mas\u001b[0m \u001b[0mdd\u001b[0m\u001b[0;34m\u001b[0m\u001b[0;34m\u001b[0m\u001b[0m\n\u001b[0m\u001b[1;32m      7\u001b[0m \u001b[0;34m\u001b[0m\u001b[0m\n\u001b[1;32m      8\u001b[0m \u001b[0;32mimport\u001b[0m \u001b[0mtorch\u001b[0m\u001b[0;34m.\u001b[0m\u001b[0mnn\u001b[0m \u001b[0;32mas\u001b[0m \u001b[0mnn\u001b[0m\u001b[0;34m\u001b[0m\u001b[0;34m\u001b[0m\u001b[0m\n",
      "\u001b[0;31mModuleNotFoundError\u001b[0m: No module named 'deepdish'"
     ]
    }
   ],
   "source": [
    "import os\n",
    "import torch\n",
    "import torchvision\n",
    "\n",
    "import h5py\n",
    "import deepdish as dd\n",
    "\n",
    "import torch.nn as nn\n",
    "import torch.nn.functional as F\n",
    "import torch.optim as optim\n",
    "\n",
    "import torchvision\n",
    "\n",
    "import matplotlib.pyplot as plt\n",
    "\n",
    "from PIL import Image\n",
    "\n",
    "import time\n",
    "import pickle as pkl"
   ]
  },
  {
   "cell_type": "code",
   "execution_count": null,
   "metadata": {},
   "outputs": [],
   "source": [
    "n_epochs = 5\n",
    "batch_size_train = 32# was 64\n",
    "batch_size_test = 32\n",
    "learning_rate = 0.001\n",
    "momentum = 0.1\n",
    "log_interval = 31\n",
    "\n",
    "random_seed = 1\n",
    "#torch.backends.cudnn.enabled = False\n",
    "torch.manual_seed(random_seed)"
   ]
  },
  {
   "cell_type": "code",
   "execution_count": null,
   "metadata": {},
   "outputs": [],
   "source": [
    "''' \n",
    "    NOTES: \n",
    "    - it's \"No Finding\" not \"No findings\"\n",
    "    - it's \"Pleural_Thickening\" not \"Pleural_thickening\"\n",
    "    - it's not \"Nodule Mass\", but rather \"Nodule\" and \"Mass\" separately\n",
    "'''\n",
    "disease_map = {\"Atelectasis\" : 0, \"Consolidation\" : 1, \"Infiltration\" : 2, \"Pneumothorax\": 3, \"Edema\": 4,\n",
    "               \"Emphysema\": 5, \"Fibrosis\": 6, \"Effusion\" : 7, \"Pneumonia\" : 8, \"Pleural_Thickening\" : 9,\n",
    "               \"Cardiomegaly\" : 10, \"Nodule\" : 11, \"Mass\" : 12, \"Hernia\" : 13, \"No Finding\" : 14 }\n"
   ]
  },
  {
   "cell_type": "code",
   "execution_count": null,
   "metadata": {},
   "outputs": [],
   "source": [
    "class GetLoader(torch.utils.data.Dataset):\n",
    "    def __init__(self, data, view, diseases, start, stop, transforms=None):\n",
    "        \n",
    "        self.root = os.path.join('data/sorted_images',)\n",
    "        self.data = data # dict object\n",
    "        self.transforms = transforms\n",
    "            \n",
    "        datalist = []\n",
    "        \n",
    "        l = 0\n",
    "        for disease in diseases:\n",
    "            datalist.append(self.data[view][disease][start:stop]) # multiple diseases\n",
    "            l += len(datalist[-1])\n",
    "        \n",
    "        self.len_data = l\n",
    "        \n",
    "\n",
    "        # data objects at the lowest level are stored using this format:\n",
    "        # {'img_name': '00000011_006.png', 'classes': ['Atelectasis'], 'age': '75', 'gender': 'M'}\n",
    "        \n",
    "        for dataitem in datalist:\n",
    "        \n",
    "            for data in dataitem:\n",
    "\n",
    "                data['img_path'] = os.path.join(self.root, data['classes'][0], view, data['img_name'])            \n",
    "                diseases = data['classes']\n",
    "                one_hot = [0] * 15\n",
    "\n",
    "                for d in diseases:\n",
    "                    hot_index = disease_map[d]\n",
    "                    one_hot[hot_index] = 1\n",
    "\n",
    "                data['label_tensor'] = torch.Tensor(one_hot)\n",
    "            \n",
    "        self.img_paths = []\n",
    "        self.img_labels = []\n",
    "        \n",
    "        for i in range(len(datalist)):\n",
    "            self.img_paths.append(datalist[i]['img_path'])\n",
    "            self.img_labels.append(datalist[i]['label_tensor'])\n",
    "\n",
    "    def __getitem__(self, item):\n",
    "        \n",
    "        img_path, label = self.img_paths[item], self.img_labels[item]\n",
    "  \n",
    "        try:\n",
    "            img = (Image.open(img_path))\n",
    "        except:\n",
    "            img_path = img_path.replace('/AP/', '/PA/')\n",
    "            img = (Image.open(img_path))\n",
    "        #imgs = Image.open(img_paths) # .convert('RGB')\n",
    "        self.cur_img_path = img_path\n",
    "\n",
    "        label = label[11]\n",
    "        \n",
    "        if self.transforms is not None:\n",
    "            for t in self.transforms:\n",
    "                img = t(img)\n",
    "\n",
    "        return img, label\n",
    "    \n",
    "    def get_img_path(self):\n",
    "        return self.cur_img_path\n",
    "\n",
    "    def __len__(self):\n",
    "        return self.len_data"
   ]
  },
  {
   "cell_type": "markdown",
   "metadata": {},
   "source": [
    "### load in datasets"
   ]
  },
  {
   "cell_type": "code",
   "execution_count": null,
   "metadata": {},
   "outputs": [],
   "source": [
    "pkl_load = open('dataset.pickle', 'rb')\n",
    "data = pkl.load(pkl_load)\n",
    "pkl_load.close()\n",
    "print(\"data loaded in successfully\")"
   ]
  },
  {
   "cell_type": "code",
   "execution_count": null,
   "metadata": {},
   "outputs": [],
   "source": [
    "total = len(data['AP']['Nodule'])\n",
    "train_start, train_stop = 0, total * 4 // 5\n",
    "test_start, test_stop = train_stop, -1\n",
    "\n",
    "print(total)\n",
    "print(train_start, train_stop, test_start, test_stop)"
   ]
  },
  {
   "cell_type": "code",
   "execution_count": null,
   "metadata": {},
   "outputs": [],
   "source": [
    "transforms = [torchvision.transforms.Grayscale(), torchvision.transforms.ToTensor()]"
   ]
  },
  {
   "cell_type": "code",
   "execution_count": null,
   "metadata": {},
   "outputs": [],
   "source": [
    "dataset_train = GetLoader(data, 'AP', 'Nodule', train_start, train_stop, transforms)\n",
    "dataset_test = GetLoader(data, 'AP', 'Nodule', test_start, test_stop, transforms)"
   ]
  },
  {
   "cell_type": "code",
   "execution_count": null,
   "metadata": {},
   "outputs": [],
   "source": [
    "\n",
    "train_loader = torch.utils.data.DataLoader(dataset_train, batch_size=batch_size_train, shuffle=True)\n",
    "test_loader = torch.utils.data.DataLoader(dataset_test, batch_size=batch_size_train, shuffle=True)\n",
    "\n",
    "print(len(train_loader))\n",
    "print(len(test_loader))"
   ]
  },
  {
   "cell_type": "code",
   "execution_count": null,
   "metadata": {},
   "outputs": [],
   "source": [
    "class ConvBlock(nn.Module):\n",
    "    def __init__(self, n_filters_in, n_filters_out, kernel_size=3, stride=1, padding=0): #k=3, s=2, p=0 for down\n",
    "        super(ConvBlock, self).__init__()\n",
    "        ops = []\n",
    "        \n",
    "        ops.append(nn.Conv2d(n_filters_in, n_filters_out, kernel_size, padding=padding, stride=stride))\n",
    "        ops.append(nn.BatchNorm2d(n_filters_out))\n",
    "        ops.append(nn.ReLU(inplace=True))\n",
    "        \n",
    "        self.conv = nn.Sequential(*ops)\n",
    "        \n",
    "        \n",
    "    def forward(self, x):\n",
    "        x = self.conv(x)\n",
    "        return x"
   ]
  },
  {
   "cell_type": "code",
   "execution_count": null,
   "metadata": {},
   "outputs": [],
   "source": [
    "class Net(nn.Module):\n",
    "    def __init__(self):\n",
    "        super(Net, self).__init__()\n",
    "        self.conv1 = ConvBlock(1, 10, kernel_size=3, stride=2, padding=1) # 1024x1024 -> 512x512\n",
    "        self.conv2 = ConvBlock(10, 20, kernel_size=3, stride=2, padding=1) # 512x512 -> 256x256\n",
    "        self.conv3 = ConvBlock(20, 40, kernel_size=3, stride=2, padding=1) # 256x256 -> 128x128\n",
    "        self.conv4 = ConvBlock(40, 80, kernel_size=3, stride=2, padding=1) # 128x128 -> 64x64\n",
    "        self.conv5 = ConvBlock(80, 80, kernel_size=3, stride=2, padding=1) # 64x64 -> 32x32\n",
    "        self.conv_drop = nn.Dropout2d()\n",
    "        self.fc1 = nn.Linear(80 * 32 * 32, 100)\n",
    "        self.fc2 = nn.Linear(100, 15)  # changed output tto just output 1 value\n",
    "        self.fc3 = nn.Linear(15, 1)\n",
    "        self.sigmoid = nn.Sigmoid()\n",
    "    \n",
    "    \n",
    "    # hook for the gradients of the activations\n",
    "    def activations_hook(self, grad):\n",
    "        self.gradients = grad\n",
    "        \n",
    "    def forward(self, x):\n",
    "        x = self.conv1(x)\n",
    "        x = self.conv2(x)\n",
    "        x = self.conv3(x)\n",
    "        x = self.conv4(x)\n",
    "        # Final feature reduction - gradient map goes here\n",
    "        #if self.train and x.requires_grad:\n",
    "            #h = x.register_hook(self.activations_hook)\n",
    "        \n",
    "        x = self.conv5(x)\n",
    "        x = self.conv_drop(x)\n",
    "        \n",
    "        x = x.view(-1, 20 * 64 * 64)\n",
    "        x = F.relu(self.fc1(x))\n",
    "        x = F.dropout(x, training=self.training)\n",
    "        x = self.fc2(x)\n",
    "        x = F.relu(x)\n",
    "        x = self.fc3(x)\n",
    "        x = self.sigmoid(x)\n",
    "        return x\n",
    "    \n",
    "    def get_activations(self, x):\n",
    "        x = self.conv1(x)\n",
    "        x = self.conv2(x)\n",
    "        x = self.conv3(x)\n",
    "        x = self.conv4(x)\n",
    "        return x"
   ]
  },
  {
   "cell_type": "code",
   "execution_count": null,
   "metadata": {},
   "outputs": [],
   "source": [
    "network = Net()\n",
    "#network = torchvision.models.vgg11(pretrained=False)\n",
    "network.fc = nn.Linear(512, 15)\n",
    "network = torch.nn.DataParallel(network)\n",
    "network.cuda()\n",
    "optimizer = optim.SGD(network.parameters(), lr=learning_rate,\n",
    "                      momentum=momentum)\n",
    "print('Trainable params: {}'.format(sum(p.numel() for p in network.parameters() if p.requires_grad)))"
   ]
  },
  {
   "cell_type": "code",
   "execution_count": null,
   "metadata": {},
   "outputs": [],
   "source": [
    "def train(epoch):\n",
    "\n",
    "    network.train()\n",
    "    train_losses = []\n",
    "    correct = 0\n",
    "    num_tested = 0\n",
    "    net_loss = 0\n",
    "    \n",
    "    for batch_idx, (data, target) in enumerate(train_loader):  # (output - actual )\n",
    "        \n",
    "        if torch.cuda.is_available:\n",
    "            data, target = data.cuda(), target.cuda()\n",
    "\n",
    "        output = network(data)\n",
    "        \n",
    "        criterion = torch.nn.BCELoss()  # 1 0 1 0 0 0 \n",
    "        loss = criterion(output, target)\n",
    "        loss.backward()\n",
    "        \n",
    "        net_loss += loss.detach().cpu().item()\n",
    "        train_losses.append(loss.item())\n",
    "\n",
    "        num_tested += len(data)\n",
    "        \n",
    "        #if True or batch_idx == len(train_loader) - 1:\n",
    "        optimizer.step()\n",
    "        optimizer.zero_grad()\n",
    "\n",
    "        pred = output.detach().clone().cpu()\n",
    "        target = target.cpu()\n",
    "\n",
    "        for i in range(len(pred)):\n",
    "            if pred[i] > 0.5:\n",
    "                pred[i] = 1\n",
    "            else:\n",
    "                pred[i] = 0\n",
    "            \n",
    "        target = torch.unsqueeze(target, 1)\n",
    "\n",
    "        correct += torch.sum(torch.tensor(pred == target)).sum()\n",
    "        \n",
    "    net_loss /= len(train_loader)\n",
    "    return net_loss, correct\n"
   ]
  },
  {
   "cell_type": "code",
   "execution_count": null,
   "metadata": {},
   "outputs": [],
   "source": [
    "def test():\n",
    "    \n",
    "    network.eval()\n",
    "    test_losses = []\n",
    "    net_loss = 0\n",
    "    correct = 0\n",
    "    \n",
    "    num_tested = 0\n",
    "    \n",
    "    with torch.no_grad():\n",
    "        for batch_idx, (data, target) in enumerate(test_loader):\n",
    "            if torch.cuda.is_available:\n",
    "                data, target = data.cuda(), target.cuda()\n",
    "            \n",
    "            output = network(data)\n",
    "            criterion = torch.nn.BCELoss()\n",
    "            net_loss += criterion(output, target).item()\n",
    "\n",
    "            pred = output.detach().clone().cpu()\n",
    "            target = target.cpu()\n",
    "            \n",
    "            for i in range(len(pred)):\n",
    "                if pred[i] > 0.5:\n",
    "                    pred[i] = 1\n",
    "                else:\n",
    "                    pred[i] = 0\n",
    "\n",
    "            target = torch.unsqueeze(target, 1)\n",
    "\n",
    "            #print(\"pred.shape\", pred.shape, \"target shape=\", target.shape)\n",
    "            correct += torch.sum(torch.tensor(pred == target)).sum()\n",
    "            #print(\"correct: \", len(torch.tensor(pred == target)), correct)\n",
    "            #print(\"correct=\", correct.data)\n",
    "        \n",
    "    net_loss /= len(test_loader)\n",
    "    return net_loss, correct\n"
   ]
  },
  {
   "cell_type": "code",
   "execution_count": null,
   "metadata": {},
   "outputs": [],
   "source": [
    "print(torch.cuda.device_count())\n",
    "print(torch.cuda.get_device_name(0))\n",
    "print(torch.cuda.is_available())"
   ]
  },
  {
   "cell_type": "code",
   "execution_count": null,
   "metadata": {},
   "outputs": [],
   "source": [
    "train_sample_size = len(train_loader) * batch_size_train\n",
    "test_sample_size = len(test_loader) * batch_size_test\n",
    "print(train_sample_size, test_sample_size)"
   ]
  },
  {
   "cell_type": "code",
   "execution_count": null,
   "metadata": {},
   "outputs": [],
   "source": [
    "print(\"Starting Training...\")\n",
    "test()\n",
    "for epoch in range(1, n_epochs + 1):\n",
    "    start_time = time.time()\n",
    "\n",
    "    loss_train, n_correct_train = train(epoch)\n",
    "    loss_test, n_correct_test = test()\n",
    "    \n",
    "    elapsed_time = time.time() - start_time\n",
    "    print(\"-----------Epoch \" + str(epoch) + \" (time = \", round(elapsed_time, 2), \"s) ----------------\")\n",
    "    print('\\nTest set:  Avg. loss: {:.4f}, Accuracy: {}/{} ({:.0f}%)'.format(\n",
    "        loss_test, n_correct_test, test_sample_size, 100. * n_correct_test / test_sample_size))\n",
    "    print('Train set: Avg. loss: {:.4f}, Accuracy: {}/{} ({:.0f}%)\\n'.format(\n",
    "        loss_train, n_correct_train, train_sample_size, 100. * n_correct_train / train_sample_size))\n",
    "    "
   ]
  },
  {
   "cell_type": "markdown",
   "metadata": {},
   "source": [
    "### verifying components work below"
   ]
  },
  {
   "cell_type": "code",
   "execution_count": null,
   "metadata": {},
   "outputs": [],
   "source": [
    "train_loader = torch.utils.data.DataLoader(dataset_train, batch_size=batch_size_train, shuffle=True)\n",
    "img, label = next(iter(train_loader))\n",
    "print(\"displaying label vector vs network output:\")\n",
    "print(label[0])\n",
    "pred = network(img)\n",
    "print(pred[0].cpu().data)\n"
   ]
  },
  {
   "cell_type": "code",
   "execution_count": null,
   "metadata": {},
   "outputs": [],
   "source": [
    "print(\"displaying accumulation of loss over part of a batch\")\n",
    "for p in pred:\n",
    "\n",
    "    for i in range(len(p)):\n",
    "        if p[i] > 0.5:\n",
    "            p[i] = 1\n",
    "        else:\n",
    "            p[i] = 0\n",
    "#print(pred[0].cpu().data)\n",
    "\n",
    "criterion = nn.BCELoss()\n",
    "loss = 0\n",
    "for i in range(5):\n",
    "    loss += criterion(pred[i].cuda(), label[i].cuda())\n",
    "    print(\"sum of loss:\", loss)\n",
    "print(\"avg loss: \", loss / 5)"
   ]
  },
  {
   "cell_type": "code",
   "execution_count": null,
   "metadata": {},
   "outputs": [],
   "source": [
    "print(len(train_loader))\n",
    "print(len(pred))\n",
    "print(len(pred[0]))"
   ]
  },
  {
   "cell_type": "code",
   "execution_count": null,
   "metadata": {},
   "outputs": [],
   "source": []
  },
  {
   "cell_type": "code",
   "execution_count": null,
   "metadata": {},
   "outputs": [],
   "source": []
  },
  {
   "cell_type": "code",
   "execution_count": null,
   "metadata": {},
   "outputs": [],
   "source": []
  },
  {
   "cell_type": "code",
   "execution_count": null,
   "metadata": {},
   "outputs": [],
   "source": []
  }
 ],
 "metadata": {
  "kernelspec": {
   "display_name": "Python 3",
   "language": "python",
   "name": "python3"
  },
  "language_info": {
   "codemirror_mode": {
    "name": "ipython",
    "version": 3
   },
   "file_extension": ".py",
   "mimetype": "text/x-python",
   "name": "python",
   "nbconvert_exporter": "python",
   "pygments_lexer": "ipython3",
   "version": "3.7.3"
  }
 },
 "nbformat": 4,
 "nbformat_minor": 4
}
