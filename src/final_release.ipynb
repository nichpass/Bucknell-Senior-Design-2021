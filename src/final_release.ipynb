{
 "cells": [
  {
   "cell_type": "code",
   "execution_count": 1,
   "metadata": {},
   "outputs": [],
   "source": [
    "import os\n",
    "import torch\n",
    "import torchvision\n",
    "import statistics\n",
    "import copy\n",
    "import cv2\n",
    "\n",
    "from PIL import Image\n",
    "from skimage import measure\n",
    "\n",
    "import sklearn.metrics as metrics\n",
    "import numpy as np\n",
    "\n",
    "import pickle as pkl;\n",
    "\n",
    "import torch\n",
    "import torch.nn as nn\n",
    "import torch.nn.functional as F\n",
    "import torch.optim as optim\n",
    "import torchvision\n",
    "\n",
    "import util.constants as constants\n",
    "from util.bbox_methods import (ResNet,\n",
    "                               bbox_main,\n",
    "                               gen_state_dict\n",
    "                              )"
   ]
  },
  {
   "cell_type": "code",
   "execution_count": 2,
   "metadata": {},
   "outputs": [],
   "source": [
    "model_path = './saved_models/bbox_disease_classifier.pth'\n",
    "img_path = './beta_test_imgs/00004461_016.png'\n",
    "transform = torchvision.transforms.ToTensor()\n",
    "\n",
    "dis_pred_map =  {'Cardiomegaly': 0, 'Effusion': 1, 'Mass': 2, 'Nodule': 3,\n",
    "                 'Atelectasis': 4, 'Infiltration': 5, 'Pneumonia' : 6, 'Pneumothorax' : 7, 'No Finding': 8}\n",
    "has_disease_dict = {dis: False for dis in dis_pred_map.keys()}"
   ]
  },
  {
   "cell_type": "code",
   "execution_count": 3,
   "metadata": {},
   "outputs": [
    {
     "name": "stderr",
     "output_type": "stream",
     "text": [
      "Using cache found in /home/npp002/.cache/torch/hub/pytorch_vision_v0.6.0\n"
     ]
    },
    {
     "data": {
      "text/plain": [
       "<All keys matched successfully>"
      ]
     },
     "execution_count": 3,
     "metadata": {},
     "output_type": "execute_result"
    }
   ],
   "source": [
    "class_model = torch.hub.load('pytorch/vision:v0.6.0', 'resnet18', pretrained=False)\n",
    "\n",
    "class_model.fc = nn.Sequential(*[\n",
    "    nn.Linear(in_features=512, out_features=9, bias=True),\n",
    "    nn.Sigmoid(),\n",
    "])\n",
    "\n",
    "class_model = torch.nn.DataParallel(class_model)\n",
    "class_model.cuda();\n",
    "\n",
    "class_model.load_state_dict(gen_state_dict(model_path))"
   ]
  },
  {
   "cell_type": "code",
   "execution_count": 4,
   "metadata": {},
   "outputs": [],
   "source": [
    "img = Image.open(img_path).convert('RGB')\n",
    "img = transform(img).unsqueeze(0)"
   ]
  },
  {
   "cell_type": "code",
   "execution_count": 5,
   "metadata": {},
   "outputs": [],
   "source": [
    "class_model.eval()\n",
    "\n",
    "with torch.no_grad():\n",
    "    pred = class_model(img).cpu().numpy()[0]"
   ]
  },
  {
   "cell_type": "code",
   "execution_count": 6,
   "metadata": {},
   "outputs": [],
   "source": [
    "for d in has_disease_dict.keys():\n",
    "    pred_index = dis_pred_map[d]\n",
    "    has_disease_dict[d] = pred[pred_index] > constants.BEST_THRESHOLD[d]"
   ]
  },
  {
   "cell_type": "code",
   "execution_count": 7,
   "metadata": {},
   "outputs": [
    {
     "name": "stdout",
     "output_type": "stream",
     "text": [
      "---Results---\n",
      "Cardiomegaly    : True\n",
      "Effusion        : True\n",
      "Mass            : False\n",
      "Nodule          : False\n",
      "Atelectasis     : True\n",
      "Infiltration    : True\n",
      "Pneumonia       : True\n",
      "Pneumothorax    : False\n",
      "No Finding      : False\n"
     ]
    }
   ],
   "source": [
    "print('---Results---')\n",
    "\n",
    "for disease, status in has_disease_dict.items():\n",
    "    print(('{0:15} :').format(disease), status)"
   ]
  },
  {
   "cell_type": "code",
   "execution_count": null,
   "metadata": {},
   "outputs": [],
   "source": []
  }
 ],
 "metadata": {
  "kernelspec": {
   "display_name": "Python 3",
   "language": "python",
   "name": "python3"
  },
  "language_info": {
   "codemirror_mode": {
    "name": "ipython",
    "version": 3
   },
   "file_extension": ".py",
   "mimetype": "text/x-python",
   "name": "python",
   "nbconvert_exporter": "python",
   "pygments_lexer": "ipython3",
   "version": "3.7.7"
  }
 },
 "nbformat": 4,
 "nbformat_minor": 4
}
